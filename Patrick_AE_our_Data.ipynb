{
 "cells": [
  {
   "cell_type": "code",
   "execution_count": 1,
   "id": "0b59c59a",
   "metadata": {
    "pycharm": {
     "name": "#%%\n"
    }
   },
   "outputs": [],
   "source": [
    "import pandas as pd\n",
    "import scipy.io\n",
    "import os\n",
    "import mne\n",
    "import numpy as np\n",
    "from tqdm import tqdm\n",
    "import matplotlib.pyplot as plt\n",
    "import numpy as np\n",
    "import pandas as pd\n",
    "import tensorflow as tf\n",
    "import keras\n",
    "\n",
    "from mne.channels import make_standard_montage\n",
    "\n",
    "from sklearn.metrics import accuracy_score, precision_score, recall_score\n",
    "from sklearn.model_selection import train_test_split\n",
    "from tensorflow.keras import layers, losses\n",
    "from tensorflow.keras.datasets import fashion_mnist\n",
    "from tensorflow.keras.models import Model\n"
   ]
  },
  {
   "cell_type": "code",
   "execution_count": 2,
   "id": "c4545455",
   "metadata": {
    "pycharm": {
     "name": "#%%\n"
    }
   },
   "outputs": [],
   "source": [
    "data_dir = os.path.dirname(\"./data/\")\n",
    "data_files = os.listdir(data_dir)"
   ]
  },
  {
   "cell_type": "code",
   "execution_count": 3,
   "id": "afad41df",
   "metadata": {
    "pycharm": {
     "name": "#%%\n"
    }
   },
   "outputs": [],
   "source": [
    "def annotations_from_eGUI(raw, egui):\n",
    "    codes = []\n",
    "    starts = []\n",
    "    \n",
    "    current_state = None\n",
    "    \n",
    "    for i in range(len(egui)):\n",
    "        if egui[i][0] != current_state:\n",
    "            starts.append(i)\n",
    "            current_state = egui[i][0]\n",
    "            codes.append(str(egui[i][0]))\n",
    "    \n",
    "    starts.append(len(egui))\n",
    "    codes = np.array(codes)\n",
    "    sf = raw.info.get('sfreq')\n",
    "    starts = np.array(starts) / sf\n",
    "    durations = starts[1:] - starts[:-1]\n",
    "    starts = starts[:-1]\n",
    "    \n",
    "    raw.set_annotations(mne.Annotations(onset=starts, duration=durations, description=codes))\n",
    "            \n",
    "\n",
    "def raw_from_mat(file):\n",
    "    mat = scipy.io.loadmat(os.path.join(data_dir, file))\n",
    "    \n",
    "    sampling_freq = mat[\"o\"][0][0][2][0][0]\n",
    "    n_samples = mat[\"o\"][0][0][3][0][0]\n",
    "    ch_names = [element[0][0] for element in mat[\"o\"][0][0][6]]\n",
    "    \n",
    "    df = pd.DataFrame(mat[\"o\"][0][0][5], columns=ch_names)\n",
    "    df = df.drop(columns=[\"X5\"])\n",
    "    df = df.T\n",
    "    ch_names.remove(\"X5\")\n",
    "    \n",
    "    ch_types = ['eeg'] * 21\n",
    "    info = mne.create_info(ch_names, ch_types=ch_types, sfreq=sampling_freq)\n",
    "    raw = mne.io.RawArray(df.to_numpy(), info)\n",
    "    \n",
    "    montage = make_standard_montage(\"standard_prefixed\")\n",
    "    raw.set_montage(montage)\n",
    "    \n",
    "    raw.load_data().set_eeg_reference(ref_channels='average')\n",
    "    annotations_from_eGUI(raw, mat[\"o\"][0][0][4])\n",
    "    return raw\n",
    "\n",
    "\n",
    "def filter_raw(raw):\n",
    "    return raw.load_data().filter(0.1, 30, method=\"fir\", phase=\"zero-double\")"
   ]
  },
  {
   "cell_type": "code",
   "execution_count": 4,
   "id": "ec6f0760",
   "metadata": {
    "pycharm": {
     "name": "#%%\n"
    }
   },
   "outputs": [
    {
     "name": "stdout",
     "output_type": "stream",
     "text": [
      "Creating RawArray with float64 data, n_channels=21, n_times=664400\n",
      "    Range : 0 ... 664399 =      0.000 ...  3321.995 secs\n",
      "Ready.\n",
      "EEG channel type selected for re-referencing\n",
      "Applying average reference.\n",
      "Applying a custom ('EEG',) reference.\n",
      "Creating RawArray with float64 data, n_channels=21, n_times=664600\n",
      "    Range : 0 ... 664599 =      0.000 ...  3322.995 secs\n",
      "Ready.\n",
      "EEG channel type selected for re-referencing\n",
      "Applying average reference.\n",
      "Applying a custom ('EEG',) reference.\n",
      "Creating RawArray with float64 data, n_channels=21, n_times=662400\n",
      "    Range : 0 ... 662399 =      0.000 ...  3311.995 secs\n",
      "Ready.\n",
      "EEG channel type selected for re-referencing\n",
      "Applying average reference.\n",
      "Applying a custom ('EEG',) reference.\n",
      "Creating RawArray with float64 data, n_channels=21, n_times=667600\n",
      "    Range : 0 ... 667599 =      0.000 ...  3337.995 secs\n",
      "Ready.\n",
      "EEG channel type selected for re-referencing\n",
      "Applying average reference.\n",
      "Applying a custom ('EEG',) reference.\n",
      "Creating RawArray with float64 data, n_channels=21, n_times=734400\n",
      "    Range : 0 ... 734399 =      0.000 ...  3671.995 secs\n",
      "Ready.\n",
      "EEG channel type selected for re-referencing\n",
      "Applying average reference.\n",
      "Applying a custom ('EEG',) reference.\n",
      "Creating RawArray with float64 data, n_channels=21, n_times=667000\n",
      "    Range : 0 ... 666999 =      0.000 ...  3334.995 secs\n",
      "Ready.\n",
      "EEG channel type selected for re-referencing\n",
      "Applying average reference.\n",
      "Applying a custom ('EEG',) reference.\n",
      "Creating RawArray with float64 data, n_channels=21, n_times=678400\n",
      "    Range : 0 ... 678399 =      0.000 ...  3391.995 secs\n",
      "Ready.\n",
      "EEG channel type selected for re-referencing\n",
      "Applying average reference.\n",
      "Applying a custom ('EEG',) reference.\n",
      "Creating RawArray with float64 data, n_channels=21, n_times=475000\n",
      "    Range : 0 ... 474999 =      0.000 ...  2374.995 secs\n",
      "Ready.\n",
      "EEG channel type selected for re-referencing\n",
      "Applying average reference.\n",
      "Applying a custom ('EEG',) reference.\n",
      "Creating RawArray with float64 data, n_channels=21, n_times=391800\n",
      "    Range : 0 ... 391799 =      0.000 ...  1958.995 secs\n",
      "Ready.\n",
      "EEG channel type selected for re-referencing\n",
      "Applying average reference.\n",
      "Applying a custom ('EEG',) reference.\n",
      "Creating RawArray with float64 data, n_channels=21, n_times=285800\n",
      "    Range : 0 ... 285799 =      0.000 ...  1428.995 secs\n",
      "Ready.\n",
      "EEG channel type selected for re-referencing\n",
      "Applying average reference.\n",
      "Applying a custom ('EEG',) reference.\n"
     ]
    }
   ],
   "source": [
    "raw_NoMT = [raw_from_mat(file) for file in data_files if \"NoMT\" in file]\n",
    "raw_FREEFORM = [raw_from_mat(file) for file in data_files if \"FREEFORM\" in file]"
   ]
  },
  {
   "cell_type": "code",
   "execution_count": 5,
   "id": "e9eabc46",
   "metadata": {
    "pycharm": {
     "name": "#%%\n"
    }
   },
   "outputs": [],
   "source": [
    "def get_epochs(raw):\n",
    "    metadata_tmin, metadata_tmax = -1, 1\n",
    "\n",
    "    all_events, all_event_id = mne.events_from_annotations(raw)\n",
    "    metadata, events, event_id = mne.epochs.make_metadata(\n",
    "        events=all_events,\n",
    "        event_id=all_event_id,\n",
    "        tmin=metadata_tmin,\n",
    "        tmax=metadata_tmax,\n",
    "        sfreq=raw.info[\"sfreq\"],\n",
    "    )\n",
    "    return mne.Epochs(raw, events, event_id)\n"
   ]
  },
  {
   "cell_type": "code",
   "execution_count": 6,
   "id": "9cf5e96f",
   "metadata": {
    "pycharm": {
     "name": "#%%\n"
    }
   },
   "outputs": [
    {
     "name": "stdout",
     "output_type": "stream",
     "text": [
      "Used Annotations descriptions: ['0', '1', '2', '3', '4', '5', '6', '91', '92', '99']\n",
      "Not setting metadata\n",
      "1931 matching events found\n",
      "Setting baseline interval to [-0.2, 0.0] sec\n",
      "Applying baseline correction (mode: mean)\n",
      "0 projection items activated\n",
      "Used Annotations descriptions: ['0', '1', '2', '3', '4', '5', '6', '91', '92', '99']\n",
      "Not setting metadata\n",
      "1919 matching events found\n",
      "Setting baseline interval to [-0.2, 0.0] sec\n",
      "Applying baseline correction (mode: mean)\n",
      "0 projection items activated\n",
      "Used Annotations descriptions: ['0', '1', '2', '3', '4', '5', '6', '91', '92', '99']\n",
      "Not setting metadata\n",
      "1925 matching events found\n",
      "Setting baseline interval to [-0.2, 0.0] sec\n",
      "Applying baseline correction (mode: mean)\n",
      "0 projection items activated\n",
      "Used Annotations descriptions: ['0', '1', '2', '3', '4', '5', '6', '91', '92', '99']\n",
      "Not setting metadata\n",
      "1935 matching events found\n",
      "Setting baseline interval to [-0.2, 0.0] sec\n",
      "Applying baseline correction (mode: mean)\n",
      "0 projection items activated\n",
      "Used Annotations descriptions: ['0', '1', '2', '3', '4', '5', '6', '91', '92', '99']\n",
      "Not setting metadata\n",
      "1935 matching events found\n",
      "Setting baseline interval to [-0.2, 0.0] sec\n",
      "Applying baseline correction (mode: mean)\n",
      "0 projection items activated\n",
      "Used Annotations descriptions: ['0', '1', '2', '3', '4', '5', '6', '91', '92', '99']\n",
      "Not setting metadata\n",
      "1935 matching events found\n",
      "Setting baseline interval to [-0.2, 0.0] sec\n",
      "Applying baseline correction (mode: mean)\n",
      "0 projection items activated\n",
      "Used Annotations descriptions: ['0', '1', '2', '3', '4', '5', '6', '91', '92', '99']\n",
      "Not setting metadata\n",
      "1933 matching events found\n",
      "Setting baseline interval to [-0.2, 0.0] sec\n",
      "Applying baseline correction (mode: mean)\n",
      "0 projection items activated\n",
      "Used Annotations descriptions: ['0', '1', '2', '99']\n",
      "Not setting metadata\n",
      "1481 matching events found\n",
      "Setting baseline interval to [-0.2, 0.0] sec\n",
      "Applying baseline correction (mode: mean)\n",
      "0 projection items activated\n",
      "Used Annotations descriptions: ['0', '1', '2', '99']\n",
      "Not setting metadata\n",
      "1383 matching events found\n",
      "Setting baseline interval to [-0.2, 0.0] sec\n",
      "Applying baseline correction (mode: mean)\n",
      "0 projection items activated\n",
      "Used Annotations descriptions: ['0', '1', '2', '99']\n",
      "Not setting metadata\n",
      "1409 matching events found\n",
      "Setting baseline interval to [-0.2, 0.0] sec\n",
      "Applying baseline correction (mode: mean)\n",
      "0 projection items activated\n"
     ]
    }
   ],
   "source": [
    "epochs_NoMT = [get_epochs(file) for file in raw_NoMT]\n",
    "epochs_FREEFORM = [get_epochs(file) for file in raw_FREEFORM]\n"
   ]
  },
  {
   "cell_type": "code",
   "execution_count": 7,
   "id": "f4373764",
   "metadata": {
    "pycharm": {
     "name": "#%%\n"
    }
   },
   "outputs": [
    {
     "name": "stdout",
     "output_type": "stream",
     "text": [
      "Using data from preloaded Raw for 1931 events and 141 original time points ...\n",
      "1 bad epochs dropped\n"
     ]
    },
    {
     "data": {
      "text/plain": "865.3172938443672"
     },
     "execution_count": 7,
     "metadata": {},
     "output_type": "execute_result"
    }
   ],
   "source": [
    "epochs_NoMT[0].get_data().max()"
   ]
  },
  {
   "cell_type": "code",
   "execution_count": 8,
   "id": "35e8d8b6",
   "metadata": {
    "pycharm": {
     "name": "#%%\n"
    }
   },
   "outputs": [
    {
     "name": "stdout",
     "output_type": "stream",
     "text": [
      "Using data from preloaded Raw for 1481 events and 141 original time points ...\n",
      "1 bad epochs dropped\n"
     ]
    },
    {
     "data": {
      "text/plain": "158.92792102206735"
     },
     "execution_count": 8,
     "metadata": {},
     "output_type": "execute_result"
    }
   ],
   "source": [
    "epochs_FREEFORM[0].get_data().max()"
   ]
  },
  {
   "cell_type": "code",
   "execution_count": 9,
   "id": "e934bea2",
   "metadata": {
    "pycharm": {
     "name": "#%%\n"
    }
   },
   "outputs": [
    {
     "name": "stdout",
     "output_type": "stream",
     "text": [
      "Using data from preloaded Raw for 1930 events and 141 original time points ...\n",
      "Using data from preloaded Raw for 1919 events and 141 original time points ...\n",
      "1 bad epochs dropped\n",
      "Using data from preloaded Raw for 1925 events and 141 original time points ...\n",
      "1 bad epochs dropped\n",
      "Using data from preloaded Raw for 1935 events and 141 original time points ...\n",
      "1 bad epochs dropped\n",
      "Using data from preloaded Raw for 1935 events and 141 original time points ...\n",
      "1 bad epochs dropped\n",
      "Using data from preloaded Raw for 1935 events and 141 original time points ...\n",
      "1 bad epochs dropped\n",
      "Using data from preloaded Raw for 1933 events and 141 original time points ...\n",
      "1 bad epochs dropped\n",
      "Using data from preloaded Raw for 1480 events and 141 original time points ...\n",
      "Using data from preloaded Raw for 1383 events and 141 original time points ...\n",
      "1 bad epochs dropped\n",
      "Using data from preloaded Raw for 1409 events and 141 original time points ...\n",
      "1 bad epochs dropped\n"
     ]
    }
   ],
   "source": [
    "epochs_data_NOMT = [file.get_data() for file in epochs_NoMT]\n",
    "epochs_data_FREEFORM = [file.get_data() for file in epochs_FREEFORM]"
   ]
  },
  {
   "cell_type": "code",
   "execution_count": 9,
   "id": "1b8bc4a7",
   "metadata": {
    "pycharm": {
     "name": "#%%\n"
    }
   },
   "outputs": [],
   "source": []
  },
  {
   "cell_type": "code",
   "execution_count": 10,
   "id": "99b431a5",
   "metadata": {
    "pycharm": {
     "name": "#%%\n"
    }
   },
   "outputs": [],
   "source": [
    "stacked_NOMT = np.vstack(epochs_data_NOMT)\n",
    "stacked_FREEFORM = np.vstack(epochs_data_FREEFORM)"
   ]
  },
  {
   "cell_type": "code",
   "execution_count": 11,
   "id": "a545cd4f",
   "metadata": {
    "pycharm": {
     "name": "#%%\n"
    }
   },
   "outputs": [],
   "source": [
    "df_No_MT = pd.DataFrame().append(raw_NoMT,ignore_index=True)\n",
    "df_FREE = pd.DataFrame().append(raw_FREEFORM,ignore_index=True)\n"
   ]
  },
  {
   "cell_type": "code",
   "execution_count": 12,
   "id": "f5eef682",
   "metadata": {
    "pycharm": {
     "name": "#%%\n"
    }
   },
   "outputs": [
    {
     "data": {
      "text/plain": "(7, 1)"
     },
     "execution_count": 12,
     "metadata": {},
     "output_type": "execute_result"
    }
   ],
   "source": [
    "df_No_MT.shape"
   ]
  },
  {
   "cell_type": "code",
   "execution_count": 13,
   "id": "011ad4db",
   "metadata": {
    "pycharm": {
     "name": "#%%\n"
    }
   },
   "outputs": [
    {
     "ename": "ValueError",
     "evalue": "All picks must be < n_channels (21), got 21",
     "output_type": "error",
     "traceback": [
      "\u001B[1;31m---------------------------------------------------------------------------\u001B[0m",
      "\u001B[1;31mValueError\u001B[0m                                Traceback (most recent call last)",
      "\u001B[1;32m~\\Documents\\GitHub\\Nueorinformatics_project\\venv\\lib\\site-packages\\IPython\\core\\formatters.py\u001B[0m in \u001B[0;36m__call__\u001B[1;34m(self, obj)\u001B[0m\n\u001B[0;32m    700\u001B[0m                 \u001B[0mtype_pprinters\u001B[0m\u001B[1;33m=\u001B[0m\u001B[0mself\u001B[0m\u001B[1;33m.\u001B[0m\u001B[0mtype_printers\u001B[0m\u001B[1;33m,\u001B[0m\u001B[1;33m\u001B[0m\u001B[1;33m\u001B[0m\u001B[0m\n\u001B[0;32m    701\u001B[0m                 deferred_pprinters=self.deferred_printers)\n\u001B[1;32m--> 702\u001B[1;33m             \u001B[0mprinter\u001B[0m\u001B[1;33m.\u001B[0m\u001B[0mpretty\u001B[0m\u001B[1;33m(\u001B[0m\u001B[0mobj\u001B[0m\u001B[1;33m)\u001B[0m\u001B[1;33m\u001B[0m\u001B[1;33m\u001B[0m\u001B[0m\n\u001B[0m\u001B[0;32m    703\u001B[0m             \u001B[0mprinter\u001B[0m\u001B[1;33m.\u001B[0m\u001B[0mflush\u001B[0m\u001B[1;33m(\u001B[0m\u001B[1;33m)\u001B[0m\u001B[1;33m\u001B[0m\u001B[1;33m\u001B[0m\u001B[0m\n\u001B[0;32m    704\u001B[0m             \u001B[1;32mreturn\u001B[0m \u001B[0mstream\u001B[0m\u001B[1;33m.\u001B[0m\u001B[0mgetvalue\u001B[0m\u001B[1;33m(\u001B[0m\u001B[1;33m)\u001B[0m\u001B[1;33m\u001B[0m\u001B[1;33m\u001B[0m\u001B[0m\n",
      "\u001B[1;32m~\\Documents\\GitHub\\Nueorinformatics_project\\venv\\lib\\site-packages\\IPython\\lib\\pretty.py\u001B[0m in \u001B[0;36mpretty\u001B[1;34m(self, obj)\u001B[0m\n\u001B[0;32m    392\u001B[0m                         \u001B[1;32mif\u001B[0m \u001B[0mcls\u001B[0m \u001B[1;32mis\u001B[0m \u001B[1;32mnot\u001B[0m \u001B[0mobject\u001B[0m\u001B[0;31m \u001B[0m\u001B[0;31m\\\u001B[0m\u001B[1;33m\u001B[0m\u001B[1;33m\u001B[0m\u001B[0m\n\u001B[0;32m    393\u001B[0m                                 \u001B[1;32mand\u001B[0m \u001B[0mcallable\u001B[0m\u001B[1;33m(\u001B[0m\u001B[0mcls\u001B[0m\u001B[1;33m.\u001B[0m\u001B[0m__dict__\u001B[0m\u001B[1;33m.\u001B[0m\u001B[0mget\u001B[0m\u001B[1;33m(\u001B[0m\u001B[1;34m'__repr__'\u001B[0m\u001B[1;33m)\u001B[0m\u001B[1;33m)\u001B[0m\u001B[1;33m:\u001B[0m\u001B[1;33m\u001B[0m\u001B[1;33m\u001B[0m\u001B[0m\n\u001B[1;32m--> 394\u001B[1;33m                             \u001B[1;32mreturn\u001B[0m \u001B[0m_repr_pprint\u001B[0m\u001B[1;33m(\u001B[0m\u001B[0mobj\u001B[0m\u001B[1;33m,\u001B[0m \u001B[0mself\u001B[0m\u001B[1;33m,\u001B[0m \u001B[0mcycle\u001B[0m\u001B[1;33m)\u001B[0m\u001B[1;33m\u001B[0m\u001B[1;33m\u001B[0m\u001B[0m\n\u001B[0m\u001B[0;32m    395\u001B[0m \u001B[1;33m\u001B[0m\u001B[0m\n\u001B[0;32m    396\u001B[0m             \u001B[1;32mreturn\u001B[0m \u001B[0m_default_pprint\u001B[0m\u001B[1;33m(\u001B[0m\u001B[0mobj\u001B[0m\u001B[1;33m,\u001B[0m \u001B[0mself\u001B[0m\u001B[1;33m,\u001B[0m \u001B[0mcycle\u001B[0m\u001B[1;33m)\u001B[0m\u001B[1;33m\u001B[0m\u001B[1;33m\u001B[0m\u001B[0m\n",
      "\u001B[1;32m~\\Documents\\GitHub\\Nueorinformatics_project\\venv\\lib\\site-packages\\IPython\\lib\\pretty.py\u001B[0m in \u001B[0;36m_repr_pprint\u001B[1;34m(obj, p, cycle)\u001B[0m\n\u001B[0;32m    698\u001B[0m     \u001B[1;34m\"\"\"A pprint that just redirects to the normal repr function.\"\"\"\u001B[0m\u001B[1;33m\u001B[0m\u001B[1;33m\u001B[0m\u001B[0m\n\u001B[0;32m    699\u001B[0m     \u001B[1;31m# Find newlines and replace them with p.break_()\u001B[0m\u001B[1;33m\u001B[0m\u001B[1;33m\u001B[0m\u001B[1;33m\u001B[0m\u001B[0m\n\u001B[1;32m--> 700\u001B[1;33m     \u001B[0moutput\u001B[0m \u001B[1;33m=\u001B[0m \u001B[0mrepr\u001B[0m\u001B[1;33m(\u001B[0m\u001B[0mobj\u001B[0m\u001B[1;33m)\u001B[0m\u001B[1;33m\u001B[0m\u001B[1;33m\u001B[0m\u001B[0m\n\u001B[0m\u001B[0;32m    701\u001B[0m     \u001B[0mlines\u001B[0m \u001B[1;33m=\u001B[0m \u001B[0moutput\u001B[0m\u001B[1;33m.\u001B[0m\u001B[0msplitlines\u001B[0m\u001B[1;33m(\u001B[0m\u001B[1;33m)\u001B[0m\u001B[1;33m\u001B[0m\u001B[1;33m\u001B[0m\u001B[0m\n\u001B[0;32m    702\u001B[0m     \u001B[1;32mwith\u001B[0m \u001B[0mp\u001B[0m\u001B[1;33m.\u001B[0m\u001B[0mgroup\u001B[0m\u001B[1;33m(\u001B[0m\u001B[1;33m)\u001B[0m\u001B[1;33m:\u001B[0m\u001B[1;33m\u001B[0m\u001B[1;33m\u001B[0m\u001B[0m\n",
      "\u001B[1;32m~\\Documents\\GitHub\\Nueorinformatics_project\\venv\\lib\\site-packages\\pandas\\core\\frame.py\u001B[0m in \u001B[0;36m__repr__\u001B[1;34m(self)\u001B[0m\n\u001B[0;32m   1000\u001B[0m             \u001B[0mline_width\u001B[0m\u001B[1;33m=\u001B[0m\u001B[0mwidth\u001B[0m\u001B[1;33m,\u001B[0m\u001B[1;33m\u001B[0m\u001B[1;33m\u001B[0m\u001B[0m\n\u001B[0;32m   1001\u001B[0m             \u001B[0mmax_colwidth\u001B[0m\u001B[1;33m=\u001B[0m\u001B[0mmax_colwidth\u001B[0m\u001B[1;33m,\u001B[0m\u001B[1;33m\u001B[0m\u001B[1;33m\u001B[0m\u001B[0m\n\u001B[1;32m-> 1002\u001B[1;33m             \u001B[0mshow_dimensions\u001B[0m\u001B[1;33m=\u001B[0m\u001B[0mshow_dimensions\u001B[0m\u001B[1;33m,\u001B[0m\u001B[1;33m\u001B[0m\u001B[1;33m\u001B[0m\u001B[0m\n\u001B[0m\u001B[0;32m   1003\u001B[0m         )\n\u001B[0;32m   1004\u001B[0m \u001B[1;33m\u001B[0m\u001B[0m\n",
      "\u001B[1;32m~\\Documents\\GitHub\\Nueorinformatics_project\\venv\\lib\\site-packages\\pandas\\core\\frame.py\u001B[0m in \u001B[0;36mto_string\u001B[1;34m(self, buf, columns, col_space, header, index, na_rep, formatters, float_format, sparsify, index_names, justify, max_rows, min_rows, max_cols, show_dimensions, decimal, line_width, max_colwidth, encoding)\u001B[0m\n\u001B[0;32m   1132\u001B[0m                 \u001B[0mbuf\u001B[0m\u001B[1;33m=\u001B[0m\u001B[0mbuf\u001B[0m\u001B[1;33m,\u001B[0m\u001B[1;33m\u001B[0m\u001B[1;33m\u001B[0m\u001B[0m\n\u001B[0;32m   1133\u001B[0m                 \u001B[0mencoding\u001B[0m\u001B[1;33m=\u001B[0m\u001B[0mencoding\u001B[0m\u001B[1;33m,\u001B[0m\u001B[1;33m\u001B[0m\u001B[1;33m\u001B[0m\u001B[0m\n\u001B[1;32m-> 1134\u001B[1;33m                 \u001B[0mline_width\u001B[0m\u001B[1;33m=\u001B[0m\u001B[0mline_width\u001B[0m\u001B[1;33m,\u001B[0m\u001B[1;33m\u001B[0m\u001B[1;33m\u001B[0m\u001B[0m\n\u001B[0m\u001B[0;32m   1135\u001B[0m             )\n\u001B[0;32m   1136\u001B[0m \u001B[1;33m\u001B[0m\u001B[0m\n",
      "\u001B[1;32m~\\Documents\\GitHub\\Nueorinformatics_project\\venv\\lib\\site-packages\\pandas\\io\\formats\\format.py\u001B[0m in \u001B[0;36mto_string\u001B[1;34m(self, buf, encoding, line_width)\u001B[0m\n\u001B[0;32m   1051\u001B[0m \u001B[1;33m\u001B[0m\u001B[0m\n\u001B[0;32m   1052\u001B[0m         \u001B[0mstring_formatter\u001B[0m \u001B[1;33m=\u001B[0m \u001B[0mStringFormatter\u001B[0m\u001B[1;33m(\u001B[0m\u001B[0mself\u001B[0m\u001B[1;33m.\u001B[0m\u001B[0mfmt\u001B[0m\u001B[1;33m,\u001B[0m \u001B[0mline_width\u001B[0m\u001B[1;33m=\u001B[0m\u001B[0mline_width\u001B[0m\u001B[1;33m)\u001B[0m\u001B[1;33m\u001B[0m\u001B[1;33m\u001B[0m\u001B[0m\n\u001B[1;32m-> 1053\u001B[1;33m         \u001B[0mstring\u001B[0m \u001B[1;33m=\u001B[0m \u001B[0mstring_formatter\u001B[0m\u001B[1;33m.\u001B[0m\u001B[0mto_string\u001B[0m\u001B[1;33m(\u001B[0m\u001B[1;33m)\u001B[0m\u001B[1;33m\u001B[0m\u001B[1;33m\u001B[0m\u001B[0m\n\u001B[0m\u001B[0;32m   1054\u001B[0m         \u001B[1;32mreturn\u001B[0m \u001B[0msave_to_buffer\u001B[0m\u001B[1;33m(\u001B[0m\u001B[0mstring\u001B[0m\u001B[1;33m,\u001B[0m \u001B[0mbuf\u001B[0m\u001B[1;33m=\u001B[0m\u001B[0mbuf\u001B[0m\u001B[1;33m,\u001B[0m \u001B[0mencoding\u001B[0m\u001B[1;33m=\u001B[0m\u001B[0mencoding\u001B[0m\u001B[1;33m)\u001B[0m\u001B[1;33m\u001B[0m\u001B[1;33m\u001B[0m\u001B[0m\n\u001B[0;32m   1055\u001B[0m \u001B[1;33m\u001B[0m\u001B[0m\n",
      "\u001B[1;32m~\\Documents\\GitHub\\Nueorinformatics_project\\venv\\lib\\site-packages\\pandas\\io\\formats\\string.py\u001B[0m in \u001B[0;36mto_string\u001B[1;34m(self)\u001B[0m\n\u001B[0;32m     23\u001B[0m \u001B[1;33m\u001B[0m\u001B[0m\n\u001B[0;32m     24\u001B[0m     \u001B[1;32mdef\u001B[0m \u001B[0mto_string\u001B[0m\u001B[1;33m(\u001B[0m\u001B[0mself\u001B[0m\u001B[1;33m)\u001B[0m \u001B[1;33m->\u001B[0m \u001B[0mstr\u001B[0m\u001B[1;33m:\u001B[0m\u001B[1;33m\u001B[0m\u001B[1;33m\u001B[0m\u001B[0m\n\u001B[1;32m---> 25\u001B[1;33m         \u001B[0mtext\u001B[0m \u001B[1;33m=\u001B[0m \u001B[0mself\u001B[0m\u001B[1;33m.\u001B[0m\u001B[0m_get_string_representation\u001B[0m\u001B[1;33m(\u001B[0m\u001B[1;33m)\u001B[0m\u001B[1;33m\u001B[0m\u001B[1;33m\u001B[0m\u001B[0m\n\u001B[0m\u001B[0;32m     26\u001B[0m         \u001B[1;32mif\u001B[0m \u001B[0mself\u001B[0m\u001B[1;33m.\u001B[0m\u001B[0mfmt\u001B[0m\u001B[1;33m.\u001B[0m\u001B[0mshould_show_dimensions\u001B[0m\u001B[1;33m:\u001B[0m\u001B[1;33m\u001B[0m\u001B[1;33m\u001B[0m\u001B[0m\n\u001B[0;32m     27\u001B[0m             \u001B[0mtext\u001B[0m \u001B[1;33m=\u001B[0m \u001B[1;34m\"\"\u001B[0m\u001B[1;33m.\u001B[0m\u001B[0mjoin\u001B[0m\u001B[1;33m(\u001B[0m\u001B[1;33m[\u001B[0m\u001B[0mtext\u001B[0m\u001B[1;33m,\u001B[0m \u001B[0mself\u001B[0m\u001B[1;33m.\u001B[0m\u001B[0mfmt\u001B[0m\u001B[1;33m.\u001B[0m\u001B[0mdimensions_info\u001B[0m\u001B[1;33m]\u001B[0m\u001B[1;33m)\u001B[0m\u001B[1;33m\u001B[0m\u001B[1;33m\u001B[0m\u001B[0m\n",
      "\u001B[1;32m~\\Documents\\GitHub\\Nueorinformatics_project\\venv\\lib\\site-packages\\pandas\\io\\formats\\string.py\u001B[0m in \u001B[0;36m_get_string_representation\u001B[1;34m(self)\u001B[0m\n\u001B[0;32m     38\u001B[0m             \u001B[1;32mreturn\u001B[0m \u001B[0mself\u001B[0m\u001B[1;33m.\u001B[0m\u001B[0m_empty_info_line\u001B[0m\u001B[1;33m\u001B[0m\u001B[1;33m\u001B[0m\u001B[0m\n\u001B[0;32m     39\u001B[0m \u001B[1;33m\u001B[0m\u001B[0m\n\u001B[1;32m---> 40\u001B[1;33m         \u001B[0mstrcols\u001B[0m \u001B[1;33m=\u001B[0m \u001B[0mself\u001B[0m\u001B[1;33m.\u001B[0m\u001B[0m_get_strcols\u001B[0m\u001B[1;33m(\u001B[0m\u001B[1;33m)\u001B[0m\u001B[1;33m\u001B[0m\u001B[1;33m\u001B[0m\u001B[0m\n\u001B[0m\u001B[0;32m     41\u001B[0m \u001B[1;33m\u001B[0m\u001B[0m\n\u001B[0;32m     42\u001B[0m         \u001B[1;32mif\u001B[0m \u001B[0mself\u001B[0m\u001B[1;33m.\u001B[0m\u001B[0mline_width\u001B[0m \u001B[1;32mis\u001B[0m \u001B[1;32mNone\u001B[0m\u001B[1;33m:\u001B[0m\u001B[1;33m\u001B[0m\u001B[1;33m\u001B[0m\u001B[0m\n",
      "\u001B[1;32m~\\Documents\\GitHub\\Nueorinformatics_project\\venv\\lib\\site-packages\\pandas\\io\\formats\\string.py\u001B[0m in \u001B[0;36m_get_strcols\u001B[1;34m(self)\u001B[0m\n\u001B[0;32m     29\u001B[0m \u001B[1;33m\u001B[0m\u001B[0m\n\u001B[0;32m     30\u001B[0m     \u001B[1;32mdef\u001B[0m \u001B[0m_get_strcols\u001B[0m\u001B[1;33m(\u001B[0m\u001B[0mself\u001B[0m\u001B[1;33m)\u001B[0m \u001B[1;33m->\u001B[0m \u001B[0mlist\u001B[0m\u001B[1;33m[\u001B[0m\u001B[0mlist\u001B[0m\u001B[1;33m[\u001B[0m\u001B[0mstr\u001B[0m\u001B[1;33m]\u001B[0m\u001B[1;33m]\u001B[0m\u001B[1;33m:\u001B[0m\u001B[1;33m\u001B[0m\u001B[1;33m\u001B[0m\u001B[0m\n\u001B[1;32m---> 31\u001B[1;33m         \u001B[0mstrcols\u001B[0m \u001B[1;33m=\u001B[0m \u001B[0mself\u001B[0m\u001B[1;33m.\u001B[0m\u001B[0mfmt\u001B[0m\u001B[1;33m.\u001B[0m\u001B[0mget_strcols\u001B[0m\u001B[1;33m(\u001B[0m\u001B[1;33m)\u001B[0m\u001B[1;33m\u001B[0m\u001B[1;33m\u001B[0m\u001B[0m\n\u001B[0m\u001B[0;32m     32\u001B[0m         \u001B[1;32mif\u001B[0m \u001B[0mself\u001B[0m\u001B[1;33m.\u001B[0m\u001B[0mfmt\u001B[0m\u001B[1;33m.\u001B[0m\u001B[0mis_truncated\u001B[0m\u001B[1;33m:\u001B[0m\u001B[1;33m\u001B[0m\u001B[1;33m\u001B[0m\u001B[0m\n\u001B[0;32m     33\u001B[0m             \u001B[0mstrcols\u001B[0m \u001B[1;33m=\u001B[0m \u001B[0mself\u001B[0m\u001B[1;33m.\u001B[0m\u001B[0m_insert_dot_separators\u001B[0m\u001B[1;33m(\u001B[0m\u001B[0mstrcols\u001B[0m\u001B[1;33m)\u001B[0m\u001B[1;33m\u001B[0m\u001B[1;33m\u001B[0m\u001B[0m\n",
      "\u001B[1;32m~\\Documents\\GitHub\\Nueorinformatics_project\\venv\\lib\\site-packages\\pandas\\io\\formats\\format.py\u001B[0m in \u001B[0;36mget_strcols\u001B[1;34m(self)\u001B[0m\n\u001B[0;32m    538\u001B[0m         \u001B[0mRender\u001B[0m \u001B[0ma\u001B[0m \u001B[0mDataFrame\u001B[0m \u001B[0mto\u001B[0m \u001B[0ma\u001B[0m \u001B[0mlist\u001B[0m \u001B[0mof\u001B[0m \u001B[0mcolumns\u001B[0m \u001B[1;33m(\u001B[0m\u001B[1;32mas\u001B[0m \u001B[0mlists\u001B[0m \u001B[0mof\u001B[0m \u001B[0mstrings\u001B[0m\u001B[1;33m)\u001B[0m\u001B[1;33m.\u001B[0m\u001B[1;33m\u001B[0m\u001B[1;33m\u001B[0m\u001B[0m\n\u001B[0;32m    539\u001B[0m         \"\"\"\n\u001B[1;32m--> 540\u001B[1;33m         \u001B[0mstrcols\u001B[0m \u001B[1;33m=\u001B[0m \u001B[0mself\u001B[0m\u001B[1;33m.\u001B[0m\u001B[0m_get_strcols_without_index\u001B[0m\u001B[1;33m(\u001B[0m\u001B[1;33m)\u001B[0m\u001B[1;33m\u001B[0m\u001B[1;33m\u001B[0m\u001B[0m\n\u001B[0m\u001B[0;32m    541\u001B[0m \u001B[1;33m\u001B[0m\u001B[0m\n\u001B[0;32m    542\u001B[0m         \u001B[1;32mif\u001B[0m \u001B[0mself\u001B[0m\u001B[1;33m.\u001B[0m\u001B[0mindex\u001B[0m\u001B[1;33m:\u001B[0m\u001B[1;33m\u001B[0m\u001B[1;33m\u001B[0m\u001B[0m\n",
      "\u001B[1;32m~\\Documents\\GitHub\\Nueorinformatics_project\\venv\\lib\\site-packages\\pandas\\io\\formats\\format.py\u001B[0m in \u001B[0;36m_get_strcols_without_index\u001B[1;34m(self)\u001B[0m\n\u001B[0;32m    802\u001B[0m                 \u001B[0mint\u001B[0m\u001B[1;33m(\u001B[0m\u001B[0mself\u001B[0m\u001B[1;33m.\u001B[0m\u001B[0mcol_space\u001B[0m\u001B[1;33m.\u001B[0m\u001B[0mget\u001B[0m\u001B[1;33m(\u001B[0m\u001B[0mc\u001B[0m\u001B[1;33m,\u001B[0m \u001B[1;36m0\u001B[0m\u001B[1;33m)\u001B[0m\u001B[1;33m)\u001B[0m\u001B[1;33m,\u001B[0m \u001B[1;33m*\u001B[0m\u001B[1;33m(\u001B[0m\u001B[0mself\u001B[0m\u001B[1;33m.\u001B[0m\u001B[0madj\u001B[0m\u001B[1;33m.\u001B[0m\u001B[0mlen\u001B[0m\u001B[1;33m(\u001B[0m\u001B[0mx\u001B[0m\u001B[1;33m)\u001B[0m \u001B[1;32mfor\u001B[0m \u001B[0mx\u001B[0m \u001B[1;32min\u001B[0m \u001B[0mcheader\u001B[0m\u001B[1;33m)\u001B[0m\u001B[1;33m\u001B[0m\u001B[1;33m\u001B[0m\u001B[0m\n\u001B[0;32m    803\u001B[0m             )\n\u001B[1;32m--> 804\u001B[1;33m             \u001B[0mfmt_values\u001B[0m \u001B[1;33m=\u001B[0m \u001B[0mself\u001B[0m\u001B[1;33m.\u001B[0m\u001B[0mformat_col\u001B[0m\u001B[1;33m(\u001B[0m\u001B[0mi\u001B[0m\u001B[1;33m)\u001B[0m\u001B[1;33m\u001B[0m\u001B[1;33m\u001B[0m\u001B[0m\n\u001B[0m\u001B[0;32m    805\u001B[0m             fmt_values = _make_fixed_width(\n\u001B[0;32m    806\u001B[0m                 \u001B[0mfmt_values\u001B[0m\u001B[1;33m,\u001B[0m \u001B[0mself\u001B[0m\u001B[1;33m.\u001B[0m\u001B[0mjustify\u001B[0m\u001B[1;33m,\u001B[0m \u001B[0mminimum\u001B[0m\u001B[1;33m=\u001B[0m\u001B[0mheader_colwidth\u001B[0m\u001B[1;33m,\u001B[0m \u001B[0madj\u001B[0m\u001B[1;33m=\u001B[0m\u001B[0mself\u001B[0m\u001B[1;33m.\u001B[0m\u001B[0madj\u001B[0m\u001B[1;33m\u001B[0m\u001B[1;33m\u001B[0m\u001B[0m\n",
      "\u001B[1;32m~\\Documents\\GitHub\\Nueorinformatics_project\\venv\\lib\\site-packages\\pandas\\io\\formats\\format.py\u001B[0m in \u001B[0;36mformat_col\u001B[1;34m(self, i)\u001B[0m\n\u001B[0;32m    823\u001B[0m             \u001B[0mspace\u001B[0m\u001B[1;33m=\u001B[0m\u001B[0mself\u001B[0m\u001B[1;33m.\u001B[0m\u001B[0mcol_space\u001B[0m\u001B[1;33m.\u001B[0m\u001B[0mget\u001B[0m\u001B[1;33m(\u001B[0m\u001B[0mframe\u001B[0m\u001B[1;33m.\u001B[0m\u001B[0mcolumns\u001B[0m\u001B[1;33m[\u001B[0m\u001B[0mi\u001B[0m\u001B[1;33m]\u001B[0m\u001B[1;33m)\u001B[0m\u001B[1;33m,\u001B[0m\u001B[1;33m\u001B[0m\u001B[1;33m\u001B[0m\u001B[0m\n\u001B[0;32m    824\u001B[0m             \u001B[0mdecimal\u001B[0m\u001B[1;33m=\u001B[0m\u001B[0mself\u001B[0m\u001B[1;33m.\u001B[0m\u001B[0mdecimal\u001B[0m\u001B[1;33m,\u001B[0m\u001B[1;33m\u001B[0m\u001B[1;33m\u001B[0m\u001B[0m\n\u001B[1;32m--> 825\u001B[1;33m             \u001B[0mleading_space\u001B[0m\u001B[1;33m=\u001B[0m\u001B[0mself\u001B[0m\u001B[1;33m.\u001B[0m\u001B[0mindex\u001B[0m\u001B[1;33m,\u001B[0m\u001B[1;33m\u001B[0m\u001B[1;33m\u001B[0m\u001B[0m\n\u001B[0m\u001B[0;32m    826\u001B[0m         )\n\u001B[0;32m    827\u001B[0m \u001B[1;33m\u001B[0m\u001B[0m\n",
      "\u001B[1;32m~\\Documents\\GitHub\\Nueorinformatics_project\\venv\\lib\\site-packages\\pandas\\io\\formats\\format.py\u001B[0m in \u001B[0;36mformat_array\u001B[1;34m(values, formatter, float_format, na_rep, digits, space, justify, decimal, leading_space, quoting)\u001B[0m\n\u001B[0;32m   1238\u001B[0m     )\n\u001B[0;32m   1239\u001B[0m \u001B[1;33m\u001B[0m\u001B[0m\n\u001B[1;32m-> 1240\u001B[1;33m     \u001B[1;32mreturn\u001B[0m \u001B[0mfmt_obj\u001B[0m\u001B[1;33m.\u001B[0m\u001B[0mget_result\u001B[0m\u001B[1;33m(\u001B[0m\u001B[1;33m)\u001B[0m\u001B[1;33m\u001B[0m\u001B[1;33m\u001B[0m\u001B[0m\n\u001B[0m\u001B[0;32m   1241\u001B[0m \u001B[1;33m\u001B[0m\u001B[0m\n\u001B[0;32m   1242\u001B[0m \u001B[1;33m\u001B[0m\u001B[0m\n",
      "\u001B[1;32m~\\Documents\\GitHub\\Nueorinformatics_project\\venv\\lib\\site-packages\\pandas\\io\\formats\\format.py\u001B[0m in \u001B[0;36mget_result\u001B[1;34m(self)\u001B[0m\n\u001B[0;32m   1269\u001B[0m \u001B[1;33m\u001B[0m\u001B[0m\n\u001B[0;32m   1270\u001B[0m     \u001B[1;32mdef\u001B[0m \u001B[0mget_result\u001B[0m\u001B[1;33m(\u001B[0m\u001B[0mself\u001B[0m\u001B[1;33m)\u001B[0m \u001B[1;33m->\u001B[0m \u001B[0mlist\u001B[0m\u001B[1;33m[\u001B[0m\u001B[0mstr\u001B[0m\u001B[1;33m]\u001B[0m\u001B[1;33m:\u001B[0m\u001B[1;33m\u001B[0m\u001B[1;33m\u001B[0m\u001B[0m\n\u001B[1;32m-> 1271\u001B[1;33m         \u001B[0mfmt_values\u001B[0m \u001B[1;33m=\u001B[0m \u001B[0mself\u001B[0m\u001B[1;33m.\u001B[0m\u001B[0m_format_strings\u001B[0m\u001B[1;33m(\u001B[0m\u001B[1;33m)\u001B[0m\u001B[1;33m\u001B[0m\u001B[1;33m\u001B[0m\u001B[0m\n\u001B[0m\u001B[0;32m   1272\u001B[0m         \u001B[1;32mreturn\u001B[0m \u001B[0m_make_fixed_width\u001B[0m\u001B[1;33m(\u001B[0m\u001B[0mfmt_values\u001B[0m\u001B[1;33m,\u001B[0m \u001B[0mself\u001B[0m\u001B[1;33m.\u001B[0m\u001B[0mjustify\u001B[0m\u001B[1;33m)\u001B[0m\u001B[1;33m\u001B[0m\u001B[1;33m\u001B[0m\u001B[0m\n\u001B[0;32m   1273\u001B[0m \u001B[1;33m\u001B[0m\u001B[0m\n",
      "\u001B[1;32m~\\Documents\\GitHub\\Nueorinformatics_project\\venv\\lib\\site-packages\\pandas\\io\\formats\\format.py\u001B[0m in \u001B[0;36m_format_strings\u001B[1;34m(self)\u001B[0m\n\u001B[0;32m   1332\u001B[0m         \u001B[1;32mfor\u001B[0m \u001B[0mi\u001B[0m\u001B[1;33m,\u001B[0m \u001B[0mv\u001B[0m \u001B[1;32min\u001B[0m \u001B[0menumerate\u001B[0m\u001B[1;33m(\u001B[0m\u001B[0mvals\u001B[0m\u001B[1;33m)\u001B[0m\u001B[1;33m:\u001B[0m\u001B[1;33m\u001B[0m\u001B[1;33m\u001B[0m\u001B[0m\n\u001B[0;32m   1333\u001B[0m             \u001B[1;32mif\u001B[0m \u001B[1;32mnot\u001B[0m \u001B[0mis_float_type\u001B[0m\u001B[1;33m[\u001B[0m\u001B[0mi\u001B[0m\u001B[1;33m]\u001B[0m \u001B[1;32mand\u001B[0m \u001B[0mleading_space\u001B[0m\u001B[1;33m:\u001B[0m\u001B[1;33m\u001B[0m\u001B[1;33m\u001B[0m\u001B[0m\n\u001B[1;32m-> 1334\u001B[1;33m                 \u001B[0mfmt_values\u001B[0m\u001B[1;33m.\u001B[0m\u001B[0mappend\u001B[0m\u001B[1;33m(\u001B[0m\u001B[1;34mf\" {_format(v)}\"\u001B[0m\u001B[1;33m)\u001B[0m\u001B[1;33m\u001B[0m\u001B[1;33m\u001B[0m\u001B[0m\n\u001B[0m\u001B[0;32m   1335\u001B[0m             \u001B[1;32melif\u001B[0m \u001B[0mis_float_type\u001B[0m\u001B[1;33m[\u001B[0m\u001B[0mi\u001B[0m\u001B[1;33m]\u001B[0m\u001B[1;33m:\u001B[0m\u001B[1;33m\u001B[0m\u001B[1;33m\u001B[0m\u001B[0m\n\u001B[0;32m   1336\u001B[0m                 \u001B[0mfmt_values\u001B[0m\u001B[1;33m.\u001B[0m\u001B[0mappend\u001B[0m\u001B[1;33m(\u001B[0m\u001B[0mfloat_format\u001B[0m\u001B[1;33m(\u001B[0m\u001B[0mv\u001B[0m\u001B[1;33m)\u001B[0m\u001B[1;33m)\u001B[0m\u001B[1;33m\u001B[0m\u001B[1;33m\u001B[0m\u001B[0m\n",
      "\u001B[1;32m~\\Documents\\GitHub\\Nueorinformatics_project\\venv\\lib\\site-packages\\pandas\\io\\formats\\format.py\u001B[0m in \u001B[0;36m_format\u001B[1;34m(x)\u001B[0m\n\u001B[0;32m   1312\u001B[0m             \u001B[1;32melse\u001B[0m\u001B[1;33m:\u001B[0m\u001B[1;33m\u001B[0m\u001B[1;33m\u001B[0m\u001B[0m\n\u001B[0;32m   1313\u001B[0m                 \u001B[1;31m# object dtype\u001B[0m\u001B[1;33m\u001B[0m\u001B[1;33m\u001B[0m\u001B[1;33m\u001B[0m\u001B[0m\n\u001B[1;32m-> 1314\u001B[1;33m                 \u001B[1;32mreturn\u001B[0m \u001B[0mstr\u001B[0m\u001B[1;33m(\u001B[0m\u001B[0mformatter\u001B[0m\u001B[1;33m(\u001B[0m\u001B[0mx\u001B[0m\u001B[1;33m)\u001B[0m\u001B[1;33m)\u001B[0m\u001B[1;33m\u001B[0m\u001B[1;33m\u001B[0m\u001B[0m\n\u001B[0m\u001B[0;32m   1315\u001B[0m \u001B[1;33m\u001B[0m\u001B[0m\n\u001B[0;32m   1316\u001B[0m         \u001B[0mvals\u001B[0m \u001B[1;33m=\u001B[0m \u001B[0mextract_array\u001B[0m\u001B[1;33m(\u001B[0m\u001B[0mself\u001B[0m\u001B[1;33m.\u001B[0m\u001B[0mvalues\u001B[0m\u001B[1;33m,\u001B[0m \u001B[0mextract_numpy\u001B[0m\u001B[1;33m=\u001B[0m\u001B[1;32mTrue\u001B[0m\u001B[1;33m)\u001B[0m\u001B[1;33m\u001B[0m\u001B[1;33m\u001B[0m\u001B[0m\n",
      "\u001B[1;32m~\\Documents\\GitHub\\Nueorinformatics_project\\venv\\lib\\site-packages\\pandas\\io\\formats\\printing.py\u001B[0m in \u001B[0;36mpprint_thing\u001B[1;34m(thing, _nest_lvl, escape_chars, default_escapes, quote_strings, max_seq_items)\u001B[0m\n\u001B[0;32m    226\u001B[0m             \u001B[0mescape_chars\u001B[0m\u001B[1;33m=\u001B[0m\u001B[0mescape_chars\u001B[0m\u001B[1;33m,\u001B[0m\u001B[1;33m\u001B[0m\u001B[1;33m\u001B[0m\u001B[0m\n\u001B[0;32m    227\u001B[0m             \u001B[0mquote_strings\u001B[0m\u001B[1;33m=\u001B[0m\u001B[0mquote_strings\u001B[0m\u001B[1;33m,\u001B[0m\u001B[1;33m\u001B[0m\u001B[1;33m\u001B[0m\u001B[0m\n\u001B[1;32m--> 228\u001B[1;33m             \u001B[0mmax_seq_items\u001B[0m\u001B[1;33m=\u001B[0m\u001B[0mmax_seq_items\u001B[0m\u001B[1;33m,\u001B[0m\u001B[1;33m\u001B[0m\u001B[1;33m\u001B[0m\u001B[0m\n\u001B[0m\u001B[0;32m    229\u001B[0m         )\n\u001B[0;32m    230\u001B[0m     \u001B[1;32melif\u001B[0m \u001B[0misinstance\u001B[0m\u001B[1;33m(\u001B[0m\u001B[0mthing\u001B[0m\u001B[1;33m,\u001B[0m \u001B[0mstr\u001B[0m\u001B[1;33m)\u001B[0m \u001B[1;32mand\u001B[0m \u001B[0mquote_strings\u001B[0m\u001B[1;33m:\u001B[0m\u001B[1;33m\u001B[0m\u001B[1;33m\u001B[0m\u001B[0m\n",
      "\u001B[1;32m~\\Documents\\GitHub\\Nueorinformatics_project\\venv\\lib\\site-packages\\pandas\\io\\formats\\printing.py\u001B[0m in \u001B[0;36m_pprint_seq\u001B[1;34m(seq, _nest_lvl, max_seq_items, **kwds)\u001B[0m\n\u001B[0;32m    120\u001B[0m     r = [\n\u001B[0;32m    121\u001B[0m         \u001B[0mpprint_thing\u001B[0m\u001B[1;33m(\u001B[0m\u001B[0mnext\u001B[0m\u001B[1;33m(\u001B[0m\u001B[0ms\u001B[0m\u001B[1;33m)\u001B[0m\u001B[1;33m,\u001B[0m \u001B[0m_nest_lvl\u001B[0m \u001B[1;33m+\u001B[0m \u001B[1;36m1\u001B[0m\u001B[1;33m,\u001B[0m \u001B[0mmax_seq_items\u001B[0m\u001B[1;33m=\u001B[0m\u001B[0mmax_seq_items\u001B[0m\u001B[1;33m,\u001B[0m \u001B[1;33m**\u001B[0m\u001B[0mkwds\u001B[0m\u001B[1;33m)\u001B[0m\u001B[1;33m\u001B[0m\u001B[1;33m\u001B[0m\u001B[0m\n\u001B[1;32m--> 122\u001B[1;33m         \u001B[1;32mfor\u001B[0m \u001B[0mi\u001B[0m \u001B[1;32min\u001B[0m \u001B[0mrange\u001B[0m\u001B[1;33m(\u001B[0m\u001B[0mmin\u001B[0m\u001B[1;33m(\u001B[0m\u001B[0mnitems\u001B[0m\u001B[1;33m,\u001B[0m \u001B[0mlen\u001B[0m\u001B[1;33m(\u001B[0m\u001B[0mseq\u001B[0m\u001B[1;33m)\u001B[0m\u001B[1;33m)\u001B[0m\u001B[1;33m)\u001B[0m\u001B[1;33m\u001B[0m\u001B[1;33m\u001B[0m\u001B[0m\n\u001B[0m\u001B[0;32m    123\u001B[0m     ]\n\u001B[0;32m    124\u001B[0m     \u001B[0mbody\u001B[0m \u001B[1;33m=\u001B[0m \u001B[1;34m\", \"\u001B[0m\u001B[1;33m.\u001B[0m\u001B[0mjoin\u001B[0m\u001B[1;33m(\u001B[0m\u001B[0mr\u001B[0m\u001B[1;33m)\u001B[0m\u001B[1;33m\u001B[0m\u001B[1;33m\u001B[0m\u001B[0m\n",
      "\u001B[1;32m~\\Documents\\GitHub\\Nueorinformatics_project\\venv\\lib\\site-packages\\pandas\\io\\formats\\printing.py\u001B[0m in \u001B[0;36m<listcomp>\u001B[1;34m(.0)\u001B[0m\n\u001B[0;32m    120\u001B[0m     r = [\n\u001B[0;32m    121\u001B[0m         \u001B[0mpprint_thing\u001B[0m\u001B[1;33m(\u001B[0m\u001B[0mnext\u001B[0m\u001B[1;33m(\u001B[0m\u001B[0ms\u001B[0m\u001B[1;33m)\u001B[0m\u001B[1;33m,\u001B[0m \u001B[0m_nest_lvl\u001B[0m \u001B[1;33m+\u001B[0m \u001B[1;36m1\u001B[0m\u001B[1;33m,\u001B[0m \u001B[0mmax_seq_items\u001B[0m\u001B[1;33m=\u001B[0m\u001B[0mmax_seq_items\u001B[0m\u001B[1;33m,\u001B[0m \u001B[1;33m**\u001B[0m\u001B[0mkwds\u001B[0m\u001B[1;33m)\u001B[0m\u001B[1;33m\u001B[0m\u001B[1;33m\u001B[0m\u001B[0m\n\u001B[1;32m--> 122\u001B[1;33m         \u001B[1;32mfor\u001B[0m \u001B[0mi\u001B[0m \u001B[1;32min\u001B[0m \u001B[0mrange\u001B[0m\u001B[1;33m(\u001B[0m\u001B[0mmin\u001B[0m\u001B[1;33m(\u001B[0m\u001B[0mnitems\u001B[0m\u001B[1;33m,\u001B[0m \u001B[0mlen\u001B[0m\u001B[1;33m(\u001B[0m\u001B[0mseq\u001B[0m\u001B[1;33m)\u001B[0m\u001B[1;33m)\u001B[0m\u001B[1;33m)\u001B[0m\u001B[1;33m\u001B[0m\u001B[1;33m\u001B[0m\u001B[0m\n\u001B[0m\u001B[0;32m    123\u001B[0m     ]\n\u001B[0;32m    124\u001B[0m     \u001B[0mbody\u001B[0m \u001B[1;33m=\u001B[0m \u001B[1;34m\", \"\u001B[0m\u001B[1;33m.\u001B[0m\u001B[0mjoin\u001B[0m\u001B[1;33m(\u001B[0m\u001B[0mr\u001B[0m\u001B[1;33m)\u001B[0m\u001B[1;33m\u001B[0m\u001B[1;33m\u001B[0m\u001B[0m\n",
      "\u001B[1;32m~\\Documents\\GitHub\\Nueorinformatics_project\\venv\\lib\\site-packages\\mne\\io\\base.py\u001B[0m in \u001B[0;36m__getitem__\u001B[1;34m(self, item)\u001B[0m\n\u001B[0;32m    746\u001B[0m \u001B[1;33m\u001B[0m\u001B[0m\n\u001B[0;32m    747\u001B[0m         \"\"\"  # noqa: E501\n\u001B[1;32m--> 748\u001B[1;33m         \u001B[1;32mreturn\u001B[0m \u001B[0mself\u001B[0m\u001B[1;33m.\u001B[0m\u001B[0m_getitem\u001B[0m\u001B[1;33m(\u001B[0m\u001B[0mitem\u001B[0m\u001B[1;33m)\u001B[0m\u001B[1;33m\u001B[0m\u001B[1;33m\u001B[0m\u001B[0m\n\u001B[0m\u001B[0;32m    749\u001B[0m \u001B[1;33m\u001B[0m\u001B[0m\n\u001B[0;32m    750\u001B[0m     \u001B[1;32mdef\u001B[0m \u001B[0m_getitem\u001B[0m\u001B[1;33m(\u001B[0m\u001B[0mself\u001B[0m\u001B[1;33m,\u001B[0m \u001B[0mitem\u001B[0m\u001B[1;33m,\u001B[0m \u001B[0mreturn_times\u001B[0m\u001B[1;33m=\u001B[0m\u001B[1;32mTrue\u001B[0m\u001B[1;33m)\u001B[0m\u001B[1;33m:\u001B[0m\u001B[1;33m\u001B[0m\u001B[1;33m\u001B[0m\u001B[0m\n",
      "\u001B[1;32m~\\Documents\\GitHub\\Nueorinformatics_project\\venv\\lib\\site-packages\\mne\\io\\base.py\u001B[0m in \u001B[0;36m_getitem\u001B[1;34m(self, item, return_times)\u001B[0m\n\u001B[0;32m    749\u001B[0m \u001B[1;33m\u001B[0m\u001B[0m\n\u001B[0;32m    750\u001B[0m     \u001B[1;32mdef\u001B[0m \u001B[0m_getitem\u001B[0m\u001B[1;33m(\u001B[0m\u001B[0mself\u001B[0m\u001B[1;33m,\u001B[0m \u001B[0mitem\u001B[0m\u001B[1;33m,\u001B[0m \u001B[0mreturn_times\u001B[0m\u001B[1;33m=\u001B[0m\u001B[1;32mTrue\u001B[0m\u001B[1;33m)\u001B[0m\u001B[1;33m:\u001B[0m\u001B[1;33m\u001B[0m\u001B[1;33m\u001B[0m\u001B[0m\n\u001B[1;32m--> 751\u001B[1;33m         \u001B[0msel\u001B[0m\u001B[1;33m,\u001B[0m \u001B[0mstart\u001B[0m\u001B[1;33m,\u001B[0m \u001B[0mstop\u001B[0m \u001B[1;33m=\u001B[0m \u001B[0mself\u001B[0m\u001B[1;33m.\u001B[0m\u001B[0m_parse_get_set_params\u001B[0m\u001B[1;33m(\u001B[0m\u001B[0mitem\u001B[0m\u001B[1;33m)\u001B[0m\u001B[1;33m\u001B[0m\u001B[1;33m\u001B[0m\u001B[0m\n\u001B[0m\u001B[0;32m    752\u001B[0m         \u001B[1;32mif\u001B[0m \u001B[0mself\u001B[0m\u001B[1;33m.\u001B[0m\u001B[0mpreload\u001B[0m\u001B[1;33m:\u001B[0m\u001B[1;33m\u001B[0m\u001B[1;33m\u001B[0m\u001B[0m\n\u001B[0;32m    753\u001B[0m             \u001B[0mdata\u001B[0m \u001B[1;33m=\u001B[0m \u001B[0mself\u001B[0m\u001B[1;33m.\u001B[0m\u001B[0m_data\u001B[0m\u001B[1;33m[\u001B[0m\u001B[0msel\u001B[0m\u001B[1;33m,\u001B[0m \u001B[0mstart\u001B[0m\u001B[1;33m:\u001B[0m\u001B[0mstop\u001B[0m\u001B[1;33m]\u001B[0m\u001B[1;33m\u001B[0m\u001B[1;33m\u001B[0m\u001B[0m\n",
      "\u001B[1;32m~\\Documents\\GitHub\\Nueorinformatics_project\\venv\\lib\\site-packages\\mne\\io\\base.py\u001B[0m in \u001B[0;36m_parse_get_set_params\u001B[1;34m(self, item)\u001B[0m\n\u001B[0;32m    681\u001B[0m                                \"and time)\")\n\u001B[0;32m    682\u001B[0m \u001B[1;33m\u001B[0m\u001B[0m\n\u001B[1;32m--> 683\u001B[1;33m         \u001B[0msel\u001B[0m \u001B[1;33m=\u001B[0m \u001B[0m_picks_to_idx\u001B[0m\u001B[1;33m(\u001B[0m\u001B[0mself\u001B[0m\u001B[1;33m.\u001B[0m\u001B[0minfo\u001B[0m\u001B[1;33m,\u001B[0m \u001B[0mitem\u001B[0m\u001B[1;33m[\u001B[0m\u001B[1;36m0\u001B[0m\u001B[1;33m]\u001B[0m\u001B[1;33m)\u001B[0m\u001B[1;33m\u001B[0m\u001B[1;33m\u001B[0m\u001B[0m\n\u001B[0m\u001B[0;32m    684\u001B[0m \u001B[1;33m\u001B[0m\u001B[0m\n\u001B[0;32m    685\u001B[0m         \u001B[1;32mif\u001B[0m \u001B[0misinstance\u001B[0m\u001B[1;33m(\u001B[0m\u001B[0mitem\u001B[0m\u001B[1;33m[\u001B[0m\u001B[1;36m1\u001B[0m\u001B[1;33m]\u001B[0m\u001B[1;33m,\u001B[0m \u001B[0mslice\u001B[0m\u001B[1;33m)\u001B[0m\u001B[1;33m:\u001B[0m\u001B[1;33m\u001B[0m\u001B[1;33m\u001B[0m\u001B[0m\n",
      "\u001B[1;32m~\\Documents\\GitHub\\Nueorinformatics_project\\venv\\lib\\site-packages\\mne\\io\\pick.py\u001B[0m in \u001B[0;36m_picks_to_idx\u001B[1;34m(info, picks, none, exclude, allow_empty, with_ref_meg, return_kind, picks_on)\u001B[0m\n\u001B[0;32m   1045\u001B[0m     \u001B[1;32mif\u001B[0m \u001B[1;33m(\u001B[0m\u001B[0mpicks\u001B[0m \u001B[1;33m>=\u001B[0m \u001B[0mn_chan\u001B[0m\u001B[1;33m)\u001B[0m\u001B[1;33m.\u001B[0m\u001B[0many\u001B[0m\u001B[1;33m(\u001B[0m\u001B[1;33m)\u001B[0m\u001B[1;33m:\u001B[0m\u001B[1;33m\u001B[0m\u001B[1;33m\u001B[0m\u001B[0m\n\u001B[0;32m   1046\u001B[0m         raise ValueError('All picks must be < n_%s (%d), got %r'\n\u001B[1;32m-> 1047\u001B[1;33m                          % (picks_on, n_chan, orig_picks))\n\u001B[0m\u001B[0;32m   1048\u001B[0m     \u001B[0mpicks\u001B[0m \u001B[1;33m%=\u001B[0m \u001B[0mn_chan\u001B[0m  \u001B[1;31m# ensure positive\u001B[0m\u001B[1;33m\u001B[0m\u001B[1;33m\u001B[0m\u001B[0m\n\u001B[0;32m   1049\u001B[0m     \u001B[1;32mif\u001B[0m \u001B[0mreturn_kind\u001B[0m\u001B[1;33m:\u001B[0m\u001B[1;33m\u001B[0m\u001B[1;33m\u001B[0m\u001B[0m\n",
      "\u001B[1;31mValueError\u001B[0m: All picks must be < n_channels (21), got 21"
     ]
    },
    {
     "ename": "ValueError",
     "evalue": "All picks must be < n_channels (21), got 21",
     "output_type": "error",
     "traceback": [
      "\u001B[1;31m---------------------------------------------------------------------------\u001B[0m",
      "\u001B[1;31mValueError\u001B[0m                                Traceback (most recent call last)",
      "\u001B[1;32m~\\Documents\\GitHub\\Nueorinformatics_project\\venv\\lib\\site-packages\\IPython\\core\\formatters.py\u001B[0m in \u001B[0;36m__call__\u001B[1;34m(self, obj)\u001B[0m\n\u001B[0;32m    343\u001B[0m             \u001B[0mmethod\u001B[0m \u001B[1;33m=\u001B[0m \u001B[0mget_real_method\u001B[0m\u001B[1;33m(\u001B[0m\u001B[0mobj\u001B[0m\u001B[1;33m,\u001B[0m \u001B[0mself\u001B[0m\u001B[1;33m.\u001B[0m\u001B[0mprint_method\u001B[0m\u001B[1;33m)\u001B[0m\u001B[1;33m\u001B[0m\u001B[1;33m\u001B[0m\u001B[0m\n\u001B[0;32m    344\u001B[0m             \u001B[1;32mif\u001B[0m \u001B[0mmethod\u001B[0m \u001B[1;32mis\u001B[0m \u001B[1;32mnot\u001B[0m \u001B[1;32mNone\u001B[0m\u001B[1;33m:\u001B[0m\u001B[1;33m\u001B[0m\u001B[1;33m\u001B[0m\u001B[0m\n\u001B[1;32m--> 345\u001B[1;33m                 \u001B[1;32mreturn\u001B[0m \u001B[0mmethod\u001B[0m\u001B[1;33m(\u001B[0m\u001B[1;33m)\u001B[0m\u001B[1;33m\u001B[0m\u001B[1;33m\u001B[0m\u001B[0m\n\u001B[0m\u001B[0;32m    346\u001B[0m             \u001B[1;32mreturn\u001B[0m \u001B[1;32mNone\u001B[0m\u001B[1;33m\u001B[0m\u001B[1;33m\u001B[0m\u001B[0m\n\u001B[0;32m    347\u001B[0m         \u001B[1;32melse\u001B[0m\u001B[1;33m:\u001B[0m\u001B[1;33m\u001B[0m\u001B[1;33m\u001B[0m\u001B[0m\n",
      "\u001B[1;32m~\\Documents\\GitHub\\Nueorinformatics_project\\venv\\lib\\site-packages\\pandas\\core\\frame.py\u001B[0m in \u001B[0;36m_repr_html_\u001B[1;34m(self)\u001B[0m\n\u001B[0;32m   1045\u001B[0m                 \u001B[0mdecimal\u001B[0m\u001B[1;33m=\u001B[0m\u001B[1;34m\".\"\u001B[0m\u001B[1;33m,\u001B[0m\u001B[1;33m\u001B[0m\u001B[1;33m\u001B[0m\u001B[0m\n\u001B[0;32m   1046\u001B[0m             )\n\u001B[1;32m-> 1047\u001B[1;33m             \u001B[1;32mreturn\u001B[0m \u001B[0mfmt\u001B[0m\u001B[1;33m.\u001B[0m\u001B[0mDataFrameRenderer\u001B[0m\u001B[1;33m(\u001B[0m\u001B[0mformatter\u001B[0m\u001B[1;33m)\u001B[0m\u001B[1;33m.\u001B[0m\u001B[0mto_html\u001B[0m\u001B[1;33m(\u001B[0m\u001B[0mnotebook\u001B[0m\u001B[1;33m=\u001B[0m\u001B[1;32mTrue\u001B[0m\u001B[1;33m)\u001B[0m\u001B[1;33m\u001B[0m\u001B[1;33m\u001B[0m\u001B[0m\n\u001B[0m\u001B[0;32m   1048\u001B[0m         \u001B[1;32melse\u001B[0m\u001B[1;33m:\u001B[0m\u001B[1;33m\u001B[0m\u001B[1;33m\u001B[0m\u001B[0m\n\u001B[0;32m   1049\u001B[0m             \u001B[1;32mreturn\u001B[0m \u001B[1;32mNone\u001B[0m\u001B[1;33m\u001B[0m\u001B[1;33m\u001B[0m\u001B[0m\n",
      "\u001B[1;32m~\\Documents\\GitHub\\Nueorinformatics_project\\venv\\lib\\site-packages\\pandas\\io\\formats\\format.py\u001B[0m in \u001B[0;36mto_html\u001B[1;34m(self, buf, encoding, classes, notebook, border, table_id, render_links)\u001B[0m\n\u001B[0;32m   1027\u001B[0m             \u001B[0mrender_links\u001B[0m\u001B[1;33m=\u001B[0m\u001B[0mrender_links\u001B[0m\u001B[1;33m,\u001B[0m\u001B[1;33m\u001B[0m\u001B[1;33m\u001B[0m\u001B[0m\n\u001B[0;32m   1028\u001B[0m         )\n\u001B[1;32m-> 1029\u001B[1;33m         \u001B[0mstring\u001B[0m \u001B[1;33m=\u001B[0m \u001B[0mhtml_formatter\u001B[0m\u001B[1;33m.\u001B[0m\u001B[0mto_string\u001B[0m\u001B[1;33m(\u001B[0m\u001B[1;33m)\u001B[0m\u001B[1;33m\u001B[0m\u001B[1;33m\u001B[0m\u001B[0m\n\u001B[0m\u001B[0;32m   1030\u001B[0m         \u001B[1;32mreturn\u001B[0m \u001B[0msave_to_buffer\u001B[0m\u001B[1;33m(\u001B[0m\u001B[0mstring\u001B[0m\u001B[1;33m,\u001B[0m \u001B[0mbuf\u001B[0m\u001B[1;33m=\u001B[0m\u001B[0mbuf\u001B[0m\u001B[1;33m,\u001B[0m \u001B[0mencoding\u001B[0m\u001B[1;33m=\u001B[0m\u001B[0mencoding\u001B[0m\u001B[1;33m)\u001B[0m\u001B[1;33m\u001B[0m\u001B[1;33m\u001B[0m\u001B[0m\n\u001B[0;32m   1031\u001B[0m \u001B[1;33m\u001B[0m\u001B[0m\n",
      "\u001B[1;32m~\\Documents\\GitHub\\Nueorinformatics_project\\venv\\lib\\site-packages\\pandas\\io\\formats\\html.py\u001B[0m in \u001B[0;36mto_string\u001B[1;34m(self)\u001B[0m\n\u001B[0;32m     70\u001B[0m \u001B[1;33m\u001B[0m\u001B[0m\n\u001B[0;32m     71\u001B[0m     \u001B[1;32mdef\u001B[0m \u001B[0mto_string\u001B[0m\u001B[1;33m(\u001B[0m\u001B[0mself\u001B[0m\u001B[1;33m)\u001B[0m \u001B[1;33m->\u001B[0m \u001B[0mstr\u001B[0m\u001B[1;33m:\u001B[0m\u001B[1;33m\u001B[0m\u001B[1;33m\u001B[0m\u001B[0m\n\u001B[1;32m---> 72\u001B[1;33m         \u001B[0mlines\u001B[0m \u001B[1;33m=\u001B[0m \u001B[0mself\u001B[0m\u001B[1;33m.\u001B[0m\u001B[0mrender\u001B[0m\u001B[1;33m(\u001B[0m\u001B[1;33m)\u001B[0m\u001B[1;33m\u001B[0m\u001B[1;33m\u001B[0m\u001B[0m\n\u001B[0m\u001B[0;32m     73\u001B[0m         \u001B[1;32mif\u001B[0m \u001B[0many\u001B[0m\u001B[1;33m(\u001B[0m\u001B[0misinstance\u001B[0m\u001B[1;33m(\u001B[0m\u001B[0mx\u001B[0m\u001B[1;33m,\u001B[0m \u001B[0mstr\u001B[0m\u001B[1;33m)\u001B[0m \u001B[1;32mfor\u001B[0m \u001B[0mx\u001B[0m \u001B[1;32min\u001B[0m \u001B[0mlines\u001B[0m\u001B[1;33m)\u001B[0m\u001B[1;33m:\u001B[0m\u001B[1;33m\u001B[0m\u001B[1;33m\u001B[0m\u001B[0m\n\u001B[0;32m     74\u001B[0m             \u001B[0mlines\u001B[0m \u001B[1;33m=\u001B[0m \u001B[1;33m[\u001B[0m\u001B[0mstr\u001B[0m\u001B[1;33m(\u001B[0m\u001B[0mx\u001B[0m\u001B[1;33m)\u001B[0m \u001B[1;32mfor\u001B[0m \u001B[0mx\u001B[0m \u001B[1;32min\u001B[0m \u001B[0mlines\u001B[0m\u001B[1;33m]\u001B[0m\u001B[1;33m\u001B[0m\u001B[1;33m\u001B[0m\u001B[0m\n",
      "\u001B[1;32m~\\Documents\\GitHub\\Nueorinformatics_project\\venv\\lib\\site-packages\\pandas\\io\\formats\\html.py\u001B[0m in \u001B[0;36mrender\u001B[1;34m(self)\u001B[0m\n\u001B[0;32m    619\u001B[0m         \u001B[0mself\u001B[0m\u001B[1;33m.\u001B[0m\u001B[0mwrite\u001B[0m\u001B[1;33m(\u001B[0m\u001B[1;34m\"<div>\"\u001B[0m\u001B[1;33m)\u001B[0m\u001B[1;33m\u001B[0m\u001B[1;33m\u001B[0m\u001B[0m\n\u001B[0;32m    620\u001B[0m         \u001B[0mself\u001B[0m\u001B[1;33m.\u001B[0m\u001B[0mwrite_style\u001B[0m\u001B[1;33m(\u001B[0m\u001B[1;33m)\u001B[0m\u001B[1;33m\u001B[0m\u001B[1;33m\u001B[0m\u001B[0m\n\u001B[1;32m--> 621\u001B[1;33m         \u001B[0msuper\u001B[0m\u001B[1;33m(\u001B[0m\u001B[1;33m)\u001B[0m\u001B[1;33m.\u001B[0m\u001B[0mrender\u001B[0m\u001B[1;33m(\u001B[0m\u001B[1;33m)\u001B[0m\u001B[1;33m\u001B[0m\u001B[1;33m\u001B[0m\u001B[0m\n\u001B[0m\u001B[0;32m    622\u001B[0m         \u001B[0mself\u001B[0m\u001B[1;33m.\u001B[0m\u001B[0mwrite\u001B[0m\u001B[1;33m(\u001B[0m\u001B[1;34m\"</div>\"\u001B[0m\u001B[1;33m)\u001B[0m\u001B[1;33m\u001B[0m\u001B[1;33m\u001B[0m\u001B[0m\n\u001B[0;32m    623\u001B[0m         \u001B[1;32mreturn\u001B[0m \u001B[0mself\u001B[0m\u001B[1;33m.\u001B[0m\u001B[0melements\u001B[0m\u001B[1;33m\u001B[0m\u001B[1;33m\u001B[0m\u001B[0m\n",
      "\u001B[1;32m~\\Documents\\GitHub\\Nueorinformatics_project\\venv\\lib\\site-packages\\pandas\\io\\formats\\html.py\u001B[0m in \u001B[0;36mrender\u001B[1;34m(self)\u001B[0m\n\u001B[0;32m     76\u001B[0m \u001B[1;33m\u001B[0m\u001B[0m\n\u001B[0;32m     77\u001B[0m     \u001B[1;32mdef\u001B[0m \u001B[0mrender\u001B[0m\u001B[1;33m(\u001B[0m\u001B[0mself\u001B[0m\u001B[1;33m)\u001B[0m \u001B[1;33m->\u001B[0m \u001B[0mlist\u001B[0m\u001B[1;33m[\u001B[0m\u001B[0mstr\u001B[0m\u001B[1;33m]\u001B[0m\u001B[1;33m:\u001B[0m\u001B[1;33m\u001B[0m\u001B[1;33m\u001B[0m\u001B[0m\n\u001B[1;32m---> 78\u001B[1;33m         \u001B[0mself\u001B[0m\u001B[1;33m.\u001B[0m\u001B[0m_write_table\u001B[0m\u001B[1;33m(\u001B[0m\u001B[1;33m)\u001B[0m\u001B[1;33m\u001B[0m\u001B[1;33m\u001B[0m\u001B[0m\n\u001B[0m\u001B[0;32m     79\u001B[0m \u001B[1;33m\u001B[0m\u001B[0m\n\u001B[0;32m     80\u001B[0m         \u001B[1;32mif\u001B[0m \u001B[0mself\u001B[0m\u001B[1;33m.\u001B[0m\u001B[0mshould_show_dimensions\u001B[0m\u001B[1;33m:\u001B[0m\u001B[1;33m\u001B[0m\u001B[1;33m\u001B[0m\u001B[0m\n",
      "\u001B[1;32m~\\Documents\\GitHub\\Nueorinformatics_project\\venv\\lib\\site-packages\\pandas\\io\\formats\\html.py\u001B[0m in \u001B[0;36m_write_table\u001B[1;34m(self, indent)\u001B[0m\n\u001B[0;32m    246\u001B[0m             \u001B[0mself\u001B[0m\u001B[1;33m.\u001B[0m\u001B[0m_write_header\u001B[0m\u001B[1;33m(\u001B[0m\u001B[0mindent\u001B[0m \u001B[1;33m+\u001B[0m \u001B[0mself\u001B[0m\u001B[1;33m.\u001B[0m\u001B[0mindent_delta\u001B[0m\u001B[1;33m)\u001B[0m\u001B[1;33m\u001B[0m\u001B[1;33m\u001B[0m\u001B[0m\n\u001B[0;32m    247\u001B[0m \u001B[1;33m\u001B[0m\u001B[0m\n\u001B[1;32m--> 248\u001B[1;33m         \u001B[0mself\u001B[0m\u001B[1;33m.\u001B[0m\u001B[0m_write_body\u001B[0m\u001B[1;33m(\u001B[0m\u001B[0mindent\u001B[0m \u001B[1;33m+\u001B[0m \u001B[0mself\u001B[0m\u001B[1;33m.\u001B[0m\u001B[0mindent_delta\u001B[0m\u001B[1;33m)\u001B[0m\u001B[1;33m\u001B[0m\u001B[1;33m\u001B[0m\u001B[0m\n\u001B[0m\u001B[0;32m    249\u001B[0m \u001B[1;33m\u001B[0m\u001B[0m\n\u001B[0;32m    250\u001B[0m         \u001B[0mself\u001B[0m\u001B[1;33m.\u001B[0m\u001B[0mwrite\u001B[0m\u001B[1;33m(\u001B[0m\u001B[1;34m\"</table>\"\u001B[0m\u001B[1;33m,\u001B[0m \u001B[0mindent\u001B[0m\u001B[1;33m)\u001B[0m\u001B[1;33m\u001B[0m\u001B[1;33m\u001B[0m\u001B[0m\n",
      "\u001B[1;32m~\\Documents\\GitHub\\Nueorinformatics_project\\venv\\lib\\site-packages\\pandas\\io\\formats\\html.py\u001B[0m in \u001B[0;36m_write_body\u001B[1;34m(self, indent)\u001B[0m\n\u001B[0;32m    393\u001B[0m     \u001B[1;32mdef\u001B[0m \u001B[0m_write_body\u001B[0m\u001B[1;33m(\u001B[0m\u001B[0mself\u001B[0m\u001B[1;33m,\u001B[0m \u001B[0mindent\u001B[0m\u001B[1;33m:\u001B[0m \u001B[0mint\u001B[0m\u001B[1;33m)\u001B[0m \u001B[1;33m->\u001B[0m \u001B[1;32mNone\u001B[0m\u001B[1;33m:\u001B[0m\u001B[1;33m\u001B[0m\u001B[1;33m\u001B[0m\u001B[0m\n\u001B[0;32m    394\u001B[0m         \u001B[0mself\u001B[0m\u001B[1;33m.\u001B[0m\u001B[0mwrite\u001B[0m\u001B[1;33m(\u001B[0m\u001B[1;34m\"<tbody>\"\u001B[0m\u001B[1;33m,\u001B[0m \u001B[0mindent\u001B[0m\u001B[1;33m)\u001B[0m\u001B[1;33m\u001B[0m\u001B[1;33m\u001B[0m\u001B[0m\n\u001B[1;32m--> 395\u001B[1;33m         \u001B[0mfmt_values\u001B[0m \u001B[1;33m=\u001B[0m \u001B[0mself\u001B[0m\u001B[1;33m.\u001B[0m\u001B[0m_get_formatted_values\u001B[0m\u001B[1;33m(\u001B[0m\u001B[1;33m)\u001B[0m\u001B[1;33m\u001B[0m\u001B[1;33m\u001B[0m\u001B[0m\n\u001B[0m\u001B[0;32m    396\u001B[0m \u001B[1;33m\u001B[0m\u001B[0m\n\u001B[0;32m    397\u001B[0m         \u001B[1;31m# write values\u001B[0m\u001B[1;33m\u001B[0m\u001B[1;33m\u001B[0m\u001B[1;33m\u001B[0m\u001B[0m\n",
      "\u001B[1;32m~\\Documents\\GitHub\\Nueorinformatics_project\\venv\\lib\\site-packages\\pandas\\io\\formats\\html.py\u001B[0m in \u001B[0;36m_get_formatted_values\u001B[1;34m(self)\u001B[0m\n\u001B[0;32m    583\u001B[0m \u001B[1;33m\u001B[0m\u001B[0m\n\u001B[0;32m    584\u001B[0m     \u001B[1;32mdef\u001B[0m \u001B[0m_get_formatted_values\u001B[0m\u001B[1;33m(\u001B[0m\u001B[0mself\u001B[0m\u001B[1;33m)\u001B[0m \u001B[1;33m->\u001B[0m \u001B[0mdict\u001B[0m\u001B[1;33m[\u001B[0m\u001B[0mint\u001B[0m\u001B[1;33m,\u001B[0m \u001B[0mlist\u001B[0m\u001B[1;33m[\u001B[0m\u001B[0mstr\u001B[0m\u001B[1;33m]\u001B[0m\u001B[1;33m]\u001B[0m\u001B[1;33m:\u001B[0m\u001B[1;33m\u001B[0m\u001B[1;33m\u001B[0m\u001B[0m\n\u001B[1;32m--> 585\u001B[1;33m         \u001B[1;32mreturn\u001B[0m \u001B[1;33m{\u001B[0m\u001B[0mi\u001B[0m\u001B[1;33m:\u001B[0m \u001B[0mself\u001B[0m\u001B[1;33m.\u001B[0m\u001B[0mfmt\u001B[0m\u001B[1;33m.\u001B[0m\u001B[0mformat_col\u001B[0m\u001B[1;33m(\u001B[0m\u001B[0mi\u001B[0m\u001B[1;33m)\u001B[0m \u001B[1;32mfor\u001B[0m \u001B[0mi\u001B[0m \u001B[1;32min\u001B[0m \u001B[0mrange\u001B[0m\u001B[1;33m(\u001B[0m\u001B[0mself\u001B[0m\u001B[1;33m.\u001B[0m\u001B[0mncols\u001B[0m\u001B[1;33m)\u001B[0m\u001B[1;33m}\u001B[0m\u001B[1;33m\u001B[0m\u001B[1;33m\u001B[0m\u001B[0m\n\u001B[0m\u001B[0;32m    586\u001B[0m \u001B[1;33m\u001B[0m\u001B[0m\n\u001B[0;32m    587\u001B[0m     \u001B[1;32mdef\u001B[0m \u001B[0m_get_columns_formatted_values\u001B[0m\u001B[1;33m(\u001B[0m\u001B[0mself\u001B[0m\u001B[1;33m)\u001B[0m \u001B[1;33m->\u001B[0m \u001B[0mlist\u001B[0m\u001B[1;33m[\u001B[0m\u001B[0mstr\u001B[0m\u001B[1;33m]\u001B[0m\u001B[1;33m:\u001B[0m\u001B[1;33m\u001B[0m\u001B[1;33m\u001B[0m\u001B[0m\n",
      "\u001B[1;32m~\\Documents\\GitHub\\Nueorinformatics_project\\venv\\lib\\site-packages\\pandas\\io\\formats\\html.py\u001B[0m in \u001B[0;36m<dictcomp>\u001B[1;34m(.0)\u001B[0m\n\u001B[0;32m    583\u001B[0m \u001B[1;33m\u001B[0m\u001B[0m\n\u001B[0;32m    584\u001B[0m     \u001B[1;32mdef\u001B[0m \u001B[0m_get_formatted_values\u001B[0m\u001B[1;33m(\u001B[0m\u001B[0mself\u001B[0m\u001B[1;33m)\u001B[0m \u001B[1;33m->\u001B[0m \u001B[0mdict\u001B[0m\u001B[1;33m[\u001B[0m\u001B[0mint\u001B[0m\u001B[1;33m,\u001B[0m \u001B[0mlist\u001B[0m\u001B[1;33m[\u001B[0m\u001B[0mstr\u001B[0m\u001B[1;33m]\u001B[0m\u001B[1;33m]\u001B[0m\u001B[1;33m:\u001B[0m\u001B[1;33m\u001B[0m\u001B[1;33m\u001B[0m\u001B[0m\n\u001B[1;32m--> 585\u001B[1;33m         \u001B[1;32mreturn\u001B[0m \u001B[1;33m{\u001B[0m\u001B[0mi\u001B[0m\u001B[1;33m:\u001B[0m \u001B[0mself\u001B[0m\u001B[1;33m.\u001B[0m\u001B[0mfmt\u001B[0m\u001B[1;33m.\u001B[0m\u001B[0mformat_col\u001B[0m\u001B[1;33m(\u001B[0m\u001B[0mi\u001B[0m\u001B[1;33m)\u001B[0m \u001B[1;32mfor\u001B[0m \u001B[0mi\u001B[0m \u001B[1;32min\u001B[0m \u001B[0mrange\u001B[0m\u001B[1;33m(\u001B[0m\u001B[0mself\u001B[0m\u001B[1;33m.\u001B[0m\u001B[0mncols\u001B[0m\u001B[1;33m)\u001B[0m\u001B[1;33m}\u001B[0m\u001B[1;33m\u001B[0m\u001B[1;33m\u001B[0m\u001B[0m\n\u001B[0m\u001B[0;32m    586\u001B[0m \u001B[1;33m\u001B[0m\u001B[0m\n\u001B[0;32m    587\u001B[0m     \u001B[1;32mdef\u001B[0m \u001B[0m_get_columns_formatted_values\u001B[0m\u001B[1;33m(\u001B[0m\u001B[0mself\u001B[0m\u001B[1;33m)\u001B[0m \u001B[1;33m->\u001B[0m \u001B[0mlist\u001B[0m\u001B[1;33m[\u001B[0m\u001B[0mstr\u001B[0m\u001B[1;33m]\u001B[0m\u001B[1;33m:\u001B[0m\u001B[1;33m\u001B[0m\u001B[1;33m\u001B[0m\u001B[0m\n",
      "\u001B[1;32m~\\Documents\\GitHub\\Nueorinformatics_project\\venv\\lib\\site-packages\\pandas\\io\\formats\\format.py\u001B[0m in \u001B[0;36mformat_col\u001B[1;34m(self, i)\u001B[0m\n\u001B[0;32m    823\u001B[0m             \u001B[0mspace\u001B[0m\u001B[1;33m=\u001B[0m\u001B[0mself\u001B[0m\u001B[1;33m.\u001B[0m\u001B[0mcol_space\u001B[0m\u001B[1;33m.\u001B[0m\u001B[0mget\u001B[0m\u001B[1;33m(\u001B[0m\u001B[0mframe\u001B[0m\u001B[1;33m.\u001B[0m\u001B[0mcolumns\u001B[0m\u001B[1;33m[\u001B[0m\u001B[0mi\u001B[0m\u001B[1;33m]\u001B[0m\u001B[1;33m)\u001B[0m\u001B[1;33m,\u001B[0m\u001B[1;33m\u001B[0m\u001B[1;33m\u001B[0m\u001B[0m\n\u001B[0;32m    824\u001B[0m             \u001B[0mdecimal\u001B[0m\u001B[1;33m=\u001B[0m\u001B[0mself\u001B[0m\u001B[1;33m.\u001B[0m\u001B[0mdecimal\u001B[0m\u001B[1;33m,\u001B[0m\u001B[1;33m\u001B[0m\u001B[1;33m\u001B[0m\u001B[0m\n\u001B[1;32m--> 825\u001B[1;33m             \u001B[0mleading_space\u001B[0m\u001B[1;33m=\u001B[0m\u001B[0mself\u001B[0m\u001B[1;33m.\u001B[0m\u001B[0mindex\u001B[0m\u001B[1;33m,\u001B[0m\u001B[1;33m\u001B[0m\u001B[1;33m\u001B[0m\u001B[0m\n\u001B[0m\u001B[0;32m    826\u001B[0m         )\n\u001B[0;32m    827\u001B[0m \u001B[1;33m\u001B[0m\u001B[0m\n",
      "\u001B[1;32m~\\Documents\\GitHub\\Nueorinformatics_project\\venv\\lib\\site-packages\\pandas\\io\\formats\\format.py\u001B[0m in \u001B[0;36mformat_array\u001B[1;34m(values, formatter, float_format, na_rep, digits, space, justify, decimal, leading_space, quoting)\u001B[0m\n\u001B[0;32m   1238\u001B[0m     )\n\u001B[0;32m   1239\u001B[0m \u001B[1;33m\u001B[0m\u001B[0m\n\u001B[1;32m-> 1240\u001B[1;33m     \u001B[1;32mreturn\u001B[0m \u001B[0mfmt_obj\u001B[0m\u001B[1;33m.\u001B[0m\u001B[0mget_result\u001B[0m\u001B[1;33m(\u001B[0m\u001B[1;33m)\u001B[0m\u001B[1;33m\u001B[0m\u001B[1;33m\u001B[0m\u001B[0m\n\u001B[0m\u001B[0;32m   1241\u001B[0m \u001B[1;33m\u001B[0m\u001B[0m\n\u001B[0;32m   1242\u001B[0m \u001B[1;33m\u001B[0m\u001B[0m\n",
      "\u001B[1;32m~\\Documents\\GitHub\\Nueorinformatics_project\\venv\\lib\\site-packages\\pandas\\io\\formats\\format.py\u001B[0m in \u001B[0;36mget_result\u001B[1;34m(self)\u001B[0m\n\u001B[0;32m   1269\u001B[0m \u001B[1;33m\u001B[0m\u001B[0m\n\u001B[0;32m   1270\u001B[0m     \u001B[1;32mdef\u001B[0m \u001B[0mget_result\u001B[0m\u001B[1;33m(\u001B[0m\u001B[0mself\u001B[0m\u001B[1;33m)\u001B[0m \u001B[1;33m->\u001B[0m \u001B[0mlist\u001B[0m\u001B[1;33m[\u001B[0m\u001B[0mstr\u001B[0m\u001B[1;33m]\u001B[0m\u001B[1;33m:\u001B[0m\u001B[1;33m\u001B[0m\u001B[1;33m\u001B[0m\u001B[0m\n\u001B[1;32m-> 1271\u001B[1;33m         \u001B[0mfmt_values\u001B[0m \u001B[1;33m=\u001B[0m \u001B[0mself\u001B[0m\u001B[1;33m.\u001B[0m\u001B[0m_format_strings\u001B[0m\u001B[1;33m(\u001B[0m\u001B[1;33m)\u001B[0m\u001B[1;33m\u001B[0m\u001B[1;33m\u001B[0m\u001B[0m\n\u001B[0m\u001B[0;32m   1272\u001B[0m         \u001B[1;32mreturn\u001B[0m \u001B[0m_make_fixed_width\u001B[0m\u001B[1;33m(\u001B[0m\u001B[0mfmt_values\u001B[0m\u001B[1;33m,\u001B[0m \u001B[0mself\u001B[0m\u001B[1;33m.\u001B[0m\u001B[0mjustify\u001B[0m\u001B[1;33m)\u001B[0m\u001B[1;33m\u001B[0m\u001B[1;33m\u001B[0m\u001B[0m\n\u001B[0;32m   1273\u001B[0m \u001B[1;33m\u001B[0m\u001B[0m\n",
      "\u001B[1;32m~\\Documents\\GitHub\\Nueorinformatics_project\\venv\\lib\\site-packages\\pandas\\io\\formats\\format.py\u001B[0m in \u001B[0;36m_format_strings\u001B[1;34m(self)\u001B[0m\n\u001B[0;32m   1332\u001B[0m         \u001B[1;32mfor\u001B[0m \u001B[0mi\u001B[0m\u001B[1;33m,\u001B[0m \u001B[0mv\u001B[0m \u001B[1;32min\u001B[0m \u001B[0menumerate\u001B[0m\u001B[1;33m(\u001B[0m\u001B[0mvals\u001B[0m\u001B[1;33m)\u001B[0m\u001B[1;33m:\u001B[0m\u001B[1;33m\u001B[0m\u001B[1;33m\u001B[0m\u001B[0m\n\u001B[0;32m   1333\u001B[0m             \u001B[1;32mif\u001B[0m \u001B[1;32mnot\u001B[0m \u001B[0mis_float_type\u001B[0m\u001B[1;33m[\u001B[0m\u001B[0mi\u001B[0m\u001B[1;33m]\u001B[0m \u001B[1;32mand\u001B[0m \u001B[0mleading_space\u001B[0m\u001B[1;33m:\u001B[0m\u001B[1;33m\u001B[0m\u001B[1;33m\u001B[0m\u001B[0m\n\u001B[1;32m-> 1334\u001B[1;33m                 \u001B[0mfmt_values\u001B[0m\u001B[1;33m.\u001B[0m\u001B[0mappend\u001B[0m\u001B[1;33m(\u001B[0m\u001B[1;34mf\" {_format(v)}\"\u001B[0m\u001B[1;33m)\u001B[0m\u001B[1;33m\u001B[0m\u001B[1;33m\u001B[0m\u001B[0m\n\u001B[0m\u001B[0;32m   1335\u001B[0m             \u001B[1;32melif\u001B[0m \u001B[0mis_float_type\u001B[0m\u001B[1;33m[\u001B[0m\u001B[0mi\u001B[0m\u001B[1;33m]\u001B[0m\u001B[1;33m:\u001B[0m\u001B[1;33m\u001B[0m\u001B[1;33m\u001B[0m\u001B[0m\n\u001B[0;32m   1336\u001B[0m                 \u001B[0mfmt_values\u001B[0m\u001B[1;33m.\u001B[0m\u001B[0mappend\u001B[0m\u001B[1;33m(\u001B[0m\u001B[0mfloat_format\u001B[0m\u001B[1;33m(\u001B[0m\u001B[0mv\u001B[0m\u001B[1;33m)\u001B[0m\u001B[1;33m)\u001B[0m\u001B[1;33m\u001B[0m\u001B[1;33m\u001B[0m\u001B[0m\n",
      "\u001B[1;32m~\\Documents\\GitHub\\Nueorinformatics_project\\venv\\lib\\site-packages\\pandas\\io\\formats\\format.py\u001B[0m in \u001B[0;36m_format\u001B[1;34m(x)\u001B[0m\n\u001B[0;32m   1312\u001B[0m             \u001B[1;32melse\u001B[0m\u001B[1;33m:\u001B[0m\u001B[1;33m\u001B[0m\u001B[1;33m\u001B[0m\u001B[0m\n\u001B[0;32m   1313\u001B[0m                 \u001B[1;31m# object dtype\u001B[0m\u001B[1;33m\u001B[0m\u001B[1;33m\u001B[0m\u001B[1;33m\u001B[0m\u001B[0m\n\u001B[1;32m-> 1314\u001B[1;33m                 \u001B[1;32mreturn\u001B[0m \u001B[0mstr\u001B[0m\u001B[1;33m(\u001B[0m\u001B[0mformatter\u001B[0m\u001B[1;33m(\u001B[0m\u001B[0mx\u001B[0m\u001B[1;33m)\u001B[0m\u001B[1;33m)\u001B[0m\u001B[1;33m\u001B[0m\u001B[1;33m\u001B[0m\u001B[0m\n\u001B[0m\u001B[0;32m   1315\u001B[0m \u001B[1;33m\u001B[0m\u001B[0m\n\u001B[0;32m   1316\u001B[0m         \u001B[0mvals\u001B[0m \u001B[1;33m=\u001B[0m \u001B[0mextract_array\u001B[0m\u001B[1;33m(\u001B[0m\u001B[0mself\u001B[0m\u001B[1;33m.\u001B[0m\u001B[0mvalues\u001B[0m\u001B[1;33m,\u001B[0m \u001B[0mextract_numpy\u001B[0m\u001B[1;33m=\u001B[0m\u001B[1;32mTrue\u001B[0m\u001B[1;33m)\u001B[0m\u001B[1;33m\u001B[0m\u001B[1;33m\u001B[0m\u001B[0m\n",
      "\u001B[1;32m~\\Documents\\GitHub\\Nueorinformatics_project\\venv\\lib\\site-packages\\pandas\\io\\formats\\printing.py\u001B[0m in \u001B[0;36mpprint_thing\u001B[1;34m(thing, _nest_lvl, escape_chars, default_escapes, quote_strings, max_seq_items)\u001B[0m\n\u001B[0;32m    226\u001B[0m             \u001B[0mescape_chars\u001B[0m\u001B[1;33m=\u001B[0m\u001B[0mescape_chars\u001B[0m\u001B[1;33m,\u001B[0m\u001B[1;33m\u001B[0m\u001B[1;33m\u001B[0m\u001B[0m\n\u001B[0;32m    227\u001B[0m             \u001B[0mquote_strings\u001B[0m\u001B[1;33m=\u001B[0m\u001B[0mquote_strings\u001B[0m\u001B[1;33m,\u001B[0m\u001B[1;33m\u001B[0m\u001B[1;33m\u001B[0m\u001B[0m\n\u001B[1;32m--> 228\u001B[1;33m             \u001B[0mmax_seq_items\u001B[0m\u001B[1;33m=\u001B[0m\u001B[0mmax_seq_items\u001B[0m\u001B[1;33m,\u001B[0m\u001B[1;33m\u001B[0m\u001B[1;33m\u001B[0m\u001B[0m\n\u001B[0m\u001B[0;32m    229\u001B[0m         )\n\u001B[0;32m    230\u001B[0m     \u001B[1;32melif\u001B[0m \u001B[0misinstance\u001B[0m\u001B[1;33m(\u001B[0m\u001B[0mthing\u001B[0m\u001B[1;33m,\u001B[0m \u001B[0mstr\u001B[0m\u001B[1;33m)\u001B[0m \u001B[1;32mand\u001B[0m \u001B[0mquote_strings\u001B[0m\u001B[1;33m:\u001B[0m\u001B[1;33m\u001B[0m\u001B[1;33m\u001B[0m\u001B[0m\n",
      "\u001B[1;32m~\\Documents\\GitHub\\Nueorinformatics_project\\venv\\lib\\site-packages\\pandas\\io\\formats\\printing.py\u001B[0m in \u001B[0;36m_pprint_seq\u001B[1;34m(seq, _nest_lvl, max_seq_items, **kwds)\u001B[0m\n\u001B[0;32m    120\u001B[0m     r = [\n\u001B[0;32m    121\u001B[0m         \u001B[0mpprint_thing\u001B[0m\u001B[1;33m(\u001B[0m\u001B[0mnext\u001B[0m\u001B[1;33m(\u001B[0m\u001B[0ms\u001B[0m\u001B[1;33m)\u001B[0m\u001B[1;33m,\u001B[0m \u001B[0m_nest_lvl\u001B[0m \u001B[1;33m+\u001B[0m \u001B[1;36m1\u001B[0m\u001B[1;33m,\u001B[0m \u001B[0mmax_seq_items\u001B[0m\u001B[1;33m=\u001B[0m\u001B[0mmax_seq_items\u001B[0m\u001B[1;33m,\u001B[0m \u001B[1;33m**\u001B[0m\u001B[0mkwds\u001B[0m\u001B[1;33m)\u001B[0m\u001B[1;33m\u001B[0m\u001B[1;33m\u001B[0m\u001B[0m\n\u001B[1;32m--> 122\u001B[1;33m         \u001B[1;32mfor\u001B[0m \u001B[0mi\u001B[0m \u001B[1;32min\u001B[0m \u001B[0mrange\u001B[0m\u001B[1;33m(\u001B[0m\u001B[0mmin\u001B[0m\u001B[1;33m(\u001B[0m\u001B[0mnitems\u001B[0m\u001B[1;33m,\u001B[0m \u001B[0mlen\u001B[0m\u001B[1;33m(\u001B[0m\u001B[0mseq\u001B[0m\u001B[1;33m)\u001B[0m\u001B[1;33m)\u001B[0m\u001B[1;33m)\u001B[0m\u001B[1;33m\u001B[0m\u001B[1;33m\u001B[0m\u001B[0m\n\u001B[0m\u001B[0;32m    123\u001B[0m     ]\n\u001B[0;32m    124\u001B[0m     \u001B[0mbody\u001B[0m \u001B[1;33m=\u001B[0m \u001B[1;34m\", \"\u001B[0m\u001B[1;33m.\u001B[0m\u001B[0mjoin\u001B[0m\u001B[1;33m(\u001B[0m\u001B[0mr\u001B[0m\u001B[1;33m)\u001B[0m\u001B[1;33m\u001B[0m\u001B[1;33m\u001B[0m\u001B[0m\n",
      "\u001B[1;32m~\\Documents\\GitHub\\Nueorinformatics_project\\venv\\lib\\site-packages\\pandas\\io\\formats\\printing.py\u001B[0m in \u001B[0;36m<listcomp>\u001B[1;34m(.0)\u001B[0m\n\u001B[0;32m    120\u001B[0m     r = [\n\u001B[0;32m    121\u001B[0m         \u001B[0mpprint_thing\u001B[0m\u001B[1;33m(\u001B[0m\u001B[0mnext\u001B[0m\u001B[1;33m(\u001B[0m\u001B[0ms\u001B[0m\u001B[1;33m)\u001B[0m\u001B[1;33m,\u001B[0m \u001B[0m_nest_lvl\u001B[0m \u001B[1;33m+\u001B[0m \u001B[1;36m1\u001B[0m\u001B[1;33m,\u001B[0m \u001B[0mmax_seq_items\u001B[0m\u001B[1;33m=\u001B[0m\u001B[0mmax_seq_items\u001B[0m\u001B[1;33m,\u001B[0m \u001B[1;33m**\u001B[0m\u001B[0mkwds\u001B[0m\u001B[1;33m)\u001B[0m\u001B[1;33m\u001B[0m\u001B[1;33m\u001B[0m\u001B[0m\n\u001B[1;32m--> 122\u001B[1;33m         \u001B[1;32mfor\u001B[0m \u001B[0mi\u001B[0m \u001B[1;32min\u001B[0m \u001B[0mrange\u001B[0m\u001B[1;33m(\u001B[0m\u001B[0mmin\u001B[0m\u001B[1;33m(\u001B[0m\u001B[0mnitems\u001B[0m\u001B[1;33m,\u001B[0m \u001B[0mlen\u001B[0m\u001B[1;33m(\u001B[0m\u001B[0mseq\u001B[0m\u001B[1;33m)\u001B[0m\u001B[1;33m)\u001B[0m\u001B[1;33m)\u001B[0m\u001B[1;33m\u001B[0m\u001B[1;33m\u001B[0m\u001B[0m\n\u001B[0m\u001B[0;32m    123\u001B[0m     ]\n\u001B[0;32m    124\u001B[0m     \u001B[0mbody\u001B[0m \u001B[1;33m=\u001B[0m \u001B[1;34m\", \"\u001B[0m\u001B[1;33m.\u001B[0m\u001B[0mjoin\u001B[0m\u001B[1;33m(\u001B[0m\u001B[0mr\u001B[0m\u001B[1;33m)\u001B[0m\u001B[1;33m\u001B[0m\u001B[1;33m\u001B[0m\u001B[0m\n",
      "\u001B[1;32m~\\Documents\\GitHub\\Nueorinformatics_project\\venv\\lib\\site-packages\\mne\\io\\base.py\u001B[0m in \u001B[0;36m__getitem__\u001B[1;34m(self, item)\u001B[0m\n\u001B[0;32m    746\u001B[0m \u001B[1;33m\u001B[0m\u001B[0m\n\u001B[0;32m    747\u001B[0m         \"\"\"  # noqa: E501\n\u001B[1;32m--> 748\u001B[1;33m         \u001B[1;32mreturn\u001B[0m \u001B[0mself\u001B[0m\u001B[1;33m.\u001B[0m\u001B[0m_getitem\u001B[0m\u001B[1;33m(\u001B[0m\u001B[0mitem\u001B[0m\u001B[1;33m)\u001B[0m\u001B[1;33m\u001B[0m\u001B[1;33m\u001B[0m\u001B[0m\n\u001B[0m\u001B[0;32m    749\u001B[0m \u001B[1;33m\u001B[0m\u001B[0m\n\u001B[0;32m    750\u001B[0m     \u001B[1;32mdef\u001B[0m \u001B[0m_getitem\u001B[0m\u001B[1;33m(\u001B[0m\u001B[0mself\u001B[0m\u001B[1;33m,\u001B[0m \u001B[0mitem\u001B[0m\u001B[1;33m,\u001B[0m \u001B[0mreturn_times\u001B[0m\u001B[1;33m=\u001B[0m\u001B[1;32mTrue\u001B[0m\u001B[1;33m)\u001B[0m\u001B[1;33m:\u001B[0m\u001B[1;33m\u001B[0m\u001B[1;33m\u001B[0m\u001B[0m\n",
      "\u001B[1;32m~\\Documents\\GitHub\\Nueorinformatics_project\\venv\\lib\\site-packages\\mne\\io\\base.py\u001B[0m in \u001B[0;36m_getitem\u001B[1;34m(self, item, return_times)\u001B[0m\n\u001B[0;32m    749\u001B[0m \u001B[1;33m\u001B[0m\u001B[0m\n\u001B[0;32m    750\u001B[0m     \u001B[1;32mdef\u001B[0m \u001B[0m_getitem\u001B[0m\u001B[1;33m(\u001B[0m\u001B[0mself\u001B[0m\u001B[1;33m,\u001B[0m \u001B[0mitem\u001B[0m\u001B[1;33m,\u001B[0m \u001B[0mreturn_times\u001B[0m\u001B[1;33m=\u001B[0m\u001B[1;32mTrue\u001B[0m\u001B[1;33m)\u001B[0m\u001B[1;33m:\u001B[0m\u001B[1;33m\u001B[0m\u001B[1;33m\u001B[0m\u001B[0m\n\u001B[1;32m--> 751\u001B[1;33m         \u001B[0msel\u001B[0m\u001B[1;33m,\u001B[0m \u001B[0mstart\u001B[0m\u001B[1;33m,\u001B[0m \u001B[0mstop\u001B[0m \u001B[1;33m=\u001B[0m \u001B[0mself\u001B[0m\u001B[1;33m.\u001B[0m\u001B[0m_parse_get_set_params\u001B[0m\u001B[1;33m(\u001B[0m\u001B[0mitem\u001B[0m\u001B[1;33m)\u001B[0m\u001B[1;33m\u001B[0m\u001B[1;33m\u001B[0m\u001B[0m\n\u001B[0m\u001B[0;32m    752\u001B[0m         \u001B[1;32mif\u001B[0m \u001B[0mself\u001B[0m\u001B[1;33m.\u001B[0m\u001B[0mpreload\u001B[0m\u001B[1;33m:\u001B[0m\u001B[1;33m\u001B[0m\u001B[1;33m\u001B[0m\u001B[0m\n\u001B[0;32m    753\u001B[0m             \u001B[0mdata\u001B[0m \u001B[1;33m=\u001B[0m \u001B[0mself\u001B[0m\u001B[1;33m.\u001B[0m\u001B[0m_data\u001B[0m\u001B[1;33m[\u001B[0m\u001B[0msel\u001B[0m\u001B[1;33m,\u001B[0m \u001B[0mstart\u001B[0m\u001B[1;33m:\u001B[0m\u001B[0mstop\u001B[0m\u001B[1;33m]\u001B[0m\u001B[1;33m\u001B[0m\u001B[1;33m\u001B[0m\u001B[0m\n",
      "\u001B[1;32m~\\Documents\\GitHub\\Nueorinformatics_project\\venv\\lib\\site-packages\\mne\\io\\base.py\u001B[0m in \u001B[0;36m_parse_get_set_params\u001B[1;34m(self, item)\u001B[0m\n\u001B[0;32m    681\u001B[0m                                \"and time)\")\n\u001B[0;32m    682\u001B[0m \u001B[1;33m\u001B[0m\u001B[0m\n\u001B[1;32m--> 683\u001B[1;33m         \u001B[0msel\u001B[0m \u001B[1;33m=\u001B[0m \u001B[0m_picks_to_idx\u001B[0m\u001B[1;33m(\u001B[0m\u001B[0mself\u001B[0m\u001B[1;33m.\u001B[0m\u001B[0minfo\u001B[0m\u001B[1;33m,\u001B[0m \u001B[0mitem\u001B[0m\u001B[1;33m[\u001B[0m\u001B[1;36m0\u001B[0m\u001B[1;33m]\u001B[0m\u001B[1;33m)\u001B[0m\u001B[1;33m\u001B[0m\u001B[1;33m\u001B[0m\u001B[0m\n\u001B[0m\u001B[0;32m    684\u001B[0m \u001B[1;33m\u001B[0m\u001B[0m\n\u001B[0;32m    685\u001B[0m         \u001B[1;32mif\u001B[0m \u001B[0misinstance\u001B[0m\u001B[1;33m(\u001B[0m\u001B[0mitem\u001B[0m\u001B[1;33m[\u001B[0m\u001B[1;36m1\u001B[0m\u001B[1;33m]\u001B[0m\u001B[1;33m,\u001B[0m \u001B[0mslice\u001B[0m\u001B[1;33m)\u001B[0m\u001B[1;33m:\u001B[0m\u001B[1;33m\u001B[0m\u001B[1;33m\u001B[0m\u001B[0m\n",
      "\u001B[1;32m~\\Documents\\GitHub\\Nueorinformatics_project\\venv\\lib\\site-packages\\mne\\io\\pick.py\u001B[0m in \u001B[0;36m_picks_to_idx\u001B[1;34m(info, picks, none, exclude, allow_empty, with_ref_meg, return_kind, picks_on)\u001B[0m\n\u001B[0;32m   1045\u001B[0m     \u001B[1;32mif\u001B[0m \u001B[1;33m(\u001B[0m\u001B[0mpicks\u001B[0m \u001B[1;33m>=\u001B[0m \u001B[0mn_chan\u001B[0m\u001B[1;33m)\u001B[0m\u001B[1;33m.\u001B[0m\u001B[0many\u001B[0m\u001B[1;33m(\u001B[0m\u001B[1;33m)\u001B[0m\u001B[1;33m:\u001B[0m\u001B[1;33m\u001B[0m\u001B[1;33m\u001B[0m\u001B[0m\n\u001B[0;32m   1046\u001B[0m         raise ValueError('All picks must be < n_%s (%d), got %r'\n\u001B[1;32m-> 1047\u001B[1;33m                          % (picks_on, n_chan, orig_picks))\n\u001B[0m\u001B[0;32m   1048\u001B[0m     \u001B[0mpicks\u001B[0m \u001B[1;33m%=\u001B[0m \u001B[0mn_chan\u001B[0m  \u001B[1;31m# ensure positive\u001B[0m\u001B[1;33m\u001B[0m\u001B[1;33m\u001B[0m\u001B[0m\n\u001B[0;32m   1049\u001B[0m     \u001B[1;32mif\u001B[0m \u001B[0mreturn_kind\u001B[0m\u001B[1;33m:\u001B[0m\u001B[1;33m\u001B[0m\u001B[1;33m\u001B[0m\u001B[0m\n",
      "\u001B[1;31mValueError\u001B[0m: All picks must be < n_channels (21), got 21"
     ]
    }
   ],
   "source": [
    "df_FREE"
   ]
  },
  {
   "cell_type": "code",
   "execution_count": 14,
   "id": "8ab93ad1",
   "metadata": {
    "pycharm": {
     "name": "#%%\n"
    }
   },
   "outputs": [],
   "source": [
    "def epoch_Data(arr,action):\n",
    "    res=[]\n",
    "    obj=[]\n",
    "    for i in tqdm(arr):\n",
    "        try:\n",
    "            float(i[-1])\n",
    "        except ValueError:\n",
    "            if len(obj)>0:\n",
    "                 res.append(obj)\n",
    "            obj=[] \n",
    "        else:\n",
    "       \n",
    "            if int(i[-1])==action:\n",
    "                obj.append(i)\n",
    "            else:\n",
    "                if len(obj)>0:\n",
    "                    res.append(obj)\n",
    "                obj=[] \n",
    "    return res\n",
    "        \n",
    "        "
   ]
  },
  {
   "cell_type": "code",
   "execution_count": 15,
   "id": "1426ed95",
   "metadata": {
    "pycharm": {
     "name": "#%%\n"
    }
   },
   "outputs": [],
   "source": [
    "def make_all_same_length(data,length):\n",
    "      return [i[0:length] for i in data]\n",
    "        "
   ]
  },
  {
   "cell_type": "code",
   "execution_count": 16,
   "id": "9be1a26b",
   "metadata": {
    "pycharm": {
     "name": "#%%\n"
    }
   },
   "outputs": [],
   "source": [
    "def epoch_Data_2(arr,action):\n",
    "    res=[]\n",
    "    obj=[]\n",
    "    for ind,i in tqdm(enumerate(arr)):\n",
    "        try:\n",
    "            float(i[-1])\n",
    "        except ValueError:\n",
    "            if len(obj)>0:\n",
    "                 res.append(obj)\n",
    "            obj=[] \n",
    "        else:\n",
    "                if int(i[-1])==action:\n",
    "                    if len(obj)==0:\n",
    "                        obj.extend([*arr[ind-200:ind+1]])\n",
    "                    else:\n",
    "                        obj.append(i)\n",
    "                else:\n",
    "                    if len(obj)>0:\n",
    "                        res.append(obj)\n",
    "                    obj=[] \n",
    "    return res\n",
    "        \n",
    "        "
   ]
  },
  {
   "cell_type": "code",
   "execution_count": 17,
   "id": "80ba817e",
   "metadata": {
    "pycharm": {
     "name": "#%%\n"
    }
   },
   "outputs": [],
   "source": [
    "arr_NoMT=df_No_MT.to_numpy()\n",
    "arr_FREE=df_FREE.to_numpy()\n"
   ]
  },
  {
   "cell_type": "code",
   "execution_count": 18,
   "id": "c236cea3",
   "metadata": {
    "pycharm": {
     "name": "#%%\n"
    }
   },
   "outputs": [
    {
     "name": "stderr",
     "output_type": "stream",
     "text": [
      "  0%|          | 0/7 [00:00<?, ?it/s]\n"
     ]
    },
    {
     "ename": "TypeError",
     "evalue": "float() argument must be a string or a number, not 'RawArray'",
     "output_type": "error",
     "traceback": [
      "\u001B[1;31m---------------------------------------------------------------------------\u001B[0m",
      "\u001B[1;31mTypeError\u001B[0m                                 Traceback (most recent call last)",
      "\u001B[1;32m~\\AppData\\Local\\Temp\\ipykernel_6724\\489708571.py\u001B[0m in \u001B[0;36m<module>\u001B[1;34m\u001B[0m\n\u001B[1;32m----> 1\u001B[1;33m \u001B[0msplitted_nomt\u001B[0m\u001B[1;33m=\u001B[0m\u001B[0mepoch_Data\u001B[0m\u001B[1;33m(\u001B[0m\u001B[0marr_NoMT\u001B[0m\u001B[1;33m,\u001B[0m\u001B[1;36m0\u001B[0m\u001B[1;33m)\u001B[0m\u001B[1;33m\u001B[0m\u001B[1;33m\u001B[0m\u001B[0m\n\u001B[0m\u001B[0;32m      2\u001B[0m \u001B[0msplitted_free\u001B[0m\u001B[1;33m=\u001B[0m\u001B[0mepoch_Data_2\u001B[0m\u001B[1;33m(\u001B[0m\u001B[0marr_FREE\u001B[0m\u001B[1;33m,\u001B[0m\u001B[1;36m1\u001B[0m\u001B[1;33m)\u001B[0m\u001B[1;33m\u001B[0m\u001B[1;33m\u001B[0m\u001B[0m\n",
      "\u001B[1;32m~\\AppData\\Local\\Temp\\ipykernel_6724\\2609068067.py\u001B[0m in \u001B[0;36mepoch_Data\u001B[1;34m(arr, action)\u001B[0m\n\u001B[0;32m      4\u001B[0m     \u001B[1;32mfor\u001B[0m \u001B[0mi\u001B[0m \u001B[1;32min\u001B[0m \u001B[0mtqdm\u001B[0m\u001B[1;33m(\u001B[0m\u001B[0marr\u001B[0m\u001B[1;33m)\u001B[0m\u001B[1;33m:\u001B[0m\u001B[1;33m\u001B[0m\u001B[1;33m\u001B[0m\u001B[0m\n\u001B[0;32m      5\u001B[0m         \u001B[1;32mtry\u001B[0m\u001B[1;33m:\u001B[0m\u001B[1;33m\u001B[0m\u001B[1;33m\u001B[0m\u001B[0m\n\u001B[1;32m----> 6\u001B[1;33m             \u001B[0mfloat\u001B[0m\u001B[1;33m(\u001B[0m\u001B[0mi\u001B[0m\u001B[1;33m[\u001B[0m\u001B[1;33m-\u001B[0m\u001B[1;36m1\u001B[0m\u001B[1;33m]\u001B[0m\u001B[1;33m)\u001B[0m\u001B[1;33m\u001B[0m\u001B[1;33m\u001B[0m\u001B[0m\n\u001B[0m\u001B[0;32m      7\u001B[0m         \u001B[1;32mexcept\u001B[0m \u001B[0mValueError\u001B[0m\u001B[1;33m:\u001B[0m\u001B[1;33m\u001B[0m\u001B[1;33m\u001B[0m\u001B[0m\n\u001B[0;32m      8\u001B[0m             \u001B[1;32mif\u001B[0m \u001B[0mlen\u001B[0m\u001B[1;33m(\u001B[0m\u001B[0mobj\u001B[0m\u001B[1;33m)\u001B[0m\u001B[1;33m>\u001B[0m\u001B[1;36m0\u001B[0m\u001B[1;33m:\u001B[0m\u001B[1;33m\u001B[0m\u001B[1;33m\u001B[0m\u001B[0m\n",
      "\u001B[1;31mTypeError\u001B[0m: float() argument must be a string or a number, not 'RawArray'"
     ]
    }
   ],
   "source": [
    "splitted_nomt=epoch_Data(arr_NoMT,0)\n",
    "splitted_free=epoch_Data_2(arr_FREE,1)"
   ]
  },
  {
   "cell_type": "code",
   "execution_count": null,
   "id": "546a6d30",
   "metadata": {
    "pycharm": {
     "name": "#%%\n"
    }
   },
   "outputs": [],
   "source": [
    "splitted_and_filtered_nomt=[i for i in splitted_nomt if len(i)<500 and len(i)>400]\n",
    "splitted_and_filtered_free=[i for i in splitted_free if len(i)<500 and len(i)>400]\n",
    "len(splitted_and_filtered_free)\n",
    "len(splitted_and_filtered_nomt)"
   ]
  },
  {
   "cell_type": "code",
   "execution_count": null,
   "id": "d17d9e8b",
   "metadata": {
    "pycharm": {
     "name": "#%%\n"
    }
   },
   "outputs": [],
   "source": [
    "splitted_filtered_cropped_nomt=make_all_same_length(splitted_and_filtered_nomt,400)\n",
    "splitted_filtered_cropped_free=make_all_same_length(splitted_and_filtered_free,400)\n"
   ]
  },
  {
   "cell_type": "code",
   "execution_count": null,
   "id": "7e588a69",
   "metadata": {
    "pycharm": {
     "name": "#%%\n"
    }
   },
   "outputs": [],
   "source": [
    "X_nomt=np.array(splitted_filtered_cropped_nomt)\n",
    "X_nomt=np.swapaxes(X_nomt,1,2)\n",
    "X_free=np.array(splitted_filtered_cropped_free)\n",
    "X_free=np.swapaxes(X_free,1,2)"
   ]
  },
  {
   "cell_type": "code",
   "execution_count": null,
   "id": "4a3cc779",
   "metadata": {
    "pycharm": {
     "name": "#%%\n"
    }
   },
   "outputs": [],
   "source": [
    "X_nomt.shape"
   ]
  },
  {
   "cell_type": "code",
   "execution_count": null,
   "id": "a4dde47d",
   "metadata": {
    "pycharm": {
     "name": "#%%\n"
    }
   },
   "outputs": [],
   "source": [
    "X_free.shape"
   ]
  },
  {
   "cell_type": "code",
   "execution_count": null,
   "id": "ed221414",
   "metadata": {
    "pycharm": {
     "name": "#%%\n"
    }
   },
   "outputs": [],
   "source": [
    "X_nomt_train=X_nomt[:3000]\n",
    "X_nomt_test=X_nomt[3000:]"
   ]
  },
  {
   "cell_type": "code",
   "execution_count": 19,
   "id": "0cd2b5f5",
   "metadata": {
    "pycharm": {
     "name": "#%%\n"
    }
   },
   "outputs": [],
   "source": [
    "# Overwriting\n",
    "X_nomt_train=stacked_NOMT[:12000]\n",
    "X_nomt_test=stacked_NOMT[12000:]"
   ]
  },
  {
   "cell_type": "code",
   "execution_count": 33,
   "outputs": [],
   "source": [
    "X_free = stacked_FREEFORM"
   ],
   "metadata": {
    "collapsed": false,
    "pycharm": {
     "name": "#%%\n"
    }
   }
  },
  {
   "cell_type": "code",
   "execution_count": 30,
   "outputs": [
    {
     "data": {
      "text/plain": "(13506, 21, 141)"
     },
     "execution_count": 30,
     "metadata": {},
     "output_type": "execute_result"
    }
   ],
   "source": [
    "stacked_NOMT.shape"
   ],
   "metadata": {
    "collapsed": false,
    "pycharm": {
     "name": "#%%\n"
    }
   }
  },
  {
   "cell_type": "code",
   "execution_count": 31,
   "outputs": [
    {
     "data": {
      "text/plain": "(4270, 21, 141)"
     },
     "execution_count": 31,
     "metadata": {},
     "output_type": "execute_result"
    }
   ],
   "source": [
    "stacked_FREEFORM.shape"
   ],
   "metadata": {
    "collapsed": false,
    "pycharm": {
     "name": "#%%\n"
    }
   }
  },
  {
   "cell_type": "code",
   "execution_count": 20,
   "id": "eeb87f89",
   "metadata": {
    "pycharm": {
     "name": "#%%\n"
    }
   },
   "outputs": [],
   "source": [
    "X_free_test = stacked_FREEFORM"
   ]
  },
  {
   "cell_type": "code",
   "execution_count": 36,
   "id": "c6b71cc0",
   "metadata": {
    "pycharm": {
     "name": "#%%\n"
    }
   },
   "outputs": [],
   "source": [
    "import random\n",
    "idy=random.sample(range(0, len(X_free)), X_nomt_test.shape[0])\n",
    "X_free_test=X_free[idy]"
   ]
  },
  {
   "cell_type": "code",
   "execution_count": 37,
   "outputs": [
    {
     "data": {
      "text/plain": "(1506, 21, 141)"
     },
     "execution_count": 37,
     "metadata": {},
     "output_type": "execute_result"
    }
   ],
   "source": [
    "X_free_test.shape\n"
   ],
   "metadata": {
    "collapsed": false,
    "pycharm": {
     "name": "#%%\n"
    }
   }
  },
  {
   "cell_type": "code",
   "execution_count": 38,
   "id": "af2135f0",
   "metadata": {
    "pycharm": {
     "name": "#%%\n"
    }
   },
   "outputs": [
    {
     "name": "stdout",
     "output_type": "stream",
     "text": [
      "[[[-1.63645528e+01 -1.78597909e+01 -1.72355052e+01 ...  2.05992567e+01\n",
      "    1.57678281e+01  2.30483043e+01]\n",
      "  [-1.50679675e+01 -1.48632056e+01 -1.32889199e+01 ...  2.25658420e+01\n",
      "    2.76144135e+01  2.28048897e+01]\n",
      "  [-5.44406504e+00 -4.81930314e+00 -5.08501742e+00 ...  1.26597445e+01\n",
      "    1.30783159e+01  1.35087921e+01]\n",
      "  ...\n",
      "  [-6.03357724e+00 -6.85881533e+00 -8.78452962e+00 ...  1.76402323e+01\n",
      "    1.80188037e+01  1.52792799e+01]\n",
      "  [ 9.74300813e+00  9.17777003e+00  8.53205575e+00 ...  5.69681765e+00\n",
      "    5.51538908e+00  4.91586527e+00]\n",
      "  [ 4.21959350e+00  5.12435540e+00  5.01864111e+00 ... -2.71165970e+01\n",
      "   -2.69080256e+01 -2.90475494e+01]]\n",
      "\n",
      " [[-4.44094077e+00 -5.20570267e+00 -1.29855981e+00 ...  1.06953542e+00\n",
      "    4.77620209e+00  1.02604878e+01]\n",
      "  [ 7.19905923e+00 -2.94570267e+00 -8.08559814e-01 ...  1.17695354e+01\n",
      "    1.31062021e+01  1.03904878e+01]\n",
      "  [-1.75825784e+00 -6.23019744e-01 -3.85587689e+00 ... -3.24778165e+00\n",
      "   -3.94111498e+00 -2.67682927e+00]\n",
      "  ...\n",
      "  [-2.43362369e+00 -6.08385598e-01 -3.50124274e+00 ...  6.83685250e+00\n",
      "    6.45351916e+00  4.64780488e+00]\n",
      "  [ 1.04588850e+00  1.82112660e+00  6.08269454e-01 ... -9.23635308e-01\n",
      "    1.09303136e+00 -1.26268293e+00]\n",
      "  [-2.24484321e+00 -1.18960511e+00 -1.42462253e-01 ... -1.86436702e+00\n",
      "   -2.01770035e+00 -2.77341463e+00]]\n",
      "\n",
      " [[ 7.79988386e-01  8.57607433e-01 -1.01524971e+00 ...  8.02617886e+00\n",
      "    9.61951220e+00  7.61760743e+00]\n",
      "  [-1.98684088e+00  1.40077816e+00  2.71792102e+00 ...  1.68934959e+00\n",
      "    3.74268293e+00 -4.19221835e-01]\n",
      "  [-4.66353078e-01 -3.11873403e+00 -2.10159117e+00 ...  7.11983740e+00\n",
      "    7.43317073e+00  7.63126597e+00]\n",
      "  ...\n",
      "  [ 2.77584204e+00  1.74346109e+00  1.58060395e+00 ...  6.75203252e+00\n",
      "    8.15536585e+00  3.70346109e+00]\n",
      "  [ 2.98047619e+00  8.38095238e-01  1.77523810e+00 ... -9.35333333e+00\n",
      "   -9.30000000e+00 -9.10190476e+00]\n",
      "  [ 1.24648664e+01  1.07124855e+01  8.82962834e+00 ...  2.27105691e+00\n",
      "   -5.95609756e-01  1.32485482e-01]]\n",
      "\n",
      " ...\n",
      "\n",
      " [[-1.76662021e+00 -1.89477352e-01 -2.53804878e+00 ...  6.22337979e+00\n",
      "    6.74861789e+00  4.07433217e+00]\n",
      "  [-3.16132404e-01 -8.08989547e-01  4.82439024e-01 ...  3.43867596e-01\n",
      "    3.49105691e-01  1.52481998e+00]\n",
      "  [ 2.09679443e+00  2.84393728e+00  1.78536585e+00 ...  5.08679443e+00\n",
      "    2.16203252e+00 -1.22253194e-01]\n",
      "  ...\n",
      "  [ 1.96118467e+00  3.00832753e+00  3.26975610e+00 ... -2.00881533e+00\n",
      "   -1.46357724e+00 -1.86786295e+00]\n",
      "  [ 1.83655052e+00  3.86369338e+00  4.40512195e+00 ... -3.91344948e+00\n",
      "   -6.08211382e-01  9.27502904e-01]\n",
      "  [ 5.03379791e-01  1.73052265e+00  2.21195122e+00 ... -3.89662021e+00\n",
      "   -1.72138211e+00  1.30433217e+00]]\n",
      "\n",
      " [[-3.95651568e+00 -8.02229965e-01 -6.47468060e-01 ...  9.95681765e+00\n",
      "    1.14396748e+01  9.65777003e+00]\n",
      "  [-5.57773519e+00 -3.16344948e+00 -3.06868757e+00 ...  7.26559814e+00\n",
      "    6.36845528e+00  5.39655052e+00]\n",
      "  [-1.21944251e+00  5.54843206e-01  1.27960511e+00 ...  1.34838908e+01\n",
      "    1.19067480e+01  1.19148432e+01]\n",
      "  ...\n",
      "  [-2.45090592e+00  7.33797909e-02  1.46814170e+00 ...  5.97242741e+00\n",
      "    5.41528455e+00  4.48337979e+00]\n",
      "  [-1.83797909e+00  2.03630662e+00  4.76106852e+00 ...  4.42535424e+00\n",
      "    2.84821138e+00  4.47630662e+00]\n",
      "  [ 1.24275261e+00  1.72703833e+00  9.91800232e-01 ... -1.69391405e+00\n",
      "    3.98943089e-01  2.59703833e+00]]\n",
      "\n",
      " [[ 5.40849013e+00  6.72229965e+00  4.02087108e+00 ...  9.34325203e+00\n",
      "    4.25658537e+00  4.22944251e+00]\n",
      "  [ 5.78946574e+00  5.30327526e+00  7.18184669e+00 ...  6.04422764e+00\n",
      "    3.48756098e+00 -7.89581882e-01]\n",
      "  [ 4.62556330e+00  4.26937282e+00  2.71794425e+00 ...  2.18032520e+00\n",
      "    8.23658537e-01  1.45651568e+00]\n",
      "  ...\n",
      "  [ 6.37092915e+00  5.83473868e+00  3.88331010e+00 ...  2.30569106e+00\n",
      "    3.89024390e-01  4.18815331e-02]\n",
      "  [-1.89346109e+00 -1.85965157e+00 -3.02108014e+00 ...  8.99130081e+00\n",
      "    7.89463415e+00  9.32749129e+00]\n",
      "  [-5.30590012e+00 -4.65209059e+00 -3.55351916e+00 ... -1.24113821e+00\n",
      "   -6.97804878e-01  2.50522648e-02]]]\n",
      "865.3172938443672\n",
      "140.27547038327526\n",
      "102.43124\n",
      "22.239182\n"
     ]
    }
   ],
   "source": [
    "from tensorflow.keras import layers\n",
    "layer = layers.Normalization()\n",
    "layer1 = layers.Normalization()\n",
    "layer.adapt(X_nomt_train.astype(float))\n",
    "layer1.adapt(X_free_test.astype(float))\n",
    "\n",
    "print(X_nomt_train)\n",
    "print(np.max(X_nomt_train))\n",
    "print(np.max(X_free_test))\n",
    "print(np.max(layer(X_nomt_train)))\n",
    "print(np.max(layer1(X_free_test)))"
   ]
  },
  {
   "cell_type": "code",
   "execution_count": 45,
   "id": "6cabb3c0",
   "metadata": {
    "pycharm": {
     "name": "#%%\n"
    }
   },
   "outputs": [],
   "source": [
    "latent_dim = 512 \n",
    "keras.backend.clear_session()\n",
    "class Autoencoder(Model):\n",
    "  def __init__(self, latent_dim):\n",
    "    super(Autoencoder, self).__init__()\n",
    "    self.latent_dim = latent_dim   \n",
    "    self.encoder = tf.keras.Sequential([\n",
    "      layers.Flatten(),\n",
    "      layers.Dense(1024, activation='gelu'),\n",
    "      layers.Dense(512, activation='gelu'),\n",
    "      layers.Dense(64, activation='gelu'),\n",
    "    ])\n",
    "    self.decoder = tf.keras.Sequential([\n",
    "      layers.Dense(512, activation='gelu'),\n",
    "      layers.Dense(1024, activation='gelu'),\n",
    "      layers.Dense(21*141, activation='linear'),\n",
    "      layers.Reshape((21, 141))\n",
    "    ])\n",
    "  def call(self, x):\n",
    "    encoded = self.encoder(x)\n",
    "    decoded = self.decoder(encoded)\n",
    "    return decoded\n",
    "\n",
    "autoencoder = Autoencoder(latent_dim)"
   ]
  },
  {
   "cell_type": "code",
   "execution_count": 46,
   "id": "ccacbc51",
   "metadata": {
    "scrolled": true,
    "pycharm": {
     "name": "#%%\n"
    }
   },
   "outputs": [
    {
     "name": "stdout",
     "output_type": "stream",
     "text": [
      "Epoch 1/50\n",
      "188/188 [==============================] - 6s 28ms/step - loss: 122.6125 - val_loss: 19.4592\n",
      "Epoch 2/50\n",
      "188/188 [==============================] - 5s 27ms/step - loss: 65.4219 - val_loss: 17.9452\n",
      "Epoch 3/50\n",
      "188/188 [==============================] - 5s 28ms/step - loss: 56.9046 - val_loss: 16.5008\n",
      "Epoch 4/50\n",
      " 57/188 [========>.....................] - ETA: 3s - loss: 54.1314"
     ]
    },
    {
     "ename": "KeyboardInterrupt",
     "evalue": "",
     "output_type": "error",
     "traceback": [
      "\u001B[1;31m---------------------------------------------------------------------------\u001B[0m",
      "\u001B[1;31mKeyboardInterrupt\u001B[0m                         Traceback (most recent call last)",
      "\u001B[1;32m~\\AppData\\Local\\Temp\\ipykernel_6724\\1222080165.py\u001B[0m in \u001B[0;36m<module>\u001B[1;34m\u001B[0m\n\u001B[0;32m      5\u001B[0m                 \u001B[0mbatch_size\u001B[0m\u001B[1;33m=\u001B[0m\u001B[1;36m64\u001B[0m\u001B[1;33m,\u001B[0m\u001B[1;33m\u001B[0m\u001B[1;33m\u001B[0m\u001B[0m\n\u001B[0;32m      6\u001B[0m                 \u001B[0mshuffle\u001B[0m\u001B[1;33m=\u001B[0m\u001B[1;32mTrue\u001B[0m\u001B[1;33m,\u001B[0m\u001B[1;33m\u001B[0m\u001B[1;33m\u001B[0m\u001B[0m\n\u001B[1;32m----> 7\u001B[1;33m                 validation_data=(X_nomt_test[:200], X_nomt_test[:200]))\n\u001B[0m",
      "\u001B[1;32m~\\Documents\\GitHub\\Nueorinformatics_project\\venv\\lib\\site-packages\\keras\\utils\\traceback_utils.py\u001B[0m in \u001B[0;36merror_handler\u001B[1;34m(*args, **kwargs)\u001B[0m\n\u001B[0;32m     63\u001B[0m         \u001B[0mfiltered_tb\u001B[0m \u001B[1;33m=\u001B[0m \u001B[1;32mNone\u001B[0m\u001B[1;33m\u001B[0m\u001B[1;33m\u001B[0m\u001B[0m\n\u001B[0;32m     64\u001B[0m         \u001B[1;32mtry\u001B[0m\u001B[1;33m:\u001B[0m\u001B[1;33m\u001B[0m\u001B[1;33m\u001B[0m\u001B[0m\n\u001B[1;32m---> 65\u001B[1;33m             \u001B[1;32mreturn\u001B[0m \u001B[0mfn\u001B[0m\u001B[1;33m(\u001B[0m\u001B[1;33m*\u001B[0m\u001B[0margs\u001B[0m\u001B[1;33m,\u001B[0m \u001B[1;33m**\u001B[0m\u001B[0mkwargs\u001B[0m\u001B[1;33m)\u001B[0m\u001B[1;33m\u001B[0m\u001B[1;33m\u001B[0m\u001B[0m\n\u001B[0m\u001B[0;32m     66\u001B[0m         \u001B[1;32mexcept\u001B[0m \u001B[0mException\u001B[0m \u001B[1;32mas\u001B[0m \u001B[0me\u001B[0m\u001B[1;33m:\u001B[0m\u001B[1;33m\u001B[0m\u001B[1;33m\u001B[0m\u001B[0m\n\u001B[0;32m     67\u001B[0m             \u001B[0mfiltered_tb\u001B[0m \u001B[1;33m=\u001B[0m \u001B[0m_process_traceback_frames\u001B[0m\u001B[1;33m(\u001B[0m\u001B[0me\u001B[0m\u001B[1;33m.\u001B[0m\u001B[0m__traceback__\u001B[0m\u001B[1;33m)\u001B[0m\u001B[1;33m\u001B[0m\u001B[1;33m\u001B[0m\u001B[0m\n",
      "\u001B[1;32m~\\Documents\\GitHub\\Nueorinformatics_project\\venv\\lib\\site-packages\\keras\\engine\\training.py\u001B[0m in \u001B[0;36mfit\u001B[1;34m(self, x, y, batch_size, epochs, verbose, callbacks, validation_split, validation_data, shuffle, class_weight, sample_weight, initial_epoch, steps_per_epoch, validation_steps, validation_batch_size, validation_freq, max_queue_size, workers, use_multiprocessing)\u001B[0m\n\u001B[0;32m   1648\u001B[0m                         ):\n\u001B[0;32m   1649\u001B[0m                             \u001B[0mcallbacks\u001B[0m\u001B[1;33m.\u001B[0m\u001B[0mon_train_batch_begin\u001B[0m\u001B[1;33m(\u001B[0m\u001B[0mstep\u001B[0m\u001B[1;33m)\u001B[0m\u001B[1;33m\u001B[0m\u001B[1;33m\u001B[0m\u001B[0m\n\u001B[1;32m-> 1650\u001B[1;33m                             \u001B[0mtmp_logs\u001B[0m \u001B[1;33m=\u001B[0m \u001B[0mself\u001B[0m\u001B[1;33m.\u001B[0m\u001B[0mtrain_function\u001B[0m\u001B[1;33m(\u001B[0m\u001B[0miterator\u001B[0m\u001B[1;33m)\u001B[0m\u001B[1;33m\u001B[0m\u001B[1;33m\u001B[0m\u001B[0m\n\u001B[0m\u001B[0;32m   1651\u001B[0m                             \u001B[1;32mif\u001B[0m \u001B[0mdata_handler\u001B[0m\u001B[1;33m.\u001B[0m\u001B[0mshould_sync\u001B[0m\u001B[1;33m:\u001B[0m\u001B[1;33m\u001B[0m\u001B[1;33m\u001B[0m\u001B[0m\n\u001B[0;32m   1652\u001B[0m                                 \u001B[0mcontext\u001B[0m\u001B[1;33m.\u001B[0m\u001B[0masync_wait\u001B[0m\u001B[1;33m(\u001B[0m\u001B[1;33m)\u001B[0m\u001B[1;33m\u001B[0m\u001B[1;33m\u001B[0m\u001B[0m\n",
      "\u001B[1;32m~\\Documents\\GitHub\\Nueorinformatics_project\\venv\\lib\\site-packages\\tensorflow\\python\\util\\traceback_utils.py\u001B[0m in \u001B[0;36merror_handler\u001B[1;34m(*args, **kwargs)\u001B[0m\n\u001B[0;32m    148\u001B[0m     \u001B[0mfiltered_tb\u001B[0m \u001B[1;33m=\u001B[0m \u001B[1;32mNone\u001B[0m\u001B[1;33m\u001B[0m\u001B[1;33m\u001B[0m\u001B[0m\n\u001B[0;32m    149\u001B[0m     \u001B[1;32mtry\u001B[0m\u001B[1;33m:\u001B[0m\u001B[1;33m\u001B[0m\u001B[1;33m\u001B[0m\u001B[0m\n\u001B[1;32m--> 150\u001B[1;33m       \u001B[1;32mreturn\u001B[0m \u001B[0mfn\u001B[0m\u001B[1;33m(\u001B[0m\u001B[1;33m*\u001B[0m\u001B[0margs\u001B[0m\u001B[1;33m,\u001B[0m \u001B[1;33m**\u001B[0m\u001B[0mkwargs\u001B[0m\u001B[1;33m)\u001B[0m\u001B[1;33m\u001B[0m\u001B[1;33m\u001B[0m\u001B[0m\n\u001B[0m\u001B[0;32m    151\u001B[0m     \u001B[1;32mexcept\u001B[0m \u001B[0mException\u001B[0m \u001B[1;32mas\u001B[0m \u001B[0me\u001B[0m\u001B[1;33m:\u001B[0m\u001B[1;33m\u001B[0m\u001B[1;33m\u001B[0m\u001B[0m\n\u001B[0;32m    152\u001B[0m       \u001B[0mfiltered_tb\u001B[0m \u001B[1;33m=\u001B[0m \u001B[0m_process_traceback_frames\u001B[0m\u001B[1;33m(\u001B[0m\u001B[0me\u001B[0m\u001B[1;33m.\u001B[0m\u001B[0m__traceback__\u001B[0m\u001B[1;33m)\u001B[0m\u001B[1;33m\u001B[0m\u001B[1;33m\u001B[0m\u001B[0m\n",
      "\u001B[1;32m~\\Documents\\GitHub\\Nueorinformatics_project\\venv\\lib\\site-packages\\tensorflow\\python\\eager\\polymorphic_function\\polymorphic_function.py\u001B[0m in \u001B[0;36m__call__\u001B[1;34m(self, *args, **kwds)\u001B[0m\n\u001B[0;32m    878\u001B[0m \u001B[1;33m\u001B[0m\u001B[0m\n\u001B[0;32m    879\u001B[0m       \u001B[1;32mwith\u001B[0m \u001B[0mOptionalXlaContext\u001B[0m\u001B[1;33m(\u001B[0m\u001B[0mself\u001B[0m\u001B[1;33m.\u001B[0m\u001B[0m_jit_compile\u001B[0m\u001B[1;33m)\u001B[0m\u001B[1;33m:\u001B[0m\u001B[1;33m\u001B[0m\u001B[1;33m\u001B[0m\u001B[0m\n\u001B[1;32m--> 880\u001B[1;33m         \u001B[0mresult\u001B[0m \u001B[1;33m=\u001B[0m \u001B[0mself\u001B[0m\u001B[1;33m.\u001B[0m\u001B[0m_call\u001B[0m\u001B[1;33m(\u001B[0m\u001B[1;33m*\u001B[0m\u001B[0margs\u001B[0m\u001B[1;33m,\u001B[0m \u001B[1;33m**\u001B[0m\u001B[0mkwds\u001B[0m\u001B[1;33m)\u001B[0m\u001B[1;33m\u001B[0m\u001B[1;33m\u001B[0m\u001B[0m\n\u001B[0m\u001B[0;32m    881\u001B[0m \u001B[1;33m\u001B[0m\u001B[0m\n\u001B[0;32m    882\u001B[0m       \u001B[0mnew_tracing_count\u001B[0m \u001B[1;33m=\u001B[0m \u001B[0mself\u001B[0m\u001B[1;33m.\u001B[0m\u001B[0mexperimental_get_tracing_count\u001B[0m\u001B[1;33m(\u001B[0m\u001B[1;33m)\u001B[0m\u001B[1;33m\u001B[0m\u001B[1;33m\u001B[0m\u001B[0m\n",
      "\u001B[1;32m~\\Documents\\GitHub\\Nueorinformatics_project\\venv\\lib\\site-packages\\tensorflow\\python\\eager\\polymorphic_function\\polymorphic_function.py\u001B[0m in \u001B[0;36m_call\u001B[1;34m(self, *args, **kwds)\u001B[0m\n\u001B[0;32m    910\u001B[0m       \u001B[1;31m# In this case we have created variables on the first call, so we run the\u001B[0m\u001B[1;33m\u001B[0m\u001B[1;33m\u001B[0m\u001B[1;33m\u001B[0m\u001B[0m\n\u001B[0;32m    911\u001B[0m       \u001B[1;31m# defunned version which is guaranteed to never create variables.\u001B[0m\u001B[1;33m\u001B[0m\u001B[1;33m\u001B[0m\u001B[1;33m\u001B[0m\u001B[0m\n\u001B[1;32m--> 912\u001B[1;33m       \u001B[1;32mreturn\u001B[0m \u001B[0mself\u001B[0m\u001B[1;33m.\u001B[0m\u001B[0m_no_variable_creation_fn\u001B[0m\u001B[1;33m(\u001B[0m\u001B[1;33m*\u001B[0m\u001B[0margs\u001B[0m\u001B[1;33m,\u001B[0m \u001B[1;33m**\u001B[0m\u001B[0mkwds\u001B[0m\u001B[1;33m)\u001B[0m  \u001B[1;31m# pylint: disable=not-callable\u001B[0m\u001B[1;33m\u001B[0m\u001B[1;33m\u001B[0m\u001B[0m\n\u001B[0m\u001B[0;32m    913\u001B[0m     \u001B[1;32melif\u001B[0m \u001B[0mself\u001B[0m\u001B[1;33m.\u001B[0m\u001B[0m_variable_creation_fn\u001B[0m \u001B[1;32mis\u001B[0m \u001B[1;32mnot\u001B[0m \u001B[1;32mNone\u001B[0m\u001B[1;33m:\u001B[0m\u001B[1;33m\u001B[0m\u001B[1;33m\u001B[0m\u001B[0m\n\u001B[0;32m    914\u001B[0m       \u001B[1;31m# Release the lock early so that multiple threads can perform the call\u001B[0m\u001B[1;33m\u001B[0m\u001B[1;33m\u001B[0m\u001B[1;33m\u001B[0m\u001B[0m\n",
      "\u001B[1;32m~\\Documents\\GitHub\\Nueorinformatics_project\\venv\\lib\\site-packages\\tensorflow\\python\\eager\\polymorphic_function\\tracing_compiler.py\u001B[0m in \u001B[0;36m__call__\u001B[1;34m(self, *args, **kwargs)\u001B[0m\n\u001B[0;32m    133\u001B[0m        filtered_flat_args) = self._maybe_define_function(args, kwargs)\n\u001B[0;32m    134\u001B[0m     return concrete_function._call_flat(\n\u001B[1;32m--> 135\u001B[1;33m         filtered_flat_args, captured_inputs=concrete_function.captured_inputs)  # pylint: disable=protected-access\n\u001B[0m\u001B[0;32m    136\u001B[0m \u001B[1;33m\u001B[0m\u001B[0m\n\u001B[0;32m    137\u001B[0m   \u001B[1;33m@\u001B[0m\u001B[0mproperty\u001B[0m\u001B[1;33m\u001B[0m\u001B[1;33m\u001B[0m\u001B[0m\n",
      "\u001B[1;32m~\\Documents\\GitHub\\Nueorinformatics_project\\venv\\lib\\site-packages\\tensorflow\\python\\eager\\polymorphic_function\\monomorphic_function.py\u001B[0m in \u001B[0;36m_call_flat\u001B[1;34m(self, args, captured_inputs, cancellation_manager)\u001B[0m\n\u001B[0;32m   1744\u001B[0m       \u001B[1;31m# No tape is watching; skip to running the function.\u001B[0m\u001B[1;33m\u001B[0m\u001B[1;33m\u001B[0m\u001B[1;33m\u001B[0m\u001B[0m\n\u001B[0;32m   1745\u001B[0m       return self._build_call_outputs(self._inference_function.call(\n\u001B[1;32m-> 1746\u001B[1;33m           ctx, args, cancellation_manager=cancellation_manager))\n\u001B[0m\u001B[0;32m   1747\u001B[0m     forward_backward = self._select_forward_and_backward_functions(\n\u001B[0;32m   1748\u001B[0m         \u001B[0margs\u001B[0m\u001B[1;33m,\u001B[0m\u001B[1;33m\u001B[0m\u001B[1;33m\u001B[0m\u001B[0m\n",
      "\u001B[1;32m~\\Documents\\GitHub\\Nueorinformatics_project\\venv\\lib\\site-packages\\tensorflow\\python\\eager\\polymorphic_function\\monomorphic_function.py\u001B[0m in \u001B[0;36mcall\u001B[1;34m(self, ctx, args, cancellation_manager)\u001B[0m\n\u001B[0;32m    381\u001B[0m               \u001B[0minputs\u001B[0m\u001B[1;33m=\u001B[0m\u001B[0margs\u001B[0m\u001B[1;33m,\u001B[0m\u001B[1;33m\u001B[0m\u001B[1;33m\u001B[0m\u001B[0m\n\u001B[0;32m    382\u001B[0m               \u001B[0mattrs\u001B[0m\u001B[1;33m=\u001B[0m\u001B[0mattrs\u001B[0m\u001B[1;33m,\u001B[0m\u001B[1;33m\u001B[0m\u001B[1;33m\u001B[0m\u001B[0m\n\u001B[1;32m--> 383\u001B[1;33m               ctx=ctx)\n\u001B[0m\u001B[0;32m    384\u001B[0m         \u001B[1;32melse\u001B[0m\u001B[1;33m:\u001B[0m\u001B[1;33m\u001B[0m\u001B[1;33m\u001B[0m\u001B[0m\n\u001B[0;32m    385\u001B[0m           outputs = execute.execute_with_cancellation(\n",
      "\u001B[1;32m~\\Documents\\GitHub\\Nueorinformatics_project\\venv\\lib\\site-packages\\tensorflow\\python\\eager\\execute.py\u001B[0m in \u001B[0;36mquick_execute\u001B[1;34m(op_name, num_outputs, inputs, attrs, ctx, name)\u001B[0m\n\u001B[0;32m     51\u001B[0m     \u001B[0mctx\u001B[0m\u001B[1;33m.\u001B[0m\u001B[0mensure_initialized\u001B[0m\u001B[1;33m(\u001B[0m\u001B[1;33m)\u001B[0m\u001B[1;33m\u001B[0m\u001B[1;33m\u001B[0m\u001B[0m\n\u001B[0;32m     52\u001B[0m     tensors = pywrap_tfe.TFE_Py_Execute(ctx._handle, device_name, op_name,\n\u001B[1;32m---> 53\u001B[1;33m                                         inputs, attrs, num_outputs)\n\u001B[0m\u001B[0;32m     54\u001B[0m   \u001B[1;32mexcept\u001B[0m \u001B[0mcore\u001B[0m\u001B[1;33m.\u001B[0m\u001B[0m_NotOkStatusException\u001B[0m \u001B[1;32mas\u001B[0m \u001B[0me\u001B[0m\u001B[1;33m:\u001B[0m\u001B[1;33m\u001B[0m\u001B[1;33m\u001B[0m\u001B[0m\n\u001B[0;32m     55\u001B[0m     \u001B[1;32mif\u001B[0m \u001B[0mname\u001B[0m \u001B[1;32mis\u001B[0m \u001B[1;32mnot\u001B[0m \u001B[1;32mNone\u001B[0m\u001B[1;33m:\u001B[0m\u001B[1;33m\u001B[0m\u001B[1;33m\u001B[0m\u001B[0m\n",
      "\u001B[1;31mKeyboardInterrupt\u001B[0m: "
     ]
    }
   ],
   "source": [
    "opt = keras.optimizers.Adam(learning_rate=0.0001)\n",
    "autoencoder.compile(optimizer=opt, loss=losses.MeanSquaredError())\n",
    "autoencoder.fit(X_nomt_train, X_nomt_train,\n",
    "                epochs=50,\n",
    "                batch_size=64,\n",
    "                shuffle=True,\n",
    "                validation_data=(X_nomt_test[:200], X_nomt_test[:200]))"
   ]
  },
  {
   "cell_type": "code",
   "execution_count": 41,
   "id": "e84b869c",
   "metadata": {
    "pycharm": {
     "name": "#%%\n"
    }
   },
   "outputs": [
    {
     "data": {
      "text/plain": "(1506, 21, 141)"
     },
     "execution_count": 41,
     "metadata": {},
     "output_type": "execute_result"
    }
   ],
   "source": [
    "X_free_test.shape\n"
   ]
  },
  {
   "cell_type": "code",
   "execution_count": 48,
   "id": "0872a631",
   "metadata": {
    "pycharm": {
     "name": "#%%\n"
    }
   },
   "outputs": [
    {
     "ename": "ValueError",
     "evalue": "Exception encountered when calling layer 'sequential' (type Sequential).\n\nInput 0 of layer \"dense\" is incompatible with the layer: expected axis -1 of input shape to have value 2961, but received input with shape (21, 141)\n\nCall arguments received by layer 'sequential' (type Sequential):\n  • inputs=tf.Tensor(shape=(21, 141), dtype=float64)\n  • training=None\n  • mask=None",
     "output_type": "error",
     "traceback": [
      "\u001B[1;31m---------------------------------------------------------------------------\u001B[0m",
      "\u001B[1;31mValueError\u001B[0m                                Traceback (most recent call last)",
      "\u001B[1;32m~\\AppData\\Local\\Temp\\ipykernel_6724\\927319523.py\u001B[0m in \u001B[0;36m<module>\u001B[1;34m\u001B[0m\n\u001B[0;32m      2\u001B[0m \u001B[0merr2\u001B[0m\u001B[1;33m=\u001B[0m\u001B[1;33m[\u001B[0m\u001B[1;33m]\u001B[0m\u001B[1;33m\u001B[0m\u001B[1;33m\u001B[0m\u001B[0m\n\u001B[0;32m      3\u001B[0m \u001B[1;32mfor\u001B[0m \u001B[0mi\u001B[0m \u001B[1;32min\u001B[0m \u001B[0mX_nomt_train\u001B[0m\u001B[1;33m:\u001B[0m\u001B[1;33m\u001B[0m\u001B[1;33m\u001B[0m\u001B[0m\n\u001B[1;32m----> 4\u001B[1;33m     \u001B[0mencoded\u001B[0m \u001B[1;33m=\u001B[0m \u001B[0mautoencoder\u001B[0m\u001B[1;33m.\u001B[0m\u001B[0mencoder\u001B[0m\u001B[1;33m(\u001B[0m\u001B[0mi\u001B[0m\u001B[1;33m)\u001B[0m\u001B[1;33m.\u001B[0m\u001B[0mnumpy\u001B[0m\u001B[1;33m(\u001B[0m\u001B[1;33m)\u001B[0m\u001B[1;33m\u001B[0m\u001B[1;33m\u001B[0m\u001B[0m\n\u001B[0m\u001B[0;32m      5\u001B[0m     \u001B[0mprint\u001B[0m\u001B[1;33m(\u001B[0m\u001B[0mencoded\u001B[0m\u001B[1;33m.\u001B[0m\u001B[0mshape\u001B[0m\u001B[1;33m)\u001B[0m\u001B[1;33m\u001B[0m\u001B[1;33m\u001B[0m\u001B[0m\n\u001B[0;32m      6\u001B[0m     \u001B[0mdecoded\u001B[0m \u001B[1;33m=\u001B[0m \u001B[0mautoencoder\u001B[0m\u001B[1;33m.\u001B[0m\u001B[0mdecoder\u001B[0m\u001B[1;33m(\u001B[0m\u001B[0mencoded\u001B[0m\u001B[1;33m)\u001B[0m\u001B[1;33m.\u001B[0m\u001B[0mnumpy\u001B[0m\u001B[1;33m(\u001B[0m\u001B[1;33m)\u001B[0m\u001B[1;33m\u001B[0m\u001B[1;33m\u001B[0m\u001B[0m\n",
      "\u001B[1;32m~\\Documents\\GitHub\\Nueorinformatics_project\\venv\\lib\\site-packages\\keras\\utils\\traceback_utils.py\u001B[0m in \u001B[0;36merror_handler\u001B[1;34m(*args, **kwargs)\u001B[0m\n\u001B[0;32m     68\u001B[0m             \u001B[1;31m# To get the full stack trace, call:\u001B[0m\u001B[1;33m\u001B[0m\u001B[1;33m\u001B[0m\u001B[1;33m\u001B[0m\u001B[0m\n\u001B[0;32m     69\u001B[0m             \u001B[1;31m# `tf.debugging.disable_traceback_filtering()`\u001B[0m\u001B[1;33m\u001B[0m\u001B[1;33m\u001B[0m\u001B[1;33m\u001B[0m\u001B[0m\n\u001B[1;32m---> 70\u001B[1;33m             \u001B[1;32mraise\u001B[0m \u001B[0me\u001B[0m\u001B[1;33m.\u001B[0m\u001B[0mwith_traceback\u001B[0m\u001B[1;33m(\u001B[0m\u001B[0mfiltered_tb\u001B[0m\u001B[1;33m)\u001B[0m \u001B[1;32mfrom\u001B[0m \u001B[1;32mNone\u001B[0m\u001B[1;33m\u001B[0m\u001B[1;33m\u001B[0m\u001B[0m\n\u001B[0m\u001B[0;32m     71\u001B[0m         \u001B[1;32mfinally\u001B[0m\u001B[1;33m:\u001B[0m\u001B[1;33m\u001B[0m\u001B[1;33m\u001B[0m\u001B[0m\n\u001B[0;32m     72\u001B[0m             \u001B[1;32mdel\u001B[0m \u001B[0mfiltered_tb\u001B[0m\u001B[1;33m\u001B[0m\u001B[1;33m\u001B[0m\u001B[0m\n",
      "\u001B[1;32m~\\Documents\\GitHub\\Nueorinformatics_project\\venv\\lib\\site-packages\\keras\\engine\\input_spec.py\u001B[0m in \u001B[0;36massert_input_compatibility\u001B[1;34m(input_spec, inputs, layer_name)\u001B[0m\n\u001B[0;32m    276\u001B[0m                 }:\n\u001B[0;32m    277\u001B[0m                     raise ValueError(\n\u001B[1;32m--> 278\u001B[1;33m                         \u001B[1;34mf'Input {input_index} of layer \"{layer_name}\" is '\u001B[0m\u001B[1;33m\u001B[0m\u001B[1;33m\u001B[0m\u001B[0m\n\u001B[0m\u001B[0;32m    279\u001B[0m                         \u001B[1;34mf\"incompatible with the layer: expected axis {axis} \"\u001B[0m\u001B[1;33m\u001B[0m\u001B[1;33m\u001B[0m\u001B[0m\n\u001B[0;32m    280\u001B[0m                         \u001B[1;34mf\"of input shape to have value {value}, \"\u001B[0m\u001B[1;33m\u001B[0m\u001B[1;33m\u001B[0m\u001B[0m\n",
      "\u001B[1;31mValueError\u001B[0m: Exception encountered when calling layer 'sequential' (type Sequential).\n\nInput 0 of layer \"dense\" is incompatible with the layer: expected axis -1 of input shape to have value 2961, but received input with shape (21, 141)\n\nCall arguments received by layer 'sequential' (type Sequential):\n  • inputs=tf.Tensor(shape=(21, 141), dtype=float64)\n  • training=None\n  • mask=None"
     ]
    }
   ],
   "source": [
    "err=[]\n",
    "err2=[]\n",
    "for i in X_nomt_train:\n",
    "    encoded = autoencoder.encoder(i).numpy()\n",
    "    print(encoded.shape)\n",
    "    decoded = autoencoder.decoder(encoded).numpy()\n",
    "    print(decoded.shape)\n",
    "    #print(\"Error:\",(np.square(i-decoded)).mean())\n",
    "    err.append((np.square(i-decoded)).mean())\n",
    "print(\"###################\")\n",
    "\n",
    "\n",
    "for j in X_free_test:\n",
    "    encoded = autoencoder.encoder(j).numpy()\n",
    "    decoded = autoencoder.decoder(encoded).numpy()\n",
    "    #print(\"Error:\",(np.square(layer(j)-decoded)).mean())\n",
    "    err2.append((np.square(j-decoded)).mean())\n",
    "print((np.square(autoencoder.call(X_free_test)-X_free_test)).mean())\n",
    "print(\"##############\")\n",
    "print(np.array(err).mean())\n",
    "print(np.array(err2).mean())\n"
   ]
  },
  {
   "cell_type": "markdown",
   "id": "0cb82252",
   "metadata": {
    "pycharm": {
     "name": "#%% md\n"
    }
   },
   "source": [
    "descicion 0.65"
   ]
  },
  {
   "cell_type": "code",
   "execution_count": null,
   "id": "128dd9a8",
   "metadata": {
    "pycharm": {
     "name": "#%%\n"
    }
   },
   "outputs": [],
   "source": [
    "def acc_Calc(a,b,th):\n",
    "    first=[1 if i<th else 0 for i in a]\n",
    "    last=[1 if i>th else 0 for i in b]\n",
    "    return sum(first+last)/len(first+last)"
   ]
  },
  {
   "cell_type": "code",
   "execution_count": null,
   "id": "7fb204f5",
   "metadata": {
    "pycharm": {
     "name": "#%%\n"
    }
   },
   "outputs": [],
   "source": [
    "acc_Calc(err,err2,0.2)"
   ]
  },
  {
   "cell_type": "code",
   "execution_count": null,
   "id": "51696114",
   "metadata": {
    "pycharm": {
     "name": "#%%\n"
    }
   },
   "outputs": [],
   "source": [
    "print(err[:10])"
   ]
  },
  {
   "cell_type": "markdown",
   "id": "2809bdf5",
   "metadata": {
    "pycharm": {
     "name": "#%% md\n"
    }
   },
   "source": [
    "1,1,1,1,1,1,,0,1,1,1 9/10"
   ]
  },
  {
   "cell_type": "code",
   "execution_count": null,
   "id": "c4fb118a",
   "metadata": {
    "pycharm": {
     "name": "#%%\n"
    }
   },
   "outputs": [],
   "source": [
    "print(err2[:10])"
   ]
  },
  {
   "cell_type": "markdown",
   "id": "c6eac188",
   "metadata": {
    "pycharm": {
     "name": "#%% md\n"
    }
   },
   "source": [
    "0,0,1,0,1,1,1,1,0,0 5/10"
   ]
  },
  {
   "cell_type": "markdown",
   "id": "5daba5ac",
   "metadata": {
    "pycharm": {
     "name": "#%% md\n"
    }
   },
   "source": [
    "Acc:"
   ]
  },
  {
   "cell_type": "code",
   "execution_count": null,
   "id": "875c50e7",
   "metadata": {
    "pycharm": {
     "name": "#%%\n"
    }
   },
   "outputs": [],
   "source": [
    "14/20"
   ]
  },
  {
   "cell_type": "code",
   "execution_count": null,
   "id": "a9d5f845",
   "metadata": {
    "pycharm": {
     "name": "#%%\n"
    }
   },
   "outputs": [],
   "source": []
  }
 ],
 "metadata": {
  "kernelspec": {
   "display_name": "venv",
   "language": "python",
   "name": "python3"
  },
  "language_info": {
   "codemirror_mode": {
    "name": "ipython",
    "version": 3
   },
   "file_extension": ".py",
   "mimetype": "text/x-python",
   "name": "python",
   "nbconvert_exporter": "python",
   "pygments_lexer": "ipython3",
   "version": "3.7.7"
  },
  "vscode": {
   "interpreter": {
    "hash": "aa137f996c322d810b0ba78b9855db9c260b81f9ff796e150df9906e831bb7ab"
   }
  }
 },
 "nbformat": 4,
 "nbformat_minor": 5
}