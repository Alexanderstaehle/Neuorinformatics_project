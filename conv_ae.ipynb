{
 "cells": [
  {
   "cell_type": "code",
   "execution_count": 1,
   "metadata": {
    "collapsed": false,
    "pycharm": {
     "name": "#%%\n"
    }
   },
   "outputs": [],
   "source": [
    "import os\n",
    "import keras\n",
    "import mne\n",
    "import numpy as np\n",
    "import pandas as pd\n",
    "import scipy.io\n",
    "import tensorflow as tf\n",
    "from mne.channels import make_standard_montage\n",
    "from tensorflow.keras import layers, losses\n",
    "from tensorflow.keras.models import Model\n",
    "import matplotlib.pyplot as plt\n"
   ]
  },
  {
   "cell_type": "code",
   "execution_count": 2,
   "metadata": {
    "collapsed": false,
    "pycharm": {
     "name": "#%%\n"
    }
   },
   "outputs": [],
   "source": [
    "def annotations_from_eGUI(raw, egui):\n",
    "    \"\"\"\n",
    "    function to create mne annotations for a mne.Raw object from a time series\n",
    "    containing the state of the display\n",
    "    \"\"\"\n",
    "\n",
    "    codes = []\n",
    "    starts = []\n",
    "    current_state = None\n",
    "\n",
    "    for i in range(len(egui)):\n",
    "        if egui[i][0] != current_state:\n",
    "            starts.append(i)\n",
    "            current_state = egui[i][0]\n",
    "            codes.append(str(egui[i][0]))\n",
    "\n",
    "    starts.append(len(egui))\n",
    "    codes = np.array(codes)\n",
    "    sf = raw.info.get(\"sfreq\")\n",
    "    starts = np.array(starts) / sf\n",
    "    durations = starts[1:] - starts[:-1]\n",
    "    starts = starts[:-1]\n",
    "\n",
    "    raw.set_annotations(\n",
    "        mne.Annotations(onset=starts, duration=durations, description=codes)\n",
    "    )\n",
    "\n",
    "\n",
    "def raw_from_mat(file):\n",
    "    \"\"\"function to load data from a .mat file into a mne.Raw object\"\"\"\n",
    "    mat = scipy.io.loadmat(os.path.join(data_dir, file))\n",
    "\n",
    "    sampling_freq = mat[\"o\"][0][0][2][0][0]\n",
    "    n_samples = mat[\"o\"][0][0][3][0][0]\n",
    "    ch_names = [element[0][0] for element in mat[\"o\"][0][0][6]]\n",
    "\n",
    "    df = pd.DataFrame(mat[\"o\"][0][0][5], columns=ch_names)\n",
    "    df = df.drop(columns=[\"X5\"])  # unsupported channel\n",
    "    df = df.T\n",
    "    ch_names.remove(\"X5\")\n",
    "\n",
    "    ch_types = [\"eeg\"] * 21\n",
    "    info = mne.create_info(ch_names, ch_types=ch_types, sfreq=sampling_freq)\n",
    "    raw = mne.io.RawArray(df.to_numpy(), info)\n",
    "\n",
    "    montage = make_standard_montage(\"standard_prefixed\")\n",
    "    raw.set_montage(montage)\n",
    "\n",
    "    raw.load_data().set_eeg_reference(ref_channels=\"average\")\n",
    "    annotations_from_eGUI(raw, mat[\"o\"][0][0][4])\n",
    "    return raw\n",
    "\n",
    "\n",
    "def filter_raw(raw):\n",
    "    return raw.load_data().filter(0.1, 30, method=\"fir\", phase=\"zero-double\")\n",
    "\n",
    "\n",
    "def get_epochs(raw, event_id):\n",
    "    \"\"\"function to extract mne epochs from a mne.Raw object\"\"\"\n",
    "    metadata_tmin, metadata_tmax = -1, 1\n",
    "    all_events, all_event_id = mne.events_from_annotations(\n",
    "        raw,\n",
    "        event_id=event_id,\n",
    "    )\n",
    "    metadata, events, event_id = mne.epochs.make_metadata(\n",
    "        events=all_events,\n",
    "        event_id=event_id,\n",
    "        tmin=metadata_tmin,\n",
    "        tmax=metadata_tmax,\n",
    "        sfreq=raw.info[\"sfreq\"],\n",
    "    )\n",
    "    print(raw.info[\"sfreq\"])\n",
    "    return mne.Epochs(raw, events, event_id, tmin=-1.0, tmax=1.0, baseline=(-1, 1))\n"
   ]
  },
  {
   "attachments": {},
   "cell_type": "markdown",
   "id": "3f3ac72a",
   "metadata": {},
   "source": [
    "# Data Loading and Preparation"
   ]
  },
  {
   "attachments": {},
   "cell_type": "markdown",
   "id": "e0cacba6",
   "metadata": {},
   "source": [
    "We will create now several Datasets on which  we will test our methods.\n",
    "\n",
    " - `epochs_NoMT` will correspond to the data which is our baseline and where the subject is in a resting position whith no input on the screen. ( only take events \"0\")\n",
    " - `epochs_NOMT_only_code_2` will correspond to the data which comes from the same trails and session of the epochs_NoMT data, but here we select epochs where something is shown on the screen. (only take events \"2\")\n",
    " - `epochs_FREEFORM` will correspond to the data which comes from a diffrent session and here the subject can voluntarily  press buttons (either left or right)"
   ]
  },
  {
   "cell_type": "code",
   "execution_count": 3,
   "id": "30a466ac",
   "metadata": {},
   "outputs": [],
   "source": [
    "# set up paths of data\n",
    "data_dir = os.path.dirname(\"./data/\")\n",
    "data_files = os.listdir(data_dir)\n"
   ]
  },
  {
   "cell_type": "code",
   "execution_count": 4,
   "metadata": {
    "collapsed": false,
    "pycharm": {
     "name": "#%%\n"
    }
   },
   "outputs": [
    {
     "name": "stdout",
     "output_type": "stream",
     "text": [
      "Creating RawArray with float64 data, n_channels=21, n_times=664400\n",
      "    Range : 0 ... 664399 =      0.000 ...  3321.995 secs\n",
      "Ready.\n",
      "EEG channel type selected for re-referencing\n",
      "Applying average reference.\n",
      "Applying a custom ('EEG',) reference.\n",
      "Creating RawArray with float64 data, n_channels=21, n_times=664600\n",
      "    Range : 0 ... 664599 =      0.000 ...  3322.995 secs\n",
      "Ready.\n",
      "EEG channel type selected for re-referencing\n",
      "Applying average reference.\n",
      "Applying a custom ('EEG',) reference.\n",
      "Creating RawArray with float64 data, n_channels=21, n_times=662400\n",
      "    Range : 0 ... 662399 =      0.000 ...  3311.995 secs\n",
      "Ready.\n",
      "EEG channel type selected for re-referencing\n",
      "Applying average reference.\n",
      "Applying a custom ('EEG',) reference.\n",
      "Creating RawArray with float64 data, n_channels=21, n_times=667600\n",
      "    Range : 0 ... 667599 =      0.000 ...  3337.995 secs\n",
      "Ready.\n",
      "EEG channel type selected for re-referencing\n",
      "Applying average reference.\n",
      "Applying a custom ('EEG',) reference.\n",
      "Creating RawArray with float64 data, n_channels=21, n_times=734400\n",
      "    Range : 0 ... 734399 =      0.000 ...  3671.995 secs\n",
      "Ready.\n",
      "EEG channel type selected for re-referencing\n",
      "Applying average reference.\n",
      "Applying a custom ('EEG',) reference.\n",
      "Creating RawArray with float64 data, n_channels=21, n_times=667000\n",
      "    Range : 0 ... 666999 =      0.000 ...  3334.995 secs\n",
      "Ready.\n",
      "EEG channel type selected for re-referencing\n",
      "Applying average reference.\n",
      "Applying a custom ('EEG',) reference.\n",
      "Creating RawArray with float64 data, n_channels=21, n_times=678400\n",
      "    Range : 0 ... 678399 =      0.000 ...  3391.995 secs\n",
      "Ready.\n",
      "EEG channel type selected for re-referencing\n",
      "Applying average reference.\n",
      "Applying a custom ('EEG',) reference.\n",
      "Creating RawArray with float64 data, n_channels=21, n_times=475000\n",
      "    Range : 0 ... 474999 =      0.000 ...  2374.995 secs\n",
      "Ready.\n",
      "EEG channel type selected for re-referencing\n",
      "Applying average reference.\n",
      "Applying a custom ('EEG',) reference.\n",
      "Creating RawArray with float64 data, n_channels=21, n_times=391800\n",
      "    Range : 0 ... 391799 =      0.000 ...  1958.995 secs\n",
      "Ready.\n",
      "EEG channel type selected for re-referencing\n",
      "Applying average reference.\n",
      "Applying a custom ('EEG',) reference.\n",
      "Creating RawArray with float64 data, n_channels=21, n_times=285800\n",
      "    Range : 0 ... 285799 =      0.000 ...  1428.995 secs\n",
      "Ready.\n",
      "EEG channel type selected for re-referencing\n",
      "Applying average reference.\n",
      "Applying a custom ('EEG',) reference.\n"
     ]
    }
   ],
   "source": [
    "# load data to raw objects\n",
    "raw_NoMT = [raw_from_mat(file) for file in data_files if \"NoMT\" in file]\n",
    "raw_FREEFORM = [raw_from_mat(file) for file in data_files if \"FREEFORM\" in file]\n"
   ]
  },
  {
   "cell_type": "code",
   "execution_count": 5,
   "metadata": {
    "collapsed": false,
    "pycharm": {
     "name": "#%%\n"
    }
   },
   "outputs": [
    {
     "name": "stdout",
     "output_type": "stream",
     "text": [
      "Used Annotations descriptions: ['0']\n",
      "200.0\n",
      "Not setting metadata\n",
      "966 matching events found\n",
      "Applying baseline correction (mode: mean)\n",
      "0 projection items activated\n",
      "Used Annotations descriptions: ['0']\n",
      "200.0\n",
      "Not setting metadata\n",
      "960 matching events found\n",
      "Applying baseline correction (mode: mean)\n",
      "0 projection items activated\n",
      "Used Annotations descriptions: ['0']\n",
      "200.0\n",
      "Not setting metadata\n",
      "963 matching events found\n",
      "Applying baseline correction (mode: mean)\n",
      "0 projection items activated\n",
      "Used Annotations descriptions: ['0']\n",
      "200.0\n",
      "Not setting metadata\n",
      "968 matching events found\n",
      "Applying baseline correction (mode: mean)\n",
      "0 projection items activated\n",
      "Used Annotations descriptions: ['0']\n",
      "200.0\n",
      "Not setting metadata\n",
      "968 matching events found\n",
      "Applying baseline correction (mode: mean)\n",
      "0 projection items activated\n",
      "Used Annotations descriptions: ['0']\n",
      "200.0\n",
      "Not setting metadata\n",
      "968 matching events found\n",
      "Applying baseline correction (mode: mean)\n",
      "0 projection items activated\n",
      "Used Annotations descriptions: ['0']\n",
      "200.0\n",
      "Not setting metadata\n",
      "967 matching events found\n",
      "Applying baseline correction (mode: mean)\n",
      "0 projection items activated\n",
      "Used Annotations descriptions: ['1', '2']\n",
      "200.0\n",
      "Not setting metadata\n",
      "739 matching events found\n",
      "Applying baseline correction (mode: mean)\n",
      "0 projection items activated\n",
      "Used Annotations descriptions: ['1', '2']\n",
      "200.0\n",
      "Not setting metadata\n",
      "688 matching events found\n",
      "Applying baseline correction (mode: mean)\n",
      "0 projection items activated\n",
      "Used Annotations descriptions: ['1', '2']\n",
      "200.0\n",
      "Not setting metadata\n",
      "700 matching events found\n",
      "Applying baseline correction (mode: mean)\n",
      "0 projection items activated\n",
      "Used Annotations descriptions: ['2']\n",
      "200.0\n",
      "Not setting metadata\n",
      "159 matching events found\n",
      "Applying baseline correction (mode: mean)\n",
      "0 projection items activated\n",
      "Used Annotations descriptions: ['2']\n",
      "200.0\n",
      "Not setting metadata\n",
      "157 matching events found\n",
      "Applying baseline correction (mode: mean)\n",
      "0 projection items activated\n",
      "Used Annotations descriptions: ['2']\n",
      "200.0\n",
      "Not setting metadata\n",
      "158 matching events found\n",
      "Applying baseline correction (mode: mean)\n",
      "0 projection items activated\n",
      "Used Annotations descriptions: ['2']\n",
      "200.0\n",
      "Not setting metadata\n",
      "159 matching events found\n",
      "Applying baseline correction (mode: mean)\n",
      "0 projection items activated\n",
      "Used Annotations descriptions: ['2']\n",
      "200.0\n",
      "Not setting metadata\n",
      "159 matching events found\n",
      "Applying baseline correction (mode: mean)\n",
      "0 projection items activated\n",
      "Used Annotations descriptions: ['2']\n",
      "200.0\n",
      "Not setting metadata\n",
      "163 matching events found\n",
      "Applying baseline correction (mode: mean)\n",
      "0 projection items activated\n",
      "Used Annotations descriptions: ['2']\n",
      "200.0\n",
      "Not setting metadata\n",
      "159 matching events found\n",
      "Applying baseline correction (mode: mean)\n",
      "0 projection items activated\n"
     ]
    }
   ],
   "source": [
    "# epoch data\n",
    "epochs_NoMT = [get_epochs(file, {\"0\": 1}) for file in raw_NoMT]\n",
    "epochs_FREEFORM = [get_epochs(file, {\"1\": 2, \"2\": 3}) for file in raw_FREEFORM]\n",
    "epochs_NOMT_only_code_2 = [get_epochs(file, {\"2\": 3}) for file in raw_NoMT]\n"
   ]
  },
  {
   "cell_type": "code",
   "execution_count": 6,
   "metadata": {
    "collapsed": false,
    "pycharm": {
     "name": "#%%\n"
    }
   },
   "outputs": [
    {
     "name": "stdout",
     "output_type": "stream",
     "text": [
      "Using data from preloaded Raw for 966 events and 401 original time points ...\n",
      "1 bad epochs dropped\n",
      "Using data from preloaded Raw for 960 events and 401 original time points ...\n",
      "1 bad epochs dropped\n",
      "Using data from preloaded Raw for 963 events and 401 original time points ...\n",
      "1 bad epochs dropped\n",
      "Using data from preloaded Raw for 968 events and 401 original time points ...\n",
      "1 bad epochs dropped\n",
      "Using data from preloaded Raw for 968 events and 401 original time points ...\n",
      "1 bad epochs dropped\n",
      "Using data from preloaded Raw for 968 events and 401 original time points ...\n",
      "1 bad epochs dropped\n",
      "Using data from preloaded Raw for 967 events and 401 original time points ...\n",
      "1 bad epochs dropped\n",
      "Using data from preloaded Raw for 739 events and 401 original time points ...\n",
      "0 bad epochs dropped\n",
      "Using data from preloaded Raw for 688 events and 401 original time points ...\n",
      "0 bad epochs dropped\n",
      "Using data from preloaded Raw for 700 events and 401 original time points ...\n",
      "0 bad epochs dropped\n",
      "Using data from preloaded Raw for 159 events and 401 original time points ...\n",
      "0 bad epochs dropped\n",
      "Using data from preloaded Raw for 157 events and 401 original time points ...\n",
      "0 bad epochs dropped\n",
      "Using data from preloaded Raw for 158 events and 401 original time points ...\n",
      "0 bad epochs dropped\n",
      "Using data from preloaded Raw for 159 events and 401 original time points ...\n",
      "0 bad epochs dropped\n",
      "Using data from preloaded Raw for 159 events and 401 original time points ...\n",
      "0 bad epochs dropped\n",
      "Using data from preloaded Raw for 163 events and 401 original time points ...\n",
      "0 bad epochs dropped\n",
      "Using data from preloaded Raw for 159 events and 401 original time points ...\n",
      "0 bad epochs dropped\n",
      "(6753, 21, 401)\n",
      "(2127, 21, 401)\n",
      "(1114, 21, 401)\n"
     ]
    }
   ],
   "source": [
    "# put data in arrays\n",
    "epochs_data_NOMT = [file.get_data() for file in epochs_NoMT]\n",
    "epochs_data_FREEFORM = [file.get_data() for file in epochs_FREEFORM]\n",
    "epochs_Data_NOMT_2 = [file.get_data() for file in epochs_NOMT_only_code_2]\n",
    "\n",
    "X_NOMT = np.vstack(epochs_data_NOMT)\n",
    "X_free = np.vstack(epochs_data_FREEFORM)\n",
    "X_nomt_2 = np.vstack(epochs_Data_NOMT_2)\n",
    "\n",
    "np.random.shuffle(X_NOMT)\n",
    "np.random.shuffle(X_free)\n",
    "np.random.shuffle(X_nomt_2)\n",
    "\n",
    "print(X_NOMT.shape)\n",
    "print(X_free.shape)\n",
    "print(X_nomt_2.shape)\n"
   ]
  },
  {
   "attachments": {},
   "cell_type": "markdown",
   "id": "c7a7b5b2",
   "metadata": {},
   "source": [
    "# Data Preprocessing"
   ]
  },
  {
   "cell_type": "code",
   "execution_count": 7,
   "metadata": {
    "collapsed": false,
    "pycharm": {
     "name": "#%%\n"
    }
   },
   "outputs": [],
   "source": [
    "# split train data from nomt data\n",
    "N = X_NOMT.shape[0]\n",
    "X_NOMT = np.moveaxis(X_NOMT, 1, 2)\n",
    "X_free = np.moveaxis(X_free, 1, 2)\n",
    "X_nomt_2 = np.moveaxis(X_nomt_2, 1, 2)\n",
    "\n",
    "X_nomt_train = X_NOMT[:5000]\n",
    "X_nomt_test = X_NOMT[5000:]\n"
   ]
  },
  {
   "cell_type": "code",
   "execution_count": 8,
   "id": "534109d3",
   "metadata": {},
   "outputs": [
    {
     "name": "stdout",
     "output_type": "stream",
     "text": [
      "(5000, 401, 21)\n",
      "(1753, 401, 21)\n",
      "(2127, 401, 21)\n",
      "(1114, 401, 21)\n"
     ]
    }
   ],
   "source": [
    "print(X_nomt_train.shape)\n",
    "print(X_nomt_test.shape)\n",
    "print(X_free.shape)\n",
    "print(X_nomt_2.shape)\n"
   ]
  },
  {
   "cell_type": "code",
   "execution_count": 9,
   "id": "c42e37a5",
   "metadata": {},
   "outputs": [],
   "source": [
    "# normalise data\n",
    "norm_X_NOMT = layers.Normalization()\n",
    "norm_X_free = layers.Normalization()\n",
    "norm_X_nomt_2 = layers.Normalization()\n",
    "\n",
    "norm_X_NOMT.adapt(X_NOMT.astype(float))\n",
    "norm_X_free.adapt(X_free.astype(float))\n",
    "norm_X_nomt_2.adapt(X_nomt_2.astype(float))\n",
    "\n",
    "scaled_X_nomt_train = norm_X_NOMT(X_nomt_train)\n",
    "scaled_X_nomt_test = norm_X_NOMT(X_nomt_test)\n",
    "scaled_X_free = norm_X_free(X_free)\n",
    "scaled_X_nomt_2 = norm_X_nomt_2(X_nomt_2)\n"
   ]
  },
  {
   "cell_type": "markdown",
   "metadata": {
    "collapsed": false,
    "pycharm": {
     "name": "#%% md\n"
    }
   },
   "source": [
    "# Helper functions"
   ]
  },
  {
   "cell_type": "code",
   "execution_count": 10,
   "metadata": {
    "collapsed": false,
    "pycharm": {
     "name": "#%%\n"
    }
   },
   "outputs": [],
   "source": [
    "def calc_reconstruction_error(ae, A, B, pr=True):\n",
    "    err = []\n",
    "    err2 = []\n",
    "    for i in A:\n",
    "        # need to expand here because the flatten layer assumes that the first dimension is the number of samples\n",
    "        i = np.expand_dims(i, axis=0)\n",
    "        err.append((np.square(i - ae.call(i))).mean())\n",
    "    print(\"###################\")\n",
    "\n",
    "    for j in B:\n",
    "        j = np.expand_dims(j, axis=0)\n",
    "        err2.append((np.square(j - ae.call(j))).mean())\n",
    "    if pr:\n",
    "        print(\"Mean reconstruction errors : \")\n",
    "        print(np.array(err).mean())\n",
    "        print(np.array(err2).mean())\n",
    "    return err, err2\n"
   ]
  },
  {
   "cell_type": "code",
   "execution_count": 11,
   "id": "bb00e051",
   "metadata": {},
   "outputs": [],
   "source": [
    "def calc_accuracy(model, A, B, th):\n",
    "    \"\"\"function to compute the accuracy of event classification by thresholding the reconstruction error\"\"\"\n",
    "    a, b = calc_reconstruction_error(model, A, B, pr=False)\n",
    "    first = [1 if i < th else 0 for i in a]\n",
    "    last = [1 if i > th else 0 for i in b]\n",
    "    last2 = [0 if i > th else 1 for i in b]\n",
    "    return sum(np.concatenate((first, last))) / len(\n",
    "        np.concatenate((first, last))\n",
    "    ), np.concatenate((first, last2))\n"
   ]
  },
  {
   "cell_type": "code",
   "execution_count": 12,
   "id": "c8891100",
   "metadata": {},
   "outputs": [],
   "source": [
    "def train_model(ae, X_train, X_test, lr, epochs, bs):\n",
    "    hist = ae.fit(\n",
    "        X_train,\n",
    "        X_train,\n",
    "        epochs=epochs,\n",
    "        batch_size=bs,\n",
    "        shuffle=True,\n",
    "        validation_data=(X_test, X_test),\n",
    "    )\n",
    "\n",
    "    plt.plot(hist.history[\"loss\"])\n",
    "    plt.plot(hist.history[\"val_loss\"])\n",
    "    plt.title(\"loss\")\n",
    "    plt.ylabel(\"loss\")\n",
    "    plt.xlabel(\"epoch\")\n",
    "    plt.legend([\"train\", \"test\"], loc=\"upper left\")\n",
    "    plt.show()\n",
    "    return (\n",
    "        hist.history[\"loss\"],\n",
    "        hist.history[\"val_loss\"],\n",
    "        lr.learning_rate.numpy(),\n",
    "        epochs,\n",
    "        bs,\n",
    "    )\n"
   ]
  },
  {
   "cell_type": "code",
   "execution_count": 13,
   "id": "10710817",
   "metadata": {},
   "outputs": [],
   "source": [
    "def print_and_calc_results(model, A, A_title, B, B_title, scale=True):\n",
    "    ar1, ar2 = calc_reconstruction_error(model, A, B, pr=False)\n",
    "    print(\"Reconstruction Error of :\")\n",
    "    print(A_title)\n",
    "    print(\"Mean\")\n",
    "    print(np.mean(ar1))\n",
    "    print(\"Median\")\n",
    "    print(np.median(ar1))\n",
    "    print(\"Reconstruction Error of :\")\n",
    "    print(B_title)\n",
    "    print(\"Mean\")\n",
    "    print(np.mean(ar2))\n",
    "    print(\"Median\")\n",
    "    print(np.median(ar2))\n",
    "\n",
    "    if scale:\n",
    "        _ = plt.hist(ar1, bins=100, range=(0, 2), label=A_title)\n",
    "        _ = plt.hist(ar2, bins=100, range=(0, 2), label=B_title)\n",
    "        plt.title(\"Histogram of Reconstruction error\")\n",
    "        plt.xlim((0, 2))\n",
    "        plt.legend()\n",
    "        plt.xlabel(\"reconstruction error\")\n",
    "        plt.ylabel(\"frequency\")\n",
    "        plt.show()\n",
    "    else:\n",
    "        _ = plt.hist(ar1, bins=200, range=(0, 500), label=A_title)\n",
    "        _ = plt.hist(ar2, bins=200, range=(0, 500), label=B_title)\n",
    "        plt.title(\"Histogram of Reconstruction error\")\n",
    "        plt.xlabel(\"reconstruction error\")\n",
    "        plt.ylabel(\"frequency\")\n",
    "        plt.legend()\n",
    "        plt.show()\n"
   ]
  },
  {
   "cell_type": "code",
   "execution_count": 14,
   "id": "339a0195",
   "metadata": {},
   "outputs": [],
   "source": [
    "def acc_over_n_runs(ae, A, B, th, n):\n",
    "    A = A.numpy()\n",
    "    B = B.numpy()\n",
    "    erg = []\n",
    "    for i in np.arange(n):\n",
    "        np.take(A, np.random.permutation(A.shape[0]), axis=0, out=A)\n",
    "        np.take(B, np.random.permutation(B.shape[0]), axis=0, out=B)\n",
    "        acc, _ = calc_accuracy(ae, A[:500], B[:500], th)\n",
    "        erg.append(acc)\n",
    "    print(erg)\n",
    "    print(f\"Final acc over {n} runs:\", np.mean(erg))\n"
   ]
  },
  {
   "cell_type": "markdown",
   "metadata": {
    "collapsed": false,
    "pycharm": {
     "name": "#%% md\n"
    }
   },
   "source": [
    "# Convolutional Autoencoder"
   ]
  },
  {
   "cell_type": "code",
   "execution_count": 15,
   "metadata": {
    "collapsed": false,
    "pycharm": {
     "name": "#%%\n"
    }
   },
   "outputs": [],
   "source": [
    "keras.backend.clear_session()\n",
    "encoding_dim = 50\n",
    "\n",
    "\n",
    "class ConvAutoencoder(Model):\n",
    "    def __init__(self, encoding_dim):\n",
    "        super(ConvAutoencoder, self).__init__()\n",
    "        self.encoder = tf.keras.Sequential(\n",
    "            [\n",
    "                layers.Input(\n",
    "                    shape=(X_nomt_train.shape[1], X_nomt_train.shape[2])\n",
    "                ),  # 401, 21\n",
    "                layers.Conv1D(42, 3, activation=None, padding=\"same\"),\n",
    "                layers.LeakyReLU(),\n",
    "                layers.MaxPooling1D(pool_size=2, padding=\"same\"),\n",
    "                layers.Conv1D(84, 3, activation=None, padding=\"same\"),\n",
    "                layers.LeakyReLU(),\n",
    "                layers.MaxPooling1D(pool_size=2, padding=\"same\"),\n",
    "                layers.ZeroPadding1D(padding=((1,0))),\n",
    "                layers.Flatten(),\n",
    "                layers.Dense(encoding_dim, activation=\"relu\"),\n",
    "            ]\n",
    "        )\n",
    "\n",
    "        self.decoder = tf.keras.Sequential(\n",
    "            [\n",
    "                layers.Dense(101 * 84, activation=\"relu\", use_bias=False),\n",
    "                layers.Reshape((101, 84)),\n",
    "                layers.Conv1DTranspose(\n",
    "                    84, kernel_size=3, activation=None, padding=\"same\"\n",
    "                ),\n",
    "                layers.LeakyReLU(),\n",
    "                layers.UpSampling1D(),\n",
    "                layers.Conv1DTranspose(\n",
    "                    42, kernel_size=3, activation=None, padding=\"same\"\n",
    "                ),\n",
    "                layers.LeakyReLU(),\n",
    "                layers.UpSampling1D(),\n",
    "                layers.Conv1D(\n",
    "                    X_nomt_train.shape[2],\n",
    "                    kernel_size=3,\n",
    "                    activation=None,\n",
    "                    padding=\"same\",\n",
    "                ),\n",
    "                layers.Cropping1D(cropping=(2, 1)),\n",
    "            ]\n",
    "        )\n",
    "\n",
    "    def call(self, x):\n",
    "        encoded = self.encoder(x)\n",
    "        decoded = self.decoder(encoded)\n",
    "        return decoded\n",
    "\n",
    "\n",
    "conv_autoencoder = ConvAutoencoder(encoding_dim)\n"
   ]
  },
  {
   "cell_type": "code",
   "execution_count": 16,
   "metadata": {
    "collapsed": false,
    "pycharm": {
     "name": "#%%\n"
    }
   },
   "outputs": [],
   "source": [
    "opt = keras.optimizers.Adam(learning_rate=1e-3)\n",
    "conv_autoencoder.compile(optimizer=opt, loss=losses.MeanSquaredError())\n"
   ]
  },
  {
   "cell_type": "code",
   "execution_count": 17,
   "id": "af0ab5ff",
   "metadata": {},
   "outputs": [
    {
     "name": "stdout",
     "output_type": "stream",
     "text": [
      "Model: \"sequential\"\n",
      "_________________________________________________________________\n",
      " Layer (type)                Output Shape              Param #   \n",
      "=================================================================\n",
      " conv1d (Conv1D)             (None, 401, 42)           2688      \n",
      "                                                                 \n",
      " leaky_re_lu (LeakyReLU)     (None, 401, 42)           0         \n",
      "                                                                 \n",
      " max_pooling1d (MaxPooling1D  (None, 201, 42)          0         \n",
      " )                                                               \n",
      "                                                                 \n",
      " conv1d_1 (Conv1D)           (None, 201, 84)           10668     \n",
      "                                                                 \n",
      " leaky_re_lu_1 (LeakyReLU)   (None, 201, 84)           0         \n",
      "                                                                 \n",
      " max_pooling1d_1 (MaxPooling  (None, 101, 84)          0         \n",
      " 1D)                                                             \n",
      "                                                                 \n",
      " zero_padding1d (ZeroPadding  (None, 102, 84)          0         \n",
      " 1D)                                                             \n",
      "                                                                 \n",
      " flatten (Flatten)           (None, 8568)              0         \n",
      "                                                                 \n",
      " dense (Dense)               (None, 50)                428450    \n",
      "                                                                 \n",
      "=================================================================\n",
      "Total params: 441,806\n",
      "Trainable params: 441,806\n",
      "Non-trainable params: 0\n",
      "_________________________________________________________________\n"
     ]
    }
   ],
   "source": [
    "conv_autoencoder.encoder.summary()\n"
   ]
  },
  {
   "cell_type": "code",
   "execution_count": 18,
   "id": "2428e7bb",
   "metadata": {},
   "outputs": [],
   "source": [
    "# conv_autoencoder.decoder.summary()\n"
   ]
  },
  {
   "cell_type": "code",
   "execution_count": 19,
   "metadata": {
    "collapsed": false,
    "pycharm": {
     "name": "#%%\n"
    }
   },
   "outputs": [
    {
     "name": "stdout",
     "output_type": "stream",
     "text": [
      "Epoch 1/10\n",
      "20/20 [==============================] - 7s 224ms/step - loss: 0.8135 - val_loss: 0.6655\n",
      "Epoch 2/10\n",
      "20/20 [==============================] - 4s 201ms/step - loss: 0.5827 - val_loss: 0.5335\n",
      "Epoch 3/10\n",
      "20/20 [==============================] - 4s 202ms/step - loss: 0.4985 - val_loss: 0.4862\n",
      "Epoch 4/10\n",
      "20/20 [==============================] - 4s 203ms/step - loss: 0.4630 - val_loss: 0.4578\n",
      "Epoch 5/10\n",
      "20/20 [==============================] - 4s 202ms/step - loss: 0.4357 - val_loss: 0.4363\n",
      "Epoch 6/10\n",
      "20/20 [==============================] - 4s 211ms/step - loss: 0.4154 - val_loss: 0.4204\n",
      "Epoch 7/10\n",
      "20/20 [==============================] - 4s 207ms/step - loss: 0.4026 - val_loss: 0.4110\n",
      "Epoch 8/10\n",
      "20/20 [==============================] - 4s 210ms/step - loss: 0.3925 - val_loss: 0.4017\n",
      "Epoch 9/10\n",
      "20/20 [==============================] - 4s 208ms/step - loss: 0.3822 - val_loss: 0.3943\n",
      "Epoch 10/10\n",
      "20/20 [==============================] - 4s 204ms/step - loss: 0.3715 - val_loss: 0.3806\n"
     ]
    },
    {
     "data": {
      "image/png": "[encoded data removed]",
      "text/plain": [
       "<Figure size 640x480 with 1 Axes>"
      ]
     },
     "metadata": {},
     "output_type": "display_data"
    },
    {
     "data": {
      "text/plain": [
       "([0.8135282397270203,\n",
       "  0.5826852917671204,\n",
       "  0.49847617745399475,\n",
       "  0.46297216415405273,\n",
       "  0.43570587038993835,\n",
       "  0.41536349058151245,\n",
       "  0.4026184380054474,\n",
       "  0.39251938462257385,\n",
       "  0.3822208046913147,\n",
       "  0.37147653102874756],\n",
       " [0.6654620170593262,\n",
       "  0.5335392951965332,\n",
       "  0.48618391156196594,\n",
       "  0.45784005522727966,\n",
       "  0.43627625703811646,\n",
       "  0.42035049200057983,\n",
       "  0.41095858812332153,\n",
       "  0.40171340107917786,\n",
       "  0.3942781388759613,\n",
       "  0.38064613938331604],\n",
       " 0.001,\n",
       " 10,\n",
       " 256)"
      ]
     },
     "execution_count": 19,
     "metadata": {},
     "output_type": "execute_result"
    }
   ],
   "source": [
    "train_model(\n",
    "    conv_autoencoder, scaled_X_nomt_train, scaled_X_nomt_test, opt, epochs=10, bs=256\n",
    ")\n"
   ]
  },
  {
   "cell_type": "code",
   "execution_count": 20,
   "metadata": {
    "collapsed": false,
    "pycharm": {
     "name": "#%%\n"
    }
   },
   "outputs": [
    {
     "name": "stdout",
     "output_type": "stream",
     "text": [
      "###################\n",
      "Reconstruction Error of :\n",
      "X_nomt_test\n",
      "Mean\n",
      "0.37679493\n",
      "Median\n",
      "0.24682906\n",
      "Reconstruction Error of :\n",
      "X_free\n",
      "Mean\n",
      "0.7393466\n",
      "Median\n",
      "0.7001207\n"
     ]
    },
    {
     "data": {
      "image/png": "[encoded data removed]",
      "text/plain": [
       "<Figure size 640x480 with 1 Axes>"
      ]
     },
     "metadata": {},
     "output_type": "display_data"
    }
   ],
   "source": [
    "print_and_calc_results(\n",
    "    conv_autoencoder,\n",
    "    scaled_X_nomt_test[:500],\n",
    "    \"X_nomt_test\",\n",
    "    scaled_X_free[:500],\n",
    "    \"X_free\",\n",
    ")\n"
   ]
  },
  {
   "cell_type": "code",
   "execution_count": 21,
   "metadata": {
    "collapsed": false,
    "pycharm": {
     "name": "#%%\n"
    }
   },
   "outputs": [
    {
     "name": "stdout",
     "output_type": "stream",
     "text": [
      "###################\n",
      "###################\n",
      "###################\n",
      "###################\n",
      "###################\n",
      "###################\n",
      "###################\n",
      "###################\n",
      "###################\n",
      "###################\n",
      "[0.849, 0.867, 0.881, 0.852, 0.866, 0.866, 0.859, 0.87, 0.87, 0.861]\n",
      "Final acc over 10 runs: 0.8641\n"
     ]
    }
   ],
   "source": [
    "acc_over_n_runs(conv_autoencoder, scaled_X_nomt_test, scaled_X_free, 0.4, 10)\n"
   ]
  },
  {
   "cell_type": "code",
   "execution_count": 22,
   "metadata": {
    "collapsed": false,
    "pycharm": {
     "name": "#%%\n"
    }
   },
   "outputs": [],
   "source": [
    "# calc_accuracy(test_error, freeform_error, 1)\n"
   ]
  },
  {
   "attachments": {},
   "cell_type": "markdown",
   "id": "79b72e98",
   "metadata": {},
   "source": [
    "# Convolutional Autoencoder - Variants\n",
    "## Increased encoding space"
   ]
  },
  {
   "cell_type": "code",
   "execution_count": 23,
   "metadata": {
    "collapsed": false,
    "pycharm": {
     "name": "#%%\n"
    }
   },
   "outputs": [],
   "source": [
    "conv_autoencoder = ConvAutoencoder(encoding_dim=256)\n",
    "\n",
    "opt = keras.optimizers.Adam(learning_rate=1e-3)\n",
    "conv_autoencoder.compile(optimizer=opt, loss=losses.MeanSquaredError())\n"
   ]
  },
  {
   "cell_type": "code",
   "execution_count": 24,
   "id": "2a05706a",
   "metadata": {},
   "outputs": [
    {
     "name": "stdout",
     "output_type": "stream",
     "text": [
      "Epoch 1/10\n",
      "20/20 [==============================] - 6s 212ms/step - loss: 0.7806 - val_loss: 0.5688\n",
      "Epoch 2/10\n",
      "20/20 [==============================] - 4s 192ms/step - loss: 0.5106 - val_loss: 0.4682\n",
      "Epoch 3/10\n",
      "20/20 [==============================] - 4s 191ms/step - loss: 0.4447 - val_loss: 0.4318\n",
      "Epoch 4/10\n",
      "20/20 [==============================] - 4s 193ms/step - loss: 0.4141 - val_loss: 0.4103\n",
      "Epoch 5/10\n",
      "20/20 [==============================] - 4s 196ms/step - loss: 0.3910 - val_loss: 0.3938\n",
      "Epoch 6/10\n",
      "20/20 [==============================] - 4s 198ms/step - loss: 0.3676 - val_loss: 0.3742\n",
      "Epoch 7/10\n",
      "20/20 [==============================] - 4s 198ms/step - loss: 0.3476 - val_loss: 0.3602\n",
      "Epoch 8/10\n",
      "20/20 [==============================] - 4s 209ms/step - loss: 0.3324 - val_loss: 0.3470\n",
      "Epoch 9/10\n",
      "20/20 [==============================] - 4s 204ms/step - loss: 0.3185 - val_loss: 0.3323\n",
      "Epoch 10/10\n",
      "20/20 [==============================] - 4s 191ms/step - loss: 0.3028 - val_loss: 0.3220\n"
     ]
    },
    {
     "data": {
      "image/png": "[encoded data removed]",
      "text/plain": [
       "<Figure size 640x480 with 1 Axes>"
      ]
     },
     "metadata": {},
     "output_type": "display_data"
    },
    {
     "data": {
      "text/plain": [
       "([0.7805840373039246,\n",
       "  0.5105975866317749,\n",
       "  0.4446594715118408,\n",
       "  0.4141421318054199,\n",
       "  0.39102426171302795,\n",
       "  0.36760619282722473,\n",
       "  0.34756505489349365,\n",
       "  0.33239269256591797,\n",
       "  0.3185243606567383,\n",
       "  0.30284470319747925],\n",
       " [0.5687934160232544,\n",
       "  0.46821820735931396,\n",
       "  0.4317881166934967,\n",
       "  0.41034188866615295,\n",
       "  0.3938276469707489,\n",
       "  0.37419283390045166,\n",
       "  0.3602091372013092,\n",
       "  0.34699341654777527,\n",
       "  0.332285612821579,\n",
       "  0.3220120072364807],\n",
       " 0.001,\n",
       " 10,\n",
       " 256)"
      ]
     },
     "execution_count": 24,
     "metadata": {},
     "output_type": "execute_result"
    }
   ],
   "source": [
    "train_model(\n",
    "    conv_autoencoder, scaled_X_nomt_train, scaled_X_nomt_test, opt, epochs=10, bs=256\n",
    ")\n"
   ]
  },
  {
   "cell_type": "code",
   "execution_count": 25,
   "id": "9d556e0a",
   "metadata": {},
   "outputs": [
    {
     "name": "stdout",
     "output_type": "stream",
     "text": [
      "###################\n",
      "Reconstruction Error of :\n",
      "X_nomt_test\n",
      "Mean\n",
      "0.31403485\n",
      "Median\n",
      "0.21806341\n",
      "Reconstruction Error of :\n",
      "X_free\n",
      "Mean\n",
      "0.6344425\n",
      "Median\n",
      "0.596506\n"
     ]
    },
    {
     "data": {
      "image/png": "[encoded data removed]",
      "text/plain": [
       "<Figure size 640x480 with 1 Axes>"
      ]
     },
     "metadata": {},
     "output_type": "display_data"
    }
   ],
   "source": [
    "print_and_calc_results(\n",
    "    conv_autoencoder,\n",
    "    scaled_X_nomt_test[:500],\n",
    "    \"X_nomt_test\",\n",
    "    scaled_X_free[:500],\n",
    "    \"X_free\",\n",
    ")\n"
   ]
  },
  {
   "cell_type": "code",
   "execution_count": 26,
   "id": "9aa14e89",
   "metadata": {},
   "outputs": [
    {
     "name": "stdout",
     "output_type": "stream",
     "text": [
      "###################\n",
      "###################\n",
      "###################\n",
      "###################\n",
      "###################\n",
      "###################\n",
      "###################\n",
      "###################\n",
      "###################\n",
      "###################\n",
      "[0.9, 0.88, 0.868, 0.898, 0.893, 0.902, 0.899, 0.896, 0.887, 0.888]\n",
      "Final acc over 10 runs: 0.8911\n"
     ]
    }
   ],
   "source": [
    "acc_over_n_runs(conv_autoencoder, scaled_X_nomt_test, scaled_X_free, 0.4, 10)\n"
   ]
  },
  {
   "attachments": {},
   "cell_type": "markdown",
   "id": "16b69881",
   "metadata": {},
   "source": [
    "## More layers"
   ]
  },
  {
   "cell_type": "code",
   "execution_count": 27,
   "id": "279d9922",
   "metadata": {},
   "outputs": [],
   "source": [
    "keras.backend.clear_session()\n",
    "encoding_dim = 50\n",
    "\n",
    "\n",
    "class ConvAutoencoder(Model):\n",
    "    def __init__(self, encoding_dim):\n",
    "        super(ConvAutoencoder, self).__init__()\n",
    "        self.encoder = tf.keras.Sequential(\n",
    "            [\n",
    "                layers.Input(\n",
    "                    shape=(X_nomt_train.shape[1], X_nomt_train.shape[2])\n",
    "                ),  # 401, 21\n",
    "                layers.Conv1D(42, 3, activation=None, padding=\"same\"),\n",
    "                layers.LeakyReLU(),\n",
    "                layers.MaxPooling1D(pool_size=2, padding=\"same\"),\n",
    "                layers.Conv1D(84, 3, activation=None, padding=\"same\"),\n",
    "                layers.LeakyReLU(),\n",
    "                layers.MaxPooling1D(pool_size=2, padding=\"same\"),\n",
    "                layers.Conv1D(168, 3, activation=None, padding=\"same\"),\n",
    "                layers.LeakyReLU(),\n",
    "                layers.MaxPooling1D(pool_size=2, padding=\"same\"),\n",
    "                layers.ZeroPadding1D(padding=((1,0))),\n",
    "                layers.Flatten(),\n",
    "                layers.Dense(encoding_dim, activation=\"relu\"),\n",
    "            ]\n",
    "        )\n",
    "\n",
    "        self.decoder = tf.keras.Sequential(\n",
    "            [\n",
    "                layers.Dense(51 * 168, activation=\"relu\", use_bias=False),\n",
    "                layers.Reshape((51, 168)),\n",
    "                layers.Conv1DTranspose(\n",
    "                    168, kernel_size=3, activation=None, padding=\"same\"\n",
    "                ),\n",
    "                layers.LeakyReLU(),\n",
    "                layers.UpSampling1D(),\n",
    "                layers.Conv1DTranspose(\n",
    "                    84, kernel_size=3, activation=None, padding=\"same\"\n",
    "                ),\n",
    "                layers.LeakyReLU(),\n",
    "                layers.UpSampling1D(),\n",
    "                layers.Conv1DTranspose(\n",
    "                    42, kernel_size=3, activation=None, padding=\"same\"\n",
    "                ),\n",
    "                layers.LeakyReLU(),\n",
    "                layers.UpSampling1D(),\n",
    "                layers.Conv1D(\n",
    "                    X_nomt_train.shape[2],\n",
    "                    kernel_size=3,\n",
    "                    activation=None,\n",
    "                    padding=\"same\",\n",
    "                ),\n",
    "                layers.Cropping1D(cropping=(6, 1)),\n",
    "            ]\n",
    "        )\n",
    "\n",
    "    def call(self, x):\n",
    "        encoded = self.encoder(x)\n",
    "        decoded = self.decoder(encoded)\n",
    "        return decoded\n",
    "\n",
    "\n",
    "conv_autoencoder = ConvAutoencoder(encoding_dim)\n"
   ]
  },
  {
   "cell_type": "code",
   "execution_count": 28,
   "id": "cdf4e83f",
   "metadata": {},
   "outputs": [],
   "source": [
    "opt = keras.optimizers.Adam(learning_rate=1e-3)\n",
    "conv_autoencoder.compile(optimizer=opt, loss=losses.MeanSquaredError())\n"
   ]
  },
  {
   "cell_type": "code",
   "execution_count": 29,
   "id": "c0e1fb5c",
   "metadata": {},
   "outputs": [
    {
     "name": "stdout",
     "output_type": "stream",
     "text": [
      "Model: \"sequential\"\n",
      "_________________________________________________________________\n",
      " Layer (type)                Output Shape              Param #   \n",
      "=================================================================\n",
      " conv1d (Conv1D)             (None, 401, 42)           2688      \n",
      "                                                                 \n",
      " leaky_re_lu (LeakyReLU)     (None, 401, 42)           0         \n",
      "                                                                 \n",
      " max_pooling1d (MaxPooling1D  (None, 201, 42)          0         \n",
      " )                                                               \n",
      "                                                                 \n",
      " conv1d_1 (Conv1D)           (None, 201, 84)           10668     \n",
      "                                                                 \n",
      " leaky_re_lu_1 (LeakyReLU)   (None, 201, 84)           0         \n",
      "                                                                 \n",
      " max_pooling1d_1 (MaxPooling  (None, 101, 84)          0         \n",
      " 1D)                                                             \n",
      "                                                                 \n",
      " conv1d_2 (Conv1D)           (None, 101, 168)          42504     \n",
      "                                                                 \n",
      " leaky_re_lu_2 (LeakyReLU)   (None, 101, 168)          0         \n",
      "                                                                 \n",
      " max_pooling1d_2 (MaxPooling  (None, 51, 168)          0         \n",
      " 1D)                                                             \n",
      "                                                                 \n",
      " zero_padding1d (ZeroPadding  (None, 52, 168)          0         \n",
      " 1D)                                                             \n",
      "                                                                 \n",
      " flatten (Flatten)           (None, 8736)              0         \n",
      "                                                                 \n",
      " dense (Dense)               (None, 50)                436850    \n",
      "                                                                 \n",
      "=================================================================\n",
      "Total params: 492,710\n",
      "Trainable params: 492,710\n",
      "Non-trainable params: 0\n",
      "_________________________________________________________________\n"
     ]
    }
   ],
   "source": [
    "conv_autoencoder.encoder.summary()\n"
   ]
  },
  {
   "cell_type": "code",
   "execution_count": 30,
   "id": "8888c3df",
   "metadata": {},
   "outputs": [],
   "source": [
    "# conv_autoencoder.decoder.summary()\n"
   ]
  },
  {
   "cell_type": "code",
   "execution_count": 31,
   "id": "ce0bc17a",
   "metadata": {},
   "outputs": [
    {
     "name": "stdout",
     "output_type": "stream",
     "text": [
      "Epoch 1/10\n",
      "20/20 [==============================] - 7s 272ms/step - loss: 0.8508 - val_loss: 0.7162\n",
      "Epoch 2/10\n",
      "20/20 [==============================] - 5s 266ms/step - loss: 0.6067 - val_loss: 0.5412\n",
      "Epoch 3/10\n",
      "20/20 [==============================] - 5s 267ms/step - loss: 0.5002 - val_loss: 0.4805\n",
      "Epoch 4/10\n",
      "20/20 [==============================] - 5s 263ms/step - loss: 0.4555 - val_loss: 0.4473\n",
      "Epoch 5/10\n",
      "20/20 [==============================] - 5s 243ms/step - loss: 0.4301 - val_loss: 0.4340\n",
      "Epoch 6/10\n",
      "20/20 [==============================] - 5s 249ms/step - loss: 0.4124 - val_loss: 0.4174\n",
      "Epoch 7/10\n",
      "20/20 [==============================] - 5s 253ms/step - loss: 0.3984 - val_loss: 0.4077\n",
      "Epoch 8/10\n",
      "20/20 [==============================] - 5s 252ms/step - loss: 0.3869 - val_loss: 0.4034\n",
      "Epoch 9/10\n",
      "20/20 [==============================] - 5s 255ms/step - loss: 0.3763 - val_loss: 0.3967\n",
      "Epoch 10/10\n",
      "20/20 [==============================] - 5s 252ms/step - loss: 0.3678 - val_loss: 0.3802\n"
     ]
    },
    {
     "data": {
      "image/png": "[encoded data removed]",
      "text/plain": [
       "<Figure size 640x480 with 1 Axes>"
      ]
     },
     "metadata": {},
     "output_type": "display_data"
    },
    {
     "data": {
      "text/plain": [
       "([0.8507981300354004,\n",
       "  0.6067392230033875,\n",
       "  0.500230073928833,\n",
       "  0.455506831407547,\n",
       "  0.4301053583621979,\n",
       "  0.41242754459381104,\n",
       "  0.3984360694885254,\n",
       "  0.3869245946407318,\n",
       "  0.3762796223163605,\n",
       "  0.3678128123283386],\n",
       " [0.7161628603935242,\n",
       "  0.5411674380302429,\n",
       "  0.4805447459220886,\n",
       "  0.4472959637641907,\n",
       "  0.4339774250984192,\n",
       "  0.4174167513847351,\n",
       "  0.4077160954475403,\n",
       "  0.40340787172317505,\n",
       "  0.396673321723938,\n",
       "  0.38020583987236023],\n",
       " 0.001,\n",
       " 10,\n",
       " 256)"
      ]
     },
     "execution_count": 31,
     "metadata": {},
     "output_type": "execute_result"
    }
   ],
   "source": [
    "train_model(\n",
    "    conv_autoencoder, scaled_X_nomt_train, scaled_X_nomt_test, opt, epochs=10, bs=256\n",
    ")\n"
   ]
  },
  {
   "cell_type": "code",
   "execution_count": 32,
   "id": "5b60aa20",
   "metadata": {},
   "outputs": [
    {
     "name": "stdout",
     "output_type": "stream",
     "text": [
      "###################\n",
      "Reconstruction Error of :\n",
      "X_nomt_test\n",
      "Mean\n",
      "0.37223226\n",
      "Median\n",
      "0.24696201\n",
      "Reconstruction Error of :\n",
      "X_free\n",
      "Mean\n",
      "0.74187994\n",
      "Median\n",
      "0.6986203\n"
     ]
    },
    {
     "data": {
      "image/png": "[encoded data removed]",
      "text/plain": [
       "<Figure size 640x480 with 1 Axes>"
      ]
     },
     "metadata": {},
     "output_type": "display_data"
    }
   ],
   "source": [
    "print_and_calc_results(\n",
    "    conv_autoencoder,\n",
    "    scaled_X_nomt_test[:500],\n",
    "    \"X_nomt_test\",\n",
    "    scaled_X_free[:500],\n",
    "    \"X_free\",\n",
    ")"
   ]
  },
  {
   "cell_type": "code",
   "execution_count": 33,
   "id": "ebdf315f",
   "metadata": {},
   "outputs": [
    {
     "name": "stdout",
     "output_type": "stream",
     "text": [
      "###################\n",
      "###################\n",
      "###################\n",
      "###################\n",
      "###################\n",
      "###################\n",
      "###################\n",
      "###################\n",
      "###################\n",
      "###################\n",
      "[0.867, 0.861, 0.89, 0.864, 0.867, 0.867, 0.871, 0.859, 0.866, 0.866]\n",
      "Final acc over 10 runs: 0.8677999999999999\n"
     ]
    }
   ],
   "source": [
    "acc_over_n_runs(conv_autoencoder, scaled_X_nomt_test, scaled_X_free, 0.4, 10)\n"
   ]
  },
  {
   "cell_type": "code",
   "execution_count": null,
   "id": "44cdd272",
   "metadata": {},
   "outputs": [],
   "source": []
  }
 ],
 "metadata": {
  "kernelspec": {
   "display_name": "venv",
   "language": "python",
   "name": "python3"
  },
  "language_info": {
   "codemirror_mode": {
    "name": "ipython",
    "version": 3
   },
   "file_extension": ".py",
   "mimetype": "text/x-python",
   "name": "python",
   "nbconvert_exporter": "python",
   "pygments_lexer": "ipython3",
   "version": "3.7.7"
  },
  "vscode": {
   "interpreter": {
    "hash": "aa137f996c322d810b0ba78b9855db9c260b81f9ff796e150df9906e831bb7ab"
   }
  }
 },
 "nbformat": 4,
 "nbformat_minor": 5
}
