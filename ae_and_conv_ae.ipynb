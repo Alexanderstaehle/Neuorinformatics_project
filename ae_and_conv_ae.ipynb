{
 "cells": [
  {
   "cell_type": "code",
   "execution_count": 1,
   "outputs": [],
   "source": [
    "import os\n",
    "\n",
    "try:\n",
    "    import PyQt5.QtCore\n",
    "    %matplotlib qt\n",
    "except ImportError:\n",
    "    %matplotlib inline\n",
    "import keras\n",
    "import mne\n",
    "import numpy as np\n",
    "import pandas as pd\n",
    "from scipy.io import loadmat\n",
    "import tensorflow as tf\n",
    "import random\n",
    "\n",
    "from mne.channels import make_standard_montage\n",
    "from tensorflow.keras import layers, losses\n",
    "from tensorflow.keras.models import Model\n"
   ],
   "metadata": {
    "collapsed": false,
    "pycharm": {
     "name": "#%%\n"
    }
   }
  },
  {
   "cell_type": "code",
   "execution_count": 2,
   "outputs": [],
   "source": [
    "data_dir = os.path.dirname(\"./data/\")\n",
    "data_files = os.listdir(data_dir)"
   ],
   "metadata": {
    "collapsed": false,
    "pycharm": {
     "name": "#%%\n"
    }
   }
  },
  {
   "cell_type": "code",
   "execution_count": 3,
   "outputs": [],
   "source": [
    "def annotations_from_eGUI(raw, egui):\n",
    "    codes = []\n",
    "    starts = []\n",
    "\n",
    "    current_state = None\n",
    "\n",
    "    for i in range(len(egui)):\n",
    "        if egui[i][0] != current_state:\n",
    "            starts.append(i)\n",
    "            current_state = egui[i][0]\n",
    "            codes.append(str(egui[i][0]))\n",
    "\n",
    "    starts.append(len(egui))\n",
    "    codes = np.array(codes)\n",
    "    sf = raw.info.get('sfreq')\n",
    "    starts = np.array(starts) / sf\n",
    "    durations = starts[1:] - starts[:-1]\n",
    "    starts = starts[:-1]\n",
    "\n",
    "    raw.set_annotations(mne.Annotations(onset=starts, duration=durations, description=codes))\n",
    "\n",
    "\n",
    "def raw_from_mat(file):\n",
    "    mat = loadmat(os.path.join(data_dir, file))\n",
    "\n",
    "    sampling_freq = mat[\"o\"][0][0][2][0][0]\n",
    "    n_samples = mat[\"o\"][0][0][3][0][0]\n",
    "    ch_names = [element[0][0] for element in mat[\"o\"][0][0][6]]\n",
    "\n",
    "    df = pd.DataFrame(mat[\"o\"][0][0][5], columns=ch_names)\n",
    "    df = df.drop(columns=[\"X5\"])\n",
    "    df = df.T\n",
    "    ch_names.remove(\"X5\")\n",
    "\n",
    "    ch_types = ['eeg'] * 21\n",
    "    info = mne.create_info(ch_names, ch_types=ch_types, sfreq=sampling_freq)\n",
    "    raw = mne.io.RawArray(df.to_numpy(), info)\n",
    "\n",
    "    montage = make_standard_montage(\"standard_prefixed\")\n",
    "    raw.set_montage(montage)\n",
    "\n",
    "    raw.load_data().set_eeg_reference(ref_channels='average')\n",
    "    annotations_from_eGUI(raw, mat[\"o\"][0][0][4])\n",
    "    return raw\n",
    "\n",
    "\n",
    "def filter_raw(raw):\n",
    "    return raw.load_data().filter(0.1, 30, method=\"fir\", phase=\"zero-double\")"
   ],
   "metadata": {
    "collapsed": false,
    "pycharm": {
     "name": "#%%\n"
    }
   }
  },
  {
   "cell_type": "code",
   "execution_count": 4,
   "outputs": [
    {
     "name": "stdout",
     "output_type": "stream",
     "text": [
      "Creating RawArray with float64 data, n_channels=21, n_times=664400\n",
      "    Range : 0 ... 664399 =      0.000 ...  3321.995 secs\n",
      "Ready.\n",
      "EEG channel type selected for re-referencing\n",
      "Applying average reference.\n",
      "Applying a custom ('EEG',) reference.\n",
      "Creating RawArray with float64 data, n_channels=21, n_times=664600\n",
      "    Range : 0 ... 664599 =      0.000 ...  3322.995 secs\n",
      "Ready.\n",
      "EEG channel type selected for re-referencing\n",
      "Applying average reference.\n",
      "Applying a custom ('EEG',) reference.\n",
      "Creating RawArray with float64 data, n_channels=21, n_times=662400\n",
      "    Range : 0 ... 662399 =      0.000 ...  3311.995 secs\n",
      "Ready.\n",
      "EEG channel type selected for re-referencing\n",
      "Applying average reference.\n",
      "Applying a custom ('EEG',) reference.\n",
      "Creating RawArray with float64 data, n_channels=21, n_times=667600\n",
      "    Range : 0 ... 667599 =      0.000 ...  3337.995 secs\n",
      "Ready.\n",
      "EEG channel type selected for re-referencing\n",
      "Applying average reference.\n",
      "Applying a custom ('EEG',) reference.\n",
      "Creating RawArray with float64 data, n_channels=21, n_times=734400\n",
      "    Range : 0 ... 734399 =      0.000 ...  3671.995 secs\n",
      "Ready.\n",
      "EEG channel type selected for re-referencing\n",
      "Applying average reference.\n",
      "Applying a custom ('EEG',) reference.\n",
      "Creating RawArray with float64 data, n_channels=21, n_times=667000\n",
      "    Range : 0 ... 666999 =      0.000 ...  3334.995 secs\n",
      "Ready.\n",
      "EEG channel type selected for re-referencing\n",
      "Applying average reference.\n",
      "Applying a custom ('EEG',) reference.\n",
      "Creating RawArray with float64 data, n_channels=21, n_times=678400\n",
      "    Range : 0 ... 678399 =      0.000 ...  3391.995 secs\n",
      "Ready.\n",
      "EEG channel type selected for re-referencing\n",
      "Applying average reference.\n",
      "Applying a custom ('EEG',) reference.\n",
      "Creating RawArray with float64 data, n_channels=21, n_times=475000\n",
      "    Range : 0 ... 474999 =      0.000 ...  2374.995 secs\n",
      "Ready.\n",
      "EEG channel type selected for re-referencing\n",
      "Applying average reference.\n",
      "Applying a custom ('EEG',) reference.\n",
      "Creating RawArray with float64 data, n_channels=21, n_times=391800\n",
      "    Range : 0 ... 391799 =      0.000 ...  1958.995 secs\n",
      "Ready.\n",
      "EEG channel type selected for re-referencing\n",
      "Applying average reference.\n",
      "Applying a custom ('EEG',) reference.\n",
      "Creating RawArray with float64 data, n_channels=21, n_times=285800\n",
      "    Range : 0 ... 285799 =      0.000 ...  1428.995 secs\n",
      "Ready.\n",
      "EEG channel type selected for re-referencing\n",
      "Applying average reference.\n",
      "Applying a custom ('EEG',) reference.\n"
     ]
    }
   ],
   "source": [
    "raw_NoMT = [raw_from_mat(file) for file in data_files if \"NoMT\" in file]\n",
    "raw_FREEFORM = [raw_from_mat(file) for file in data_files if \"FREEFORM\" in file]"
   ],
   "metadata": {
    "collapsed": false,
    "pycharm": {
     "name": "#%%\n"
    }
   }
  },
  {
   "cell_type": "code",
   "execution_count": 5,
   "outputs": [],
   "source": [
    "def get_epochs(raw, event_id):\n",
    "    metadata_tmin, metadata_tmax = -1, 1\n",
    "    all_events, all_event_id = mne.events_from_annotations(raw, event_id=event_id)\n",
    "    metadata, events, event_id = mne.epochs.make_metadata(\n",
    "        events=all_events,\n",
    "        event_id=event_id,\n",
    "        tmin=metadata_tmin,\n",
    "        tmax=metadata_tmax,\n",
    "        sfreq=raw.info[\"sfreq\"],\n",
    "    )\n",
    "    print(raw.info[\"sfreq\"])\n",
    "    return mne.Epochs(raw, events, event_id)\n"
   ],
   "metadata": {
    "collapsed": false,
    "pycharm": {
     "name": "#%%\n"
    }
   }
  },
  {
   "cell_type": "code",
   "execution_count": 6,
   "outputs": [
    {
     "name": "stdout",
     "output_type": "stream",
     "text": [
      "Used Annotations descriptions: ['0']\n",
      "200.0\n",
      "Not setting metadata\n",
      "966 matching events found\n",
      "Setting baseline interval to [-0.2, 0.0] sec\n",
      "Applying baseline correction (mode: mean)\n",
      "0 projection items activated\n",
      "Used Annotations descriptions: ['0']\n",
      "200.0\n",
      "Not setting metadata\n",
      "960 matching events found\n",
      "Setting baseline interval to [-0.2, 0.0] sec\n",
      "Applying baseline correction (mode: mean)\n",
      "0 projection items activated\n",
      "Used Annotations descriptions: ['0']\n",
      "200.0\n",
      "Not setting metadata\n",
      "963 matching events found\n",
      "Setting baseline interval to [-0.2, 0.0] sec\n",
      "Applying baseline correction (mode: mean)\n",
      "0 projection items activated\n",
      "Used Annotations descriptions: ['0']\n",
      "200.0\n",
      "Not setting metadata\n",
      "968 matching events found\n",
      "Setting baseline interval to [-0.2, 0.0] sec\n",
      "Applying baseline correction (mode: mean)\n",
      "0 projection items activated\n",
      "Used Annotations descriptions: ['0']\n",
      "200.0\n",
      "Not setting metadata\n",
      "968 matching events found\n",
      "Setting baseline interval to [-0.2, 0.0] sec\n",
      "Applying baseline correction (mode: mean)\n",
      "0 projection items activated\n",
      "Used Annotations descriptions: ['0']\n",
      "200.0\n",
      "Not setting metadata\n",
      "968 matching events found\n",
      "Setting baseline interval to [-0.2, 0.0] sec\n",
      "Applying baseline correction (mode: mean)\n",
      "0 projection items activated\n",
      "Used Annotations descriptions: ['0']\n",
      "200.0\n",
      "Not setting metadata\n",
      "967 matching events found\n",
      "Setting baseline interval to [-0.2, 0.0] sec\n",
      "Applying baseline correction (mode: mean)\n",
      "0 projection items activated\n",
      "Used Annotations descriptions: ['1', '2']\n",
      "200.0\n",
      "Not setting metadata\n",
      "739 matching events found\n",
      "Setting baseline interval to [-0.2, 0.0] sec\n",
      "Applying baseline correction (mode: mean)\n",
      "0 projection items activated\n",
      "Used Annotations descriptions: ['1', '2']\n",
      "200.0\n",
      "Not setting metadata\n",
      "688 matching events found\n",
      "Setting baseline interval to [-0.2, 0.0] sec\n",
      "Applying baseline correction (mode: mean)\n",
      "0 projection items activated\n",
      "Used Annotations descriptions: ['1', '2']\n",
      "200.0\n",
      "Not setting metadata\n",
      "700 matching events found\n",
      "Setting baseline interval to [-0.2, 0.0] sec\n",
      "Applying baseline correction (mode: mean)\n",
      "0 projection items activated\n",
      "Used Annotations descriptions: ['2']\n",
      "200.0\n",
      "Not setting metadata\n",
      "159 matching events found\n",
      "Setting baseline interval to [-0.2, 0.0] sec\n",
      "Applying baseline correction (mode: mean)\n",
      "0 projection items activated\n",
      "Used Annotations descriptions: ['2']\n",
      "200.0\n",
      "Not setting metadata\n",
      "157 matching events found\n",
      "Setting baseline interval to [-0.2, 0.0] sec\n",
      "Applying baseline correction (mode: mean)\n",
      "0 projection items activated\n",
      "Used Annotations descriptions: ['2']\n",
      "200.0\n",
      "Not setting metadata\n",
      "158 matching events found\n",
      "Setting baseline interval to [-0.2, 0.0] sec\n",
      "Applying baseline correction (mode: mean)\n",
      "0 projection items activated\n",
      "Used Annotations descriptions: ['2']\n",
      "200.0\n",
      "Not setting metadata\n",
      "159 matching events found\n",
      "Setting baseline interval to [-0.2, 0.0] sec\n",
      "Applying baseline correction (mode: mean)\n",
      "0 projection items activated\n",
      "Used Annotations descriptions: ['2']\n",
      "200.0\n",
      "Not setting metadata\n",
      "159 matching events found\n",
      "Setting baseline interval to [-0.2, 0.0] sec\n",
      "Applying baseline correction (mode: mean)\n",
      "0 projection items activated\n",
      "Used Annotations descriptions: ['2']\n",
      "200.0\n",
      "Not setting metadata\n",
      "163 matching events found\n",
      "Setting baseline interval to [-0.2, 0.0] sec\n",
      "Applying baseline correction (mode: mean)\n",
      "0 projection items activated\n",
      "Used Annotations descriptions: ['2']\n",
      "200.0\n",
      "Not setting metadata\n",
      "159 matching events found\n",
      "Setting baseline interval to [-0.2, 0.0] sec\n",
      "Applying baseline correction (mode: mean)\n",
      "0 projection items activated\n"
     ]
    }
   ],
   "source": [
    "epochs_NoMT = [get_epochs(file, {\"0\": 1}) for file in raw_NoMT]\n",
    "epochs_FREEFORM = [get_epochs(file, {'1': 2, '2': 3}) for file in raw_FREEFORM]\n",
    "epochs_NOMT_only_code_2 = [get_epochs(file, {\"2\": 3}) for file in raw_NoMT]"
   ],
   "metadata": {
    "collapsed": false,
    "pycharm": {
     "name": "#%%\n"
    }
   }
  },
  {
   "cell_type": "code",
   "execution_count": 7,
   "outputs": [
    {
     "name": "stdout",
     "output_type": "stream",
     "text": [
      "Using data from preloaded Raw for 966 events and 141 original time points ...\n",
      "1 bad epochs dropped\n"
     ]
    },
    {
     "data": {
      "text/plain": "865.3172938443672"
     },
     "execution_count": 7,
     "metadata": {},
     "output_type": "execute_result"
    }
   ],
   "source": [
    "epochs_NoMT[0].get_data().max()"
   ],
   "metadata": {
    "collapsed": false,
    "pycharm": {
     "name": "#%%\n"
    }
   }
  },
  {
   "cell_type": "code",
   "execution_count": 8,
   "outputs": [
    {
     "name": "stdout",
     "output_type": "stream",
     "text": [
      "Using data from preloaded Raw for 739 events and 141 original time points ...\n",
      "0 bad epochs dropped\n"
     ]
    },
    {
     "data": {
      "text/plain": "83.5072706155633"
     },
     "execution_count": 8,
     "metadata": {},
     "output_type": "execute_result"
    }
   ],
   "source": [
    "epochs_FREEFORM[0].get_data().max()"
   ],
   "metadata": {
    "collapsed": false,
    "pycharm": {
     "name": "#%%\n"
    }
   }
  },
  {
   "cell_type": "code",
   "execution_count": 9,
   "outputs": [
    {
     "name": "stdout",
     "output_type": "stream",
     "text": [
      "Using data from preloaded Raw for 965 events and 141 original time points ...\n",
      "Using data from preloaded Raw for 960 events and 141 original time points ...\n",
      "1 bad epochs dropped\n",
      "Using data from preloaded Raw for 963 events and 141 original time points ...\n",
      "1 bad epochs dropped\n",
      "Using data from preloaded Raw for 968 events and 141 original time points ...\n",
      "1 bad epochs dropped\n",
      "Using data from preloaded Raw for 968 events and 141 original time points ...\n",
      "1 bad epochs dropped\n",
      "Using data from preloaded Raw for 968 events and 141 original time points ...\n",
      "1 bad epochs dropped\n",
      "Using data from preloaded Raw for 967 events and 141 original time points ...\n",
      "1 bad epochs dropped\n",
      "Using data from preloaded Raw for 739 events and 141 original time points ...\n",
      "Using data from preloaded Raw for 688 events and 141 original time points ...\n",
      "0 bad epochs dropped\n",
      "Using data from preloaded Raw for 700 events and 141 original time points ...\n",
      "0 bad epochs dropped\n",
      "Using data from preloaded Raw for 159 events and 141 original time points ...\n",
      "0 bad epochs dropped\n",
      "Using data from preloaded Raw for 157 events and 141 original time points ...\n",
      "0 bad epochs dropped\n",
      "Using data from preloaded Raw for 158 events and 141 original time points ...\n",
      "0 bad epochs dropped\n",
      "Using data from preloaded Raw for 159 events and 141 original time points ...\n",
      "0 bad epochs dropped\n",
      "Using data from preloaded Raw for 159 events and 141 original time points ...\n",
      "0 bad epochs dropped\n",
      "Using data from preloaded Raw for 163 events and 141 original time points ...\n",
      "0 bad epochs dropped\n",
      "Using data from preloaded Raw for 159 events and 141 original time points ...\n",
      "0 bad epochs dropped\n"
     ]
    }
   ],
   "source": [
    "epochs_data_NOMT = [file.get_data() for file in epochs_NoMT]\n",
    "epochs_data_FREEFORM = [file.get_data() for file in epochs_FREEFORM]\n",
    "epochs_Data_NOMT_2 = [file.get_data() for file in epochs_NOMT_only_code_2]"
   ],
   "metadata": {
    "collapsed": false,
    "pycharm": {
     "name": "#%%\n"
    }
   }
  },
  {
   "cell_type": "code",
   "execution_count": 10,
   "outputs": [],
   "source": [
    "stacked_NOMT = np.vstack(epochs_data_NOMT)\n",
    "stacked_FREEFORM = np.vstack(epochs_data_FREEFORM)\n",
    "stacked_NOMT_2 = np.vstack(epochs_Data_NOMT_2)"
   ],
   "metadata": {
    "collapsed": false,
    "pycharm": {
     "name": "#%%\n"
    }
   }
  },
  {
   "cell_type": "code",
   "execution_count": 11,
   "outputs": [
    {
     "name": "stdout",
     "output_type": "stream",
     "text": [
      "(6753, 21, 141)\n",
      "(2127, 21, 141)\n",
      "(1114, 21, 141)\n"
     ]
    }
   ],
   "source": [
    "print(stacked_NOMT.shape)\n",
    "print(stacked_FREEFORM.shape)\n",
    "print(stacked_NOMT_2.shape)"
   ],
   "metadata": {
    "collapsed": false,
    "pycharm": {
     "name": "#%%\n"
    }
   }
  },
  {
   "cell_type": "code",
   "execution_count": 12,
   "outputs": [],
   "source": [
    "# import matplotlib.pyplot as plt\n",
    "#\n",
    "# plt.hist(stacked_NOMT.reshape(-1), bins=np.arange(-25, 25), density=True)\n",
    "# plt.hist(stacked_FREEFORM.reshape(-1), bins=np.arange(-25, 25), density=True)\n",
    "# #plt.hist(stacked_NOMT_2.reshape(-1), bins=np.arange(-25,25),density=True)\n",
    "# plt.show()"
   ],
   "metadata": {
    "collapsed": false,
    "pycharm": {
     "name": "#%%\n"
    }
   }
  },
  {
   "cell_type": "code",
   "execution_count": 13,
   "outputs": [],
   "source": [
    "np.random.shuffle(stacked_NOMT)\n",
    "np.random.shuffle(stacked_FREEFORM)\n",
    "np.random.shuffle(stacked_NOMT_2)\n"
   ],
   "metadata": {
    "collapsed": false,
    "pycharm": {
     "name": "#%%\n"
    }
   }
  },
  {
   "cell_type": "code",
   "execution_count": 14,
   "outputs": [],
   "source": [
    "X_nomt_train = stacked_NOMT[:5000]\n",
    "X_nomt_test = stacked_NOMT[5000:]"
   ],
   "metadata": {
    "collapsed": false,
    "pycharm": {
     "name": "#%%\n"
    }
   }
  },
  {
   "cell_type": "code",
   "execution_count": 15,
   "outputs": [],
   "source": [
    "X_free = stacked_FREEFORM"
   ],
   "metadata": {
    "collapsed": false,
    "pycharm": {
     "name": "#%%\n"
    }
   }
  },
  {
   "cell_type": "code",
   "execution_count": 16,
   "outputs": [],
   "source": [
    "X_nomt_2 = stacked_NOMT_2\n"
   ],
   "metadata": {
    "collapsed": false,
    "pycharm": {
     "name": "#%%\n"
    }
   }
  },
  {
   "cell_type": "code",
   "execution_count": 17,
   "outputs": [],
   "source": [
    "# make Freeform test set same length as NoMT\n",
    "idy = random.sample(range(0, len(X_free)), X_nomt_test.shape[0])\n",
    "X_free_test = X_free[idy]"
   ],
   "metadata": {
    "collapsed": false,
    "pycharm": {
     "name": "#%%\n"
    }
   }
  },
  {
   "cell_type": "code",
   "execution_count": 18,
   "outputs": [
    {
     "name": "stdout",
     "output_type": "stream",
     "text": [
      "(5000, 21, 141)\n",
      "(1753, 21, 141)\n",
      "(1753, 21, 141)\n",
      "(1114, 21, 141)\n"
     ]
    }
   ],
   "source": [
    "print(X_nomt_train.shape)\n",
    "print(X_nomt_test.shape)\n",
    "print(X_free_test.shape)\n",
    "print(X_nomt_2.shape)"
   ],
   "metadata": {
    "collapsed": false,
    "pycharm": {
     "name": "#%%\n"
    }
   }
  },
  {
   "cell_type": "markdown",
   "source": [
    "# Helper functions"
   ],
   "metadata": {
    "collapsed": false,
    "pycharm": {
     "name": "#%% md\n"
    }
   }
  },
  {
   "cell_type": "code",
   "execution_count": 19,
   "outputs": [],
   "source": [
    "def calc_accuracy(a, b, th):\n",
    "    first = [1 if i < th else 0 for i in a]\n",
    "    last = [1 if i > th else 0 for i in b]\n",
    "    return sum(first + last) / len(first + last)"
   ],
   "metadata": {
    "collapsed": false,
    "pycharm": {
     "name": "#%%\n"
    }
   }
  },
  {
   "cell_type": "code",
   "execution_count": 20,
   "outputs": [],
   "source": [
    "def calc_reconstruction_error(ae, A, B):\n",
    "    err = []\n",
    "    err2 = []\n",
    "    for i in A:\n",
    "        # need to expand here because the flatten layer assumes that the first dimension is the number of samples\n",
    "        i = np.expand_dims(i, axis=0)\n",
    "        err.append((np.square(i - ae.call(i))).mean())\n",
    "    print(\"###################\")\n",
    "\n",
    "    for j in B:\n",
    "        j = np.expand_dims(j, axis=0)\n",
    "        err2.append((np.square(j - ae.call(j))).mean())\n",
    "    print(\"##############\")\n",
    "    print(np.array(err).mean())\n",
    "    print(np.array(err2).mean())\n",
    "    return err, err2"
   ],
   "metadata": {
    "collapsed": false,
    "pycharm": {
     "name": "#%%\n"
    }
   }
  },
  {
   "cell_type": "markdown",
   "source": [
    "# Standard Autoencoder"
   ],
   "metadata": {
    "collapsed": false,
    "pycharm": {
     "name": "#%% md\n"
    }
   }
  },
  {
   "cell_type": "code",
   "execution_count": 21,
   "outputs": [
    {
     "name": "stdout",
     "output_type": "stream",
     "text": [
      "[[[ -1.05243902  -1.00339141   0.74470383 ...  -6.89053426  -5.99624855\n",
      "    -5.30005807]\n",
      "  [ -4.25609756  -5.85704994  -3.9389547  ... -13.3841928  -13.06990708\n",
      "   -13.69371661]\n",
      "  [  2.19780488   1.8068525    1.57494774 ...  -3.30029036   3.50399535\n",
      "    -0.93981417]\n",
      "  ...\n",
      "  [ -0.83195122  -1.8529036   -0.73480836 ...  -6.71004646  -5.75576074\n",
      "    -5.93957027]\n",
      "  [ -4.5404878   -4.62144019  -6.53334495 ...  -2.44858304  -1.09429733\n",
      "    -0.25810685]\n",
      "  [  0.15512195   2.02416957  -1.53773519 ...   1.34702671   1.96131243\n",
      "     1.9175029 ]]\n",
      "\n",
      " [[  5.06401858  -1.32455285 -13.53455285 ... -13.9869338   -3.03312427\n",
      "    -5.75074332]\n",
      "  [ -0.53159117   3.2198374    0.3298374  ...  -9.04254355  -9.17873403\n",
      "   -13.72635308]\n",
      "  [ -2.88890825  -2.21747967   0.99252033 ...   2.63013937  -0.1760511\n",
      "     4.13632985]\n",
      "  ...\n",
      "  [ -1.58183508  -3.9504065   -3.2404065  ...  -6.29278746  -6.48897793\n",
      "    -7.57659698]\n",
      "  [ -3.30012776  -2.00869919  -2.32869919 ...  -5.97108014  -7.94727062\n",
      "    -8.96488966]\n",
      "  [ -2.16671312  -1.41528455  -0.39528455 ...   3.12233449   0.53614402\n",
      "    -0.56147503]]\n",
      "\n",
      " [[  4.91363531   1.68934959 -12.93303136 ... -13.70731707 -13.45779326\n",
      "     2.11173055]\n",
      "  [ -5.90173055 -12.46601626  -2.44839721 ... -13.65268293 -16.78315912\n",
      "    -9.78363531]\n",
      "  [  1.71900116 -12.62528455  -7.90766551 ...  -4.06195122   4.94757259\n",
      "     1.2470964 ]\n",
      "  ...\n",
      "  [ -2.83636469  -3.62065041  -1.25303136 ...  -4.46731707   1.41220674\n",
      "    -0.94826945]\n",
      "  [ -1.65392567  -1.40821138  -0.63059233 ...   4.53512195   5.97464576\n",
      "     2.33416957]\n",
      "  [  3.26192799   7.64764228   4.52526132 ...   2.68097561   2.21049942\n",
      "     1.45002323]]\n",
      "\n",
      " ...\n",
      "\n",
      " [[ -2.8324971   -8.05963995  -7.39630662 ...   3.982741     1.34512195\n",
      "    -0.93583043]\n",
      "  [ -4.32908246  -6.51622532  -4.73289199 ...  -7.10384437  -3.96146341\n",
      "    -2.5324158 ]\n",
      "  [  1.84969803  -0.22744483   0.4558885  ...  -4.20506388  -0.70268293\n",
      "    -1.65363531]\n",
      "  ...\n",
      "  [  0.11335656  -1.6937863   -2.40045296 ...  -4.01140534  -4.03902439\n",
      "    -3.50997677]\n",
      "  [  7.04042973   7.53328688   7.02662021 ...   0.38566783  -0.33195122\n",
      "    -0.1829036 ]\n",
      "  [  6.88994193   7.70279907   6.6961324  ...   3.47518002   3.84756098\n",
      "     3.61660859]]\n",
      "\n",
      " [[  2.70576074   1.64337979   4.07766551 ...  -2.69138211  -1.06995354\n",
      "    -2.28423926]\n",
      "  [ -0.34326365  -3.7056446    1.73864111 ...  -2.6204065   -5.83897793\n",
      "    -8.11326365]\n",
      "  [  1.60966318  -0.29271777   3.62156794 ...   1.43252033   2.7139489\n",
      "     0.37966318]\n",
      "  ...\n",
      "  [  2.09015099   2.16777003   4.54205575 ...  -0.95699187  -0.3555633\n",
      "    -0.80984901]\n",
      "  [  0.25722416   1.39484321   1.16912892 ...   0.8600813    1.74150987\n",
      "     2.72722416]\n",
      "  [ -1.10399535   0.75362369  -0.90209059 ...   0.46886179   2.71029036\n",
      "     4.87600465]]\n",
      "\n",
      " [[  3.25275261  -1.54105691  -8.72962834 ...   1.22799071   5.36608595\n",
      "    11.7384669 ]\n",
      "  [  3.35250871  -2.54130081  -5.59987224 ...  -0.91225319  -8.68415796\n",
      "     9.608223  ]\n",
      "  [ -5.73724739  -1.14105691   2.01037166 ...   0.99799071   7.80608595\n",
      "     5.7584669 ]\n",
      "  ...\n",
      "  [ -5.06919861  -2.52300813  -3.09157956 ...   1.54603949   2.98413473\n",
      "     2.67651568]\n",
      "  [ -9.43554007  -7.68934959  -5.16792102 ...  -1.82030197  -1.51220674\n",
      "    -4.99982578]\n",
      "  [ -4.03554007  -2.39934959   1.07207898 ...  -6.03030197  -6.48220674\n",
      "   -11.21982578]]]\n",
      "747.3898838559813\n",
      "153.28042973286878\n",
      "48.96082\n",
      "23.772148\n"
     ]
    }
   ],
   "source": [
    "norm_layer_nomt = layers.Normalization()\n",
    "norm_layer_free = layers.Normalization()\n",
    "norm_layer_nomt_2 = layers.Normalization()\n",
    "\n",
    "norm_layer_nomt.adapt(X_nomt_train.astype(float))\n",
    "norm_layer_free.adapt(X_free_test.astype(float))\n",
    "norm_layer_nomt_2.adapt(X_nomt_2.astype(float))\n",
    "\n",
    "print(X_nomt_train)\n",
    "print(np.max(X_nomt_train))\n",
    "print(np.max(X_free_test))\n",
    "print(np.max(norm_layer_nomt(X_nomt_train)))\n",
    "print(np.max(norm_layer_free(X_free_test)))"
   ],
   "metadata": {
    "collapsed": false,
    "pycharm": {
     "name": "#%%\n"
    }
   }
  },
  {
   "cell_type": "code",
   "execution_count": 22,
   "outputs": [],
   "source": [
    "scaled_X_nomt_train = norm_layer_nomt(X_nomt_train)\n",
    "scaled_X_nomt_test = norm_layer_nomt(X_nomt_test)\n",
    "scaled_X_free = norm_layer_free(X_free_test)\n",
    "scaled_X_nomt_2 = norm_layer_nomt_2(X_nomt_2)"
   ],
   "metadata": {
    "collapsed": false,
    "pycharm": {
     "name": "#%%\n"
    }
   }
  },
  {
   "cell_type": "code",
   "execution_count": 23,
   "outputs": [],
   "source": [
    "keras.backend.clear_session()\n",
    "\n",
    "\n",
    "class Autoencoder(Model):\n",
    "    def __init__(self):\n",
    "        super(Autoencoder, self).__init__()\n",
    "        self.encoder = tf.keras.Sequential([\n",
    "            layers.Flatten(),\n",
    "            layers.Dense(1024, activation='gelu'),\n",
    "            layers.Dense(512, activation='gelu'),\n",
    "            layers.Dense(64, activation='gelu'),\n",
    "        ])\n",
    "        self.decoder = tf.keras.Sequential([\n",
    "            layers.Dense(512, activation='gelu'),\n",
    "            layers.Dense(1024, activation='gelu'),\n",
    "            layers.Dense(21 * 141, activation='linear'),\n",
    "            layers.Reshape((21, 141))\n",
    "        ])\n",
    "\n",
    "    def call(self, x):\n",
    "        encoded = self.encoder(x)\n",
    "        decoded = self.decoder(encoded)\n",
    "        return decoded\n",
    "\n",
    "\n",
    "autoencoder = Autoencoder()"
   ],
   "metadata": {
    "collapsed": false,
    "pycharm": {
     "name": "#%%\n"
    }
   }
  },
  {
   "cell_type": "code",
   "execution_count": 24,
   "outputs": [
    {
     "name": "stdout",
     "output_type": "stream",
     "text": [
      "Epoch 1/10\n",
      "79/79 [==============================] - 3s 29ms/step - loss: 0.5941 - val_loss: 0.5534\n",
      "Epoch 2/10\n",
      "79/79 [==============================] - 2s 27ms/step - loss: 0.4914 - val_loss: 0.4680\n",
      "Epoch 3/10\n",
      "79/79 [==============================] - 2s 27ms/step - loss: 0.4545 - val_loss: 0.4828\n",
      "Epoch 4/10\n",
      "79/79 [==============================] - 2s 27ms/step - loss: 0.4030 - val_loss: 0.4221\n",
      "Epoch 5/10\n",
      "79/79 [==============================] - 2s 26ms/step - loss: 0.4210 - val_loss: 0.4616\n",
      "Epoch 6/10\n",
      "79/79 [==============================] - 2s 26ms/step - loss: 0.4360 - val_loss: 0.4831\n",
      "Epoch 7/10\n",
      "79/79 [==============================] - 2s 26ms/step - loss: 0.3996 - val_loss: 0.4256\n",
      "Epoch 8/10\n",
      "79/79 [==============================] - 2s 26ms/step - loss: 0.3789 - val_loss: 0.4395\n",
      "Epoch 9/10\n",
      "79/79 [==============================] - 2s 28ms/step - loss: 0.3816 - val_loss: 0.3929\n",
      "Epoch 10/10\n",
      "79/79 [==============================] - 2s 28ms/step - loss: 0.3629 - val_loss: 0.4131\n"
     ]
    },
    {
     "data": {
      "text/plain": "<keras.callbacks.History at 0x170456dbd08>"
     },
     "execution_count": 24,
     "metadata": {},
     "output_type": "execute_result"
    }
   ],
   "source": [
    "opt = keras.optimizers.Adam(learning_rate=1e-3)\n",
    "autoencoder.compile(optimizer=opt, loss=losses.MeanSquaredError())\n",
    "autoencoder.fit(scaled_X_nomt_train, scaled_X_nomt_train,\n",
    "                epochs=10,\n",
    "                batch_size=64,\n",
    "                shuffle=True,\n",
    "                validation_data=(scaled_X_nomt_test[:1000], scaled_X_nomt_test[:1000]))"
   ],
   "metadata": {
    "collapsed": false,
    "pycharm": {
     "name": "#%%\n"
    }
   }
  },
  {
   "cell_type": "code",
   "execution_count": 25,
   "outputs": [
    {
     "name": "stdout",
     "output_type": "stream",
     "text": [
      "###################\n",
      "##############\n",
      "0.388851\n",
      "0.6554856\n",
      "###################\n",
      "##############\n",
      "0.388851\n",
      "0.41024154\n"
     ]
    }
   ],
   "source": [
    "test_error,freeform_error=calc_reconstruction_error(autoencoder, scaled_X_nomt_test, scaled_X_free)\n",
    "test_error_1, test_error_2 = calc_reconstruction_error(autoencoder, scaled_X_nomt_test, scaled_X_nomt_2)\n"
   ],
   "metadata": {
    "collapsed": false,
    "pycharm": {
     "name": "#%%\n"
    }
   }
  },
  {
   "cell_type": "code",
   "execution_count": 26,
   "outputs": [
    {
     "name": "stdout",
     "output_type": "stream",
     "text": [
      "0.7635482030804336\n",
      "0.5755144750610394\n"
     ]
    }
   ],
   "source": [
    "print(calc_accuracy(test_error, freeform_error, np.mean([np.array(test_error).mean(), np.array(freeform_error).mean()])))\n",
    "print(calc_accuracy(test_error_1, test_error_2, np.mean([np.array(test_error_1).mean(), np.array(test_error_2).mean()])))\n"
   ],
   "metadata": {
    "collapsed": false,
    "pycharm": {
     "name": "#%%\n"
    }
   }
  },
  {
   "cell_type": "code",
   "execution_count": 27,
   "outputs": [
    {
     "data": {
      "text/plain": "0.5022818026240731"
     },
     "execution_count": 27,
     "metadata": {},
     "output_type": "execute_result"
    }
   ],
   "source": [
    "calc_accuracy(test_error, freeform_error, 1)"
   ],
   "metadata": {
    "collapsed": false,
    "pycharm": {
     "name": "#%%\n"
    }
   }
  },
  {
   "cell_type": "markdown",
   "source": [
    "# Convolutional Autoencoder"
   ],
   "metadata": {
    "collapsed": false,
    "pycharm": {
     "name": "#%% md\n"
    }
   }
  },
  {
   "cell_type": "code",
   "execution_count": 28,
   "outputs": [
    {
     "name": "stdout",
     "output_type": "stream",
     "text": [
      "(5000, 141, 21)\n",
      "(1753, 141, 21)\n",
      "(1753, 141, 21)\n",
      "(1114, 141, 21)\n"
     ]
    }
   ],
   "source": [
    "X_nomt_train = np.moveaxis(X_nomt_train, 1, 2)\n",
    "X_nomt_test = np.moveaxis(X_nomt_test, 1, 2)\n",
    "X_free_test = np.moveaxis(X_free_test, 1, 2)\n",
    "X_nomt_2 = np.moveaxis(X_nomt_2, 1, 2)\n",
    "print(X_nomt_train.shape)\n",
    "print(X_nomt_test.shape)\n",
    "print(X_free_test.shape)\n",
    "print(X_nomt_2.shape)"
   ],
   "metadata": {
    "collapsed": false,
    "pycharm": {
     "name": "#%%\n"
    }
   }
  },
  {
   "cell_type": "code",
   "execution_count": 29,
   "outputs": [
    {
     "name": "stdout",
     "output_type": "stream",
     "text": [
      "[[[ -1.05243902  -4.25609756   2.19780488 ...  -0.83195122  -4.5404878\n",
      "     0.15512195]\n",
      "  [ -1.00339141  -5.85704994   1.8068525  ...  -1.8529036   -4.62144019\n",
      "     2.02416957]\n",
      "  [  0.74470383  -3.9389547    1.57494774 ...  -0.73480836  -6.53334495\n",
      "    -1.53773519]\n",
      "  ...\n",
      "  [ -6.89053426 -13.3841928   -3.30029036 ...  -6.71004646  -2.44858304\n",
      "     1.34702671]\n",
      "  [ -5.99624855 -13.06990708   3.50399535 ...  -5.75576074  -1.09429733\n",
      "     1.96131243]\n",
      "  [ -5.30005807 -13.69371661  -0.93981417 ...  -5.93957027  -0.25810685\n",
      "     1.9175029 ]]\n",
      "\n",
      " [[  5.06401858  -0.53159117  -2.88890825 ...  -1.58183508  -3.30012776\n",
      "    -2.16671312]\n",
      "  [ -1.32455285   3.2198374   -2.21747967 ...  -3.9504065   -2.00869919\n",
      "    -1.41528455]\n",
      "  [-13.53455285   0.3298374    0.99252033 ...  -3.2404065   -2.32869919\n",
      "    -0.39528455]\n",
      "  ...\n",
      "  [-13.9869338   -9.04254355   2.63013937 ...  -6.29278746  -5.97108014\n",
      "     3.12233449]\n",
      "  [ -3.03312427  -9.17873403  -0.1760511  ...  -6.48897793  -7.94727062\n",
      "     0.53614402]\n",
      "  [ -5.75074332 -13.72635308   4.13632985 ...  -7.57659698  -8.96488966\n",
      "    -0.56147503]]\n",
      "\n",
      " [[  4.91363531  -5.90173055   1.71900116 ...  -2.83636469  -1.65392567\n",
      "     3.26192799]\n",
      "  [  1.68934959 -12.46601626 -12.62528455 ...  -3.62065041  -1.40821138\n",
      "     7.64764228]\n",
      "  [-12.93303136  -2.44839721  -7.90766551 ...  -1.25303136  -0.63059233\n",
      "     4.52526132]\n",
      "  ...\n",
      "  [-13.70731707 -13.65268293  -4.06195122 ...  -4.46731707   4.53512195\n",
      "     2.68097561]\n",
      "  [-13.45779326 -16.78315912   4.94757259 ...   1.41220674   5.97464576\n",
      "     2.21049942]\n",
      "  [  2.11173055  -9.78363531   1.2470964  ...  -0.94826945   2.33416957\n",
      "     1.45002323]]\n",
      "\n",
      " ...\n",
      "\n",
      " [[ -2.8324971   -4.32908246   1.84969803 ...   0.11335656   7.04042973\n",
      "     6.88994193]\n",
      "  [ -8.05963995  -6.51622532  -0.22744483 ...  -1.6937863    7.53328688\n",
      "     7.70279907]\n",
      "  [ -7.39630662  -4.73289199   0.4558885  ...  -2.40045296   7.02662021\n",
      "     6.6961324 ]\n",
      "  ...\n",
      "  [  3.982741    -7.10384437  -4.20506388 ...  -4.01140534   0.38566783\n",
      "     3.47518002]\n",
      "  [  1.34512195  -3.96146341  -0.70268293 ...  -4.03902439  -0.33195122\n",
      "     3.84756098]\n",
      "  [ -0.93583043  -2.5324158   -1.65363531 ...  -3.50997677  -0.1829036\n",
      "     3.61660859]]\n",
      "\n",
      " [[  2.70576074  -0.34326365   1.60966318 ...   2.09015099   0.25722416\n",
      "    -1.10399535]\n",
      "  [  1.64337979  -3.7056446   -0.29271777 ...   2.16777003   1.39484321\n",
      "     0.75362369]\n",
      "  [  4.07766551   1.73864111   3.62156794 ...   4.54205575   1.16912892\n",
      "    -0.90209059]\n",
      "  ...\n",
      "  [ -2.69138211  -2.6204065    1.43252033 ...  -0.95699187   0.8600813\n",
      "     0.46886179]\n",
      "  [ -1.06995354  -5.83897793   2.7139489  ...  -0.3555633    1.74150987\n",
      "     2.71029036]\n",
      "  [ -2.28423926  -8.11326365   0.37966318 ...  -0.80984901   2.72722416\n",
      "     4.87600465]]\n",
      "\n",
      " [[  3.25275261   3.35250871  -5.73724739 ...  -5.06919861  -9.43554007\n",
      "    -4.03554007]\n",
      "  [ -1.54105691  -2.54130081  -1.14105691 ...  -2.52300813  -7.68934959\n",
      "    -2.39934959]\n",
      "  [ -8.72962834  -5.59987224   2.01037166 ...  -3.09157956  -5.16792102\n",
      "     1.07207898]\n",
      "  ...\n",
      "  [  1.22799071  -0.91225319   0.99799071 ...   1.54603949  -1.82030197\n",
      "    -6.03030197]\n",
      "  [  5.36608595  -8.68415796   7.80608595 ...   2.98413473  -1.51220674\n",
      "    -6.48220674]\n",
      "  [ 11.7384669    9.608223     5.7584669  ...   2.67651568  -4.99982578\n",
      "   -11.21982578]]]\n",
      "747.3898838559813\n",
      "153.28042973286878\n",
      "68.28259\n",
      "13.572641\n"
     ]
    }
   ],
   "source": [
    "norm_layer_nomt = layers.Normalization()\n",
    "norm_layer_free = layers.Normalization()\n",
    "norm_layer_nomt_2 = layers.Normalization()\n",
    "\n",
    "norm_layer_nomt.adapt(X_nomt_train.astype(float))\n",
    "norm_layer_free.adapt(X_free_test.astype(float))\n",
    "norm_layer_nomt_2.adapt(X_nomt_2.astype(float))\n",
    "\n",
    "print(X_nomt_train)\n",
    "print(np.max(X_nomt_train))\n",
    "print(np.max(X_free_test))\n",
    "print(np.max(norm_layer_nomt(X_nomt_train)))\n",
    "print(np.max(norm_layer_free(X_free_test)))"
   ],
   "metadata": {
    "collapsed": false,
    "pycharm": {
     "name": "#%%\n"
    }
   }
  },
  {
   "cell_type": "code",
   "execution_count": 30,
   "outputs": [],
   "source": [
    "scaled_X_nomt_train = norm_layer_nomt(X_nomt_train)\n",
    "scaled_X_nomt_test = norm_layer_nomt(X_nomt_test)\n",
    "scaled_X_free = norm_layer_free(X_free_test)\n",
    "scaled_X_nomt_2 = norm_layer_nomt_2(X_nomt_2)"
   ],
   "metadata": {
    "collapsed": false,
    "pycharm": {
     "name": "#%%\n"
    }
   }
  },
  {
   "cell_type": "code",
   "execution_count": 31,
   "outputs": [],
   "source": [
    "keras.backend.clear_session()\n",
    "\n",
    "\n",
    "class ConvAutoencoder(Model):\n",
    "    def __init__(self):\n",
    "        super(ConvAutoencoder, self).__init__()\n",
    "        self.encoder = tf.keras.Sequential([\n",
    "            layers.Input(shape=(X_nomt_train.shape[1], X_nomt_train.shape[2])),  # 141, 21\n",
    "            layers.Conv1D(14, 3, activation=None, padding='same', strides=1),\n",
    "            layers.LeakyReLU(),\n",
    "            layers.Conv1D(7, 3, activation=None, padding='same', strides=1),\n",
    "            layers.LeakyReLU(),\n",
    "        ])\n",
    "\n",
    "        self.decoder = tf.keras.Sequential([\n",
    "            layers.Conv1DTranspose(7, kernel_size=3, strides=1, activation=None, padding='same'),\n",
    "            layers.LeakyReLU(),\n",
    "            layers.Conv1DTranspose(14, kernel_size=3, strides=1, activation=None, padding='same'),\n",
    "            layers.LeakyReLU(),\n",
    "            layers.Conv1D(X_nomt_train.shape[2], kernel_size=3, activation=None, padding='same'),\n",
    "        ])\n",
    "\n",
    "    def call(self, x):\n",
    "        encoded = self.encoder(x)\n",
    "        decoded = self.decoder(encoded)\n",
    "        return decoded\n",
    "\n",
    "\n",
    "conv_autoencoder = ConvAutoencoder()\n"
   ],
   "metadata": {
    "collapsed": false,
    "pycharm": {
     "name": "#%%\n"
    }
   }
  },
  {
   "cell_type": "code",
   "execution_count": 32,
   "outputs": [
    {
     "name": "stdout",
     "output_type": "stream",
     "text": [
      "Model: \"sequential\"\n",
      "_________________________________________________________________\n",
      " Layer (type)                Output Shape              Param #   \n",
      "=================================================================\n",
      " conv1d (Conv1D)             (None, 141, 14)           896       \n",
      "                                                                 \n",
      " leaky_re_lu (LeakyReLU)     (None, 141, 14)           0         \n",
      "                                                                 \n",
      " conv1d_1 (Conv1D)           (None, 141, 7)            301       \n",
      "                                                                 \n",
      " leaky_re_lu_1 (LeakyReLU)   (None, 141, 7)            0         \n",
      "                                                                 \n",
      "=================================================================\n",
      "Total params: 1,197\n",
      "Trainable params: 1,197\n",
      "Non-trainable params: 0\n",
      "_________________________________________________________________\n"
     ]
    }
   ],
   "source": [
    "conv_autoencoder.encoder.summary()"
   ],
   "metadata": {
    "collapsed": false,
    "pycharm": {
     "name": "#%%\n"
    }
   }
  },
  {
   "cell_type": "code",
   "execution_count": 33,
   "outputs": [],
   "source": [
    "opt = keras.optimizers.Adam(learning_rate=1e-3)\n",
    "conv_autoencoder.compile(optimizer=opt, loss=losses.MeanSquaredError())"
   ],
   "metadata": {
    "collapsed": false,
    "pycharm": {
     "name": "#%%\n"
    }
   }
  },
  {
   "cell_type": "code",
   "execution_count": 34,
   "outputs": [
    {
     "name": "stdout",
     "output_type": "stream",
     "text": [
      "Epoch 1/10\n",
      "79/79 [==============================] - 1s 11ms/step - loss: 0.7459 - val_loss: 0.5059\n",
      "Epoch 2/10\n",
      "79/79 [==============================] - 1s 9ms/step - loss: 0.4699 - val_loss: 0.4097\n",
      "Epoch 3/10\n",
      "79/79 [==============================] - 1s 9ms/step - loss: 0.3983 - val_loss: 0.3638\n",
      "Epoch 4/10\n",
      "79/79 [==============================] - 1s 9ms/step - loss: 0.3672 - val_loss: 0.3396\n",
      "Epoch 5/10\n",
      "79/79 [==============================] - 1s 9ms/step - loss: 0.3441 - val_loss: 0.3152\n",
      "Epoch 6/10\n",
      "79/79 [==============================] - 1s 9ms/step - loss: 0.3129 - val_loss: 0.2885\n",
      "Epoch 7/10\n",
      "79/79 [==============================] - 1s 9ms/step - loss: 0.2904 - val_loss: 0.2707\n",
      "Epoch 8/10\n",
      "79/79 [==============================] - 1s 9ms/step - loss: 0.2731 - val_loss: 0.2572\n",
      "Epoch 9/10\n",
      "79/79 [==============================] - 1s 10ms/step - loss: 0.2613 - val_loss: 0.2488\n",
      "Epoch 10/10\n",
      "79/79 [==============================] - 1s 9ms/step - loss: 0.2540 - val_loss: 0.2433\n"
     ]
    },
    {
     "data": {
      "text/plain": "<keras.callbacks.History at 0x170ae19e548>"
     },
     "execution_count": 34,
     "metadata": {},
     "output_type": "execute_result"
    }
   ],
   "source": [
    "conv_autoencoder.fit(scaled_X_nomt_train, scaled_X_nomt_train,\n",
    "                     epochs=10,\n",
    "                     batch_size=64,\n",
    "                     shuffle=True,\n",
    "                     validation_data=(scaled_X_nomt_test, scaled_X_nomt_test))"
   ],
   "metadata": {
    "collapsed": false,
    "pycharm": {
     "name": "#%%\n"
    }
   }
  },
  {
   "cell_type": "code",
   "execution_count": 35,
   "outputs": [
    {
     "name": "stdout",
     "output_type": "stream",
     "text": [
      "###################\n",
      "##############\n",
      "0.24328265\n",
      "0.3073213\n",
      "###################\n",
      "##############\n",
      "0.24328265\n",
      "0.25052208\n"
     ]
    }
   ],
   "source": [
    "test_error, freeform_error = calc_reconstruction_error(conv_autoencoder, scaled_X_nomt_test, scaled_X_free)\n",
    "test_error_1, test_error_2 = calc_reconstruction_error(conv_autoencoder, scaled_X_nomt_test, scaled_X_nomt_2)"
   ],
   "metadata": {
    "collapsed": false,
    "pycharm": {
     "name": "#%%\n"
    }
   }
  },
  {
   "cell_type": "code",
   "execution_count": 36,
   "outputs": [
    {
     "name": "stdout",
     "output_type": "stream",
     "text": [
      "0.6665715915573303\n",
      "0.5772584583188002\n"
     ]
    }
   ],
   "source": [
    "print(calc_accuracy(test_error, freeform_error, np.mean([np.array(test_error).mean(), np.array(freeform_error).mean()])))\n",
    "print(calc_accuracy(test_error_1, test_error_2, np.mean([np.array(test_error_1).mean(), np.array(test_error_2).mean()])))"
   ],
   "metadata": {
    "collapsed": false,
    "pycharm": {
     "name": "#%%\n"
    }
   }
  },
  {
   "cell_type": "code",
   "execution_count": 37,
   "outputs": [
    {
     "data": {
      "text/plain": "0.4905875641756988"
     },
     "execution_count": 37,
     "metadata": {},
     "output_type": "execute_result"
    }
   ],
   "source": [
    "calc_accuracy(test_error, freeform_error, 1)"
   ],
   "metadata": {
    "collapsed": false,
    "pycharm": {
     "name": "#%%\n"
    }
   }
  },
  {
   "cell_type": "code",
   "execution_count": 37,
   "outputs": [],
   "source": [],
   "metadata": {
    "collapsed": false,
    "pycharm": {
     "name": "#%%\n"
    }
   }
  }
 ],
 "metadata": {
  "kernelspec": {
   "display_name": "venv",
   "language": "python",
   "name": "python3"
  },
  "language_info": {
   "codemirror_mode": {
    "name": "ipython",
    "version": 3
   },
   "file_extension": ".py",
   "mimetype": "text/x-python",
   "name": "python",
   "nbconvert_exporter": "python",
   "pygments_lexer": "ipython3",
   "version": "3.7.7"
  },
  "vscode": {
   "interpreter": {
    "hash": "aa137f996c322d810b0ba78b9855db9c260b81f9ff796e150df9906e831bb7ab"
   }
  }
 },
 "nbformat": 4,
 "nbformat_minor": 5
}